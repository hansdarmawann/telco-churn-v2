{
 "cells": [
  {
   "cell_type": "markdown",
   "id": "eec3b0e7",
   "metadata": {},
   "source": [
    "# Improving Customer Churn Rate in Telecom: A Machine Learning Approach\n",
    "by Alpha Team - Abe, Alfi, Hans\n",
    "---\n",
    "## Section 1. Business Understanding\n",
    "### 1.1 Background\n",
    "Di project Capstone 3 Hans sebelumnya, prediksi telco churn dari Rule-based jadi ML berhasil menurunkan biaya CAC dan CRC sebesar 25.63%, namun churn rate-nya tidak berkurang. Impactnya apa kalo seperti ini ?\n",
    "\n",
    "### 1.2 Gap Analysis\n",
    "- Di project Capstone 3 Hans sebelumnya, prediksi telco churn dari Rule-based jadi ML berhasil menurunkan biaya CAC dan CRC sebesar 25.63%, namun churn rate-nya tidak berkurang. Impactnya apa kalo seperti ini ?\n",
    "- Dataset yang dipakai berbeda antara project lama dengan baru.\n",
    "\n",
    "### 1.3 Problem Statements\n",
    "- Apa impactnya terhadap CAC dan CRC jika Churn Rate-nya turun ?\n",
    "\n",
    "### 1.4 Goals\n",
    "...\n",
    "\n",
    "### 1.5 Analytical Approach\n",
    "...\n",
    "\n",
    "### 1.6 Metric Evaluation\n",
    "- Business Metric 1: Customer Acquistion Rate (CAC)\n",
    "    + ...\n",
    "\n",
    "- Business Metric 2: Customer Retention Rate (CRC)\n",
    "    + ...\n",
    "\n",
    "- Business Metric 3: Churn Rate\n",
    "    + ...\n",
    "\n",
    "- Machine Learning Evaluation Metric: ???\n",
    "    + ...\n",
    "\n",
    "### 1.7 Success Criteria\n",
    "..."
   ]
  }
 ],
 "metadata": {
  "language_info": {
   "name": "python"
  }
 },
 "nbformat": 4,
 "nbformat_minor": 5
}
