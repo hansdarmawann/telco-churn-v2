{
 "cells": [
  {
   "cell_type": "markdown",
   "id": "b724121c",
   "metadata": {},
   "source": [
    "# Improving Customer Churn Rate in Telecom: A Machine Learning Approach\n",
    "by JCDS2602 - Alpha Team - Abe, Alfi, Hans\n",
    "## Section 1. Business Understanding\n",
    "\n",
    "### 1.1 Background\n",
    "\n",
    "Perusahaan XYZ merupakan penyedia layanan telekomunikasi terkemuka yang dikenal karena pendekatannya yang inovatif dan berfokus pada pelanggan. Beroperasi di pasar yang sangat kompetitif, XYZ menawarkan beragam layanan seperti telepon seluler, internet broadband, dan layanan digital, yang ditujukan untuk pelanggan individu maupun bisnis. Meskipun memiliki posisi yang kuat di pasar, XYZ menghadapi tantangan besar terkait churn pelanggan, yaitu hilangnya pelanggan yang dapat berdampak langsung pada pendapatan dan pertumbuhan perusahaan. Dengan memanfaatkan analisis data dan wawasan pelanggan, XYZ berupaya mengurangi tingkat churn serta meningkatkan retensi pelanggan, guna menjaga keberlanjutan dan profitabilitas jangka panjang di industri telekomunikasi yang dinamis.\n",
    "\n",
    "Churn pelanggan di industri telekomunikasi mengacu pada tingkat pelanggan yang berhenti menggunakan layanan dalam periode waktu tertentu. Fenomena ini sangat krusial karena berdampak langsung terhadap pendapatan dan laba perusahaan. Alasan pelanggan berhenti bisa bermacam-macam, mulai dari ketidakpuasan terhadap kualitas layanan, harga yang tidak kompetitif, layanan pelanggan yang buruk, hingga penawaran menarik dari pesaing. Memahami dan mengelola churn sangat penting agar perusahaan dapat menjaga basis pelanggan yang stabil serta kesehatan finansialnya. Dalam konteks proyek ini, seorang pelanggan didefinisikan sebagai \"churn\" jika mereka tidak memperpanjang atau menghentikan layanan berlangganan mereka dalam periode tertentu.\n",
    "\n",
    "### 1.2 Gap Analysis\n",
    "\n",
    "Fokus utama dari proyek ini adalah mengubah pendekatan perusahaan dalam menangani churn pelanggan, dari yang sebelumnya bersifat reaktif menjadi strategi mitigasi risiko yang proaktif. Saat ini, perusahaan belum memiliki mekanisme yang efektif untuk mengidentifikasi pelanggan mana yang berisiko tinggi berhenti berlangganan. Akibatnya, upaya retensi sering kali dilakukan terlambat atau tidak tepat sasaran, seperti memberikan penawaran secara massal yang justru menyebabkan pemborosan anggaran.\n",
    "\n",
    "Solusi yang diusulkan adalah pengembangan strategi mitigasi churn yang cerdas, dimulai dengan identifikasi dini terhadap pelanggan berisiko tinggi. Setelah pelanggan ini dikenali, tindakan preventif seperti pemberian penawaran khusus senilai $139 dapat dialokasikan secara lebih efisien hanya kepada mereka yang memang berpotensi churn. Pendekatan ini diharapkan mampu menekan angka churn secara signifikan, sekaligus menghindari biaya akuisisi pelanggan baru yang jauh lebih mahal.\n",
    "\n",
    "Berdasarkan data industri, rata-rata **Customer Acquisition Cost (CAC)** di sektor telekomunikasi adalah sekitar **$694 per pelanggan baru**, mencakup biaya pemasaran dan penjualan hingga pelanggan resmi menggunakan layanan ([inbeat.agency](https://inbeat.agency/blog/customer-acquisition-statistics), [Investopedia](https://www.investopedia.com/terms/c/costofacquisition.asp)). Sementara itu, menurut riset dari **Simon-Kucher & Partners**, biaya untuk mempertahankan pelanggan (**Customer Retention Cost/CRC**) diperkirakan **lima kali lebih murah** dibandingkan biaya akuisisi, sehingga asumsi CRC ditetapkan sebesar **$139 per pelanggan (dibulatkan)** ([Simon-Kucher](https://www.simon-kucher.com/en/insights/cross-selling-and-upselling-telco-drive-customer-retention-and-profitability)).\n",
    "\n",
    "Untuk mendukung strategi ini, proyek bertujuan membangun alat prediksi churn berbasis data. Alat ini akan berfungsi sebagai sistem peringatan dini (*early warning system*) yang memungkinkan perusahaan untuk mengidentifikasi risiko churn secara akurat dan melakukan intervensi sebelum pelanggan benar-benar berhenti. Dengan demikian, perusahaan dapat meningkatkan efisiensi anggaran dan mempertahankan pendapatan secara lebih berkelanjutan.\n",
    "\n",
    "### 1.3 Problem Statements\n",
    "\n",
    "Perusahaan belum memiliki kemampuan yang andal untuk mengidentifikasi pelanggan yang berisiko churn maupun memahami faktor-faktor utama yang menyebabkan churn. Akibatnya, strategi retensi menjadi tidak efisien dan sering kali terlambat.\n",
    "\n",
    "Proyek ini berupaya menjawab dua pertanyaan kunci berikut:\n",
    "\n",
    "- **Bagaimana cara mengidentifikasi pelanggan yang berisiko churn secara akurat sebelum mereka berhenti berlangganan?**  \n",
    "- **Faktor-faktor apa saja yang paling berkontribusi terhadap churn, baik dari sisi demografi maupun perilaku penggunaan layanan?**\n",
    "\n",
    "\n",
    "\n",
    "### 1.4 Goals\n",
    "\n",
    "Tujuan dari proyek ini adalah membantu perusahaan mengurangi jumlah pelanggan yang berhenti berlangganan dengan cara yang lebih tepat dan efisien. Fokus utamanya adalah:\n",
    "\n",
    "- **Membuat model prediksi** yang bisa mengenali pelanggan yang berisiko churn sebelum mereka benar-benar pergi.\n",
    "- **Menemukan faktor-faktor utama** yang membuat pelanggan berhenti, seperti lama berlangganan, jumlah tagihan, jenis layanan, atau data demografi.\n",
    "- **Memberikan rekomendasi strategis** berdasarkan data, agar perusahaan bisa mengambil tindakan retensi yang lebih terarah dan hemat biaya.\n",
    "\n",
    "\n",
    "### 1.5 Analytical Approach\n",
    "Pendekatan analisis akan dilakukan dalam dua tahap utama. Pertama, akan dilakukan Analisis Data Eksploratif (EDA). Tahap ini seperti \"menggali\" data yang sudah ada untuk mencari tahu lebih dalam tentang perilaku pelanggan. Tujuannya adalah untuk menemukan pola atau ciri-ciri menarik dari pelanggan yang cenderung berhenti berlangganan. Hasil dari analisis ini bisa langsung memberikan rekomendasi awal untuk bisnis.\n",
    "\n",
    "Kedua, wawasan dari tahap pertama akan digunakan untuk membangun sebuah model klasifikasi. Sederhananya, ini adalah sistem cerdas yang dilatih untuk memprediksi pelanggan mana yang kemungkinan besar akan churn. Untuk membuktikan kegunaannya, kinerja model ini akan diukur dan dibandingkan dengan skenario \"tanpa model\", yaitu kondisi perusahaan saat ini yang tidak memiliki sistem prediksi. Perbandingan ini akan menunjukkan secara jelas keuntungan dari penerapan pendekatan berbasis data.\n",
    "\n",
    "### 1.6 Metrics Evaluation: F2-Score\n",
    "\n",
    "F2-Score adalah versi modifikasi dari F1-Score yang dirancang khusus untuk situasi di mana **Recall** dianggap lebih penting daripada Presisi. Metrik ini menggabungkan Presisi dan Recall, namun memberikan bobot empat kali lebih besar pada Recall. Hal ini menjadikannya pilihan ideal untuk skenario bisnis di mana biaya akibat gagal mendeteksi sebuah kasus (**False Negative**) jauh lebih merugikan daripada biaya akibat salah menandai (**False Positive**).\n",
    "\n",
    "Dalam konteks prediksi *churn*, kesalahan prediksi memiliki implikasi biaya yang signifikan:\n",
    "\n",
    "* **False Negative (FN):** Terjadi ketika model memprediksi pelanggan akan **tetap setia**, padahal **kenyataannya pelanggan tersebut *churn***. Ini adalah kesalahan paling merugikan karena perusahaan kehilangan pelanggan tanpa sempat melakukan tindakan pencegahan. Setiap kali terjadi FN, perusahaan kehilangan seorang pelanggan dan harus mengeluarkan biaya untuk mencari pelanggan baru, yang dikenal sebagai **Customer Acquisition Cost (CAC)**. Kami mengasumsikan biaya per kesalahan FN adalah **$694**.\n",
    "\n",
    "    $$\\text{Total Biaya FN} = \\text{Jumlah FN} \\times \\$694$$\n",
    "\n",
    "* **False Positive (FP):** Terjadi ketika model memprediksi pelanggan akan ***churn***, padahal **kenyataannya pelanggan tersebut tetap setia**. Kesalahan ini tidak separah FN, namun tetap menimbulkan biaya yang tidak perlu. Ketika terjadi FP, perusahaan akan mengeluarkan biaya untuk tindakan retensi (misalnya, memberikan diskon atau bonus) kepada pelanggan yang sebenarnya tidak berniat pergi. Biaya ini disebut **Customer Retention Cost (CRC)**. Kami mengasumsikan biaya per kesalahan FP adalah **$139**.\n",
    "\n",
    "    $$\\text{Total Biaya FP} = \\text{Jumlah FP} \\times \\$139$$\n",
    "\n",
    "Mengingat bahwa biaya akibat **False Negative (CAC)** ($694) jauh lebih tinggi daripada biaya akibat **False Positive (CRC)** ($139), sangat penting bagi model untuk meminimalkan False Negatives. F2-Score secara khusus mendorong model untuk memaksimalkan penemuan pelanggan yang berisiko *churn* (yaitu, meningkatkan Recall), sehingga secara efektif mengurangi kerugian finansial yang terkait dengan kehilangan pelanggan. Ini menjadikan F2-Score sebagai alat ukur yang paling tepat karena ia mendorong model untuk memaksimalkan deteksi pelanggan yang berisiko *churn*.\n",
    "\n",
    "$$\\text{F2-Score} = 5 \\times \\frac{\\text{Precision} \\times \\text{Recall}}{4 \\times \\text{Precision} + \\text{Recall}}$$\n",
    "\n",
    "### 1.7 Success Criteria\n",
    "\n",
    "Proyek ini dianggap berhasil jika:\n",
    "\n",
    "- **Model prediksi churn cukup akurat**, dengan F2-Score minimal 70%.\n",
    "- **Pelanggan yang berisiko churn bisa dikenali lebih awal** sebelum mereka berhenti.\n",
    "- **Faktor-faktor utama churn bisa dipahami** oleh tim bisnis, sehingga dapat digunakan untuk pengambilan keputusan."
   ]
  },
  {
   "cell_type": "markdown",
   "id": "a10d9273",
   "metadata": {},
   "source": [
    "## Section 2. Data Understanding\n",
    "### 2.1 Dataset Information"
   ]
  },
  {
   "cell_type": "code",
   "execution_count": null,
   "id": "0cc7470d",
   "metadata": {},
   "outputs": [],
   "source": [
    "import os\n",
    "import warnings\n",
    "from pathlib import Path\n",
    "\n",
    "# Suppress all warnings\n",
    "warnings.filterwarnings(\"ignore\")\n",
    "\n",
    "# Data handling\n",
    "import pandas as pd\n",
    "import numpy as np\n",
    "\n",
    "# Visualization\n",
    "import matplotlib.pyplot as plt\n",
    "import seaborn as sns\n",
    "import missingno as msno\n",
    "\n",
    "# Statistics\n",
    "from scipy.stats import spearmanr, normaltest, mannwhitneyu, kruskal\n",
    "\n",
    "# Pandas display settings\n",
    "pd.set_option(\"display.max_columns\", None)\n",
    "\n",
    "# Seaborn aesthetics\n",
    "sns.set_theme()\n",
    "\n",
    "# File path\n",
    "data_path = Path(\"../data/WA_Fn-UseC_-Telco-Customer-Churn.csv\")\n",
    "\n",
    "# Load dataset\n",
    "if data_path.exists():\n",
    "    real_df = pd.read_csv(data_path)\n",
    "    df = real_df.copy()\n",
    "    print(df.info())\n",
    "    display(df.head())\n",
    "else:\n",
    "    print(f\"File not found: {data_path}\")"
   ]
  },
  {
   "cell_type": "markdown",
   "id": "7bfc96e7",
   "metadata": {},
   "source": [
    "Berikut adalah penjelasan untuk masing-masing kolom:"
   ]
  },
  {
   "cell_type": "markdown",
   "id": "609c2443",
   "metadata": {},
   "source": [
    "<table>\n",
    "    <thead>\n",
    "        <tr>\n",
    "            <th>Kolom</th>\n",
    "            <th>Definisi</th>\n",
    "            <th>Value dan Penjelasan</th>\n",
    "        </tr>\n",
    "    </thead>\n",
    "    <tbody>\n",
    "        <tr>\n",
    "            <td><b>customerID</b></td>\n",
    "            <td>ID unik untuk setiap pelanggan.</td>\n",
    "            <td><code>Teks alfanumerik</code>: Kode unik pengenal pelanggan.</td>\n",
    "        </tr>\n",
    "        <tr>\n",
    "            <td><b>gender</b></td>\n",
    "            <td>Jenis kelamin pelanggan.</td>\n",
    "            <td><code>Male</code>: Laki-laki.<br><code>Female</code>: Perempuan.</td>\n",
    "        </tr>\n",
    "        <tr>\n",
    "            <td><b>SeniorCitizen</b></td>\n",
    "            <td>Bagaimanakah pelanggan seorang warga senior.</td>\n",
    "            <td><code>1</code>: Ya, warga senior.<br><code>0</code>: Bukan warga senior.</td>\n",
    "        </tr>\n",
    "        <tr>\n",
    "            <td><b>Partner</b></td>\n",
    "            <td>Bagaimanakah pelanggan memiliki pasangan.</td>\n",
    "            <td><code>Yes</code>: Punya pasangan.<br><code>No</code>: Tidak punya pasangan.</td>\n",
    "        </tr>\n",
    "        <tr>\n",
    "            <td><b>Dependents</b></td>\n",
    "            <td>Bagaimanakah pelanggan memiliki tanggungan.</td>\n",
    "            <td><code>Yes</code>: Punya tanggungan.<br><code>No</code>: Tidak punya tanggungan.</td>\n",
    "        </tr>\n",
    "        <tr>\n",
    "            <td><b>tenure</b></td>\n",
    "            <td>Lama berlangganan dalam bulan.</td>\n",
    "            <td><code>Numerik</code>: Jumlah bulan pelanggan bersama perusahaan.</td>\n",
    "        </tr>\n",
    "        <tr>\n",
    "            <td><b>Contract</b></td>\n",
    "            <td>Jenis kontrak berlangganan.</td>\n",
    "            <td><code>Month-to-month</code>: Kontrak bulanan.<br><code>One year</code>: Kontrak satu tahun.<br><code>Two year</code>: Kontrak dua tahun.</td>\n",
    "        </tr>\n",
    "        <tr>\n",
    "            <td><b>PaperlessBilling</b></td>\n",
    "            <td>Menggunakan tagihan elektronik.</td>\n",
    "            <td><code>Yes</code>: Tagihan via email.<br><code>No</code>: Tagihan fisik.</td>\n",
    "        </tr>\n",
    "        <tr>\n",
    "            <td><b>PaymentMethod</b></td>\n",
    "            <td>Metode pembayaran yang digunakan.</td>\n",
    "            <td><code>Electronic check</code>: Pembayaran dengan cek elektronik.<br><code>Mailed check</code>: Pembayaran dengan mengirimkan cek fisik.<br><code>Bank transfer (automatic)</code>: Pembayaran melalui transfer bank otomatis.<br><code>Credit card (automatic)</code>: Pembayaran melalui kartu kredit otomatis.</td>\n",
    "        </tr>\n",
    "        <tr>\n",
    "            <td><b>MonthlyCharges</b></td>\n",
    "            <td>Tagihan setiap bulan.</td>\n",
    "            <td><code>Numerik Desimal</code>: Total biaya bulanan untuk semua layanan.</td>\n",
    "        </tr>\n",
    "        <tr>\n",
    "            <td><b>TotalCharges</b></td>\n",
    "            <td>Total tagihan selama berlangganan.</td>\n",
    "            <td><code>Numerik Desimal</code>: Akumulasi semua tagihan bulanan.</td>\n",
    "        </tr>\n",
    "        <tr>\n",
    "            <td><b>PhoneService</b></td>\n",
    "            <td>Bagaimanakah pelanggan punya layanan telepon.</td>\n",
    "            <td><code>Yes</code>: Punya layanan telepon.<br><code>No</code>: Tidak punya.</td>\n",
    "        </tr>\n",
    "        <tr>\n",
    "            <td><b>MultipleLines</b></td>\n",
    "            <td>Bagaimanakah punya lebih dari satu saluran telepon.</td>\n",
    "            <td><code>Yes</code>: Ya.<br><code>No</code>: Punya telepon, tapi hanya 1 saluran.<br><code>No phone service</code>: Tidak punya layanan telepon.</td>\n",
    "        </tr>\n",
    "        <tr>\n",
    "            <td><b>InternetService</b></td>\n",
    "            <td>Tipe layanan internet pelanggan.</td>\n",
    "            <td><code>DSL</code>: Layanan internet melalui jalur telepon standar.<br><code>Fiber optic</code>: Layanan internet berkecepatan tinggi melalui kabel fiber optik.<br><code>No</code>: Tidak berlangganan internet.</td>\n",
    "        </tr>\n",
    "        <tr>\n",
    "            <td><b>OnlineSecurity</b></td>\n",
    "            <td>Bagaimanakah punya layanan keamanan online.</td>\n",
    "            <td><code>Yes</code>: Ya.<br><code>No</code>: Pelanggan berlangganan internet namun tidak menggunakan layanan ini.<br><code>No internet service</code>: Tidak punya layanan internet.</td>\n",
    "        </tr>\n",
    "        <tr>\n",
    "            <td><b>OnlineBackup</b></td>\n",
    "            <td>Bagaimanakah punya layanan backup online.</td>\n",
    "            <td><code>Yes</code>: Ya.<br><code>No</code>: Pelanggan berlangganan internet namun tidak menggunakan layanan ini.<br><code>No internet service</code>: Tidak punya layanan internet.</td>\n",
    "        </tr>\n",
    "        <tr>\n",
    "            <td><b>DeviceProtection</b></td>\n",
    "            <td>Bagaimanakah punya proteksi perangkat.</td>\n",
    "            <td><code>Yes</code>: Ya.<br><code>No</code>: Pelanggan berlangganan internet namun tidak menggunakan layanan ini.<br><code>No internet service</code>: Tidak punya layanan internet.</td>\n",
    "        </tr>\n",
    "        <tr>\n",
    "            <td><b>TechSupport</b></td>\n",
    "            <td>Bagaimanakah punya dukungan teknis premium.</td>\n",
    "            <td><code>Yes</code>: Ya.<br><code>No</code>: Pelanggan berlangganan internet namun tidak menggunakan layanan ini.<br><code>No internet service</code>: Tidak punya layanan internet.</td>\n",
    "        </tr>\n",
    "        <tr>\n",
    "            <td><b>StreamingTV</b></td>\n",
    "            <td>Bagaimanakah streaming TV dari Telco.</td>\n",
    "            <td><code>Yes</code>: Ya.<br><code>No</code>: Pelanggan berlangganan internet namun tidak menggunakan layanan ini.<br><code>No internet service</code>: Tidak punya layanan internet.</td>\n",
    "        </tr>\n",
    "        <tr>\n",
    "            <td><b>StreamingMovies</b></td>\n",
    "            <td>Bagaimanakah streaming film dari Telco.</td>\n",
    "            <td><code>Yes</code>: Ya.<br><code>No</code>: Pelanggan berlangganan internet namun tidak menggunakan layanan ini.<br><code>No internet service</code>: Tidak punya layanan internet.</td>\n",
    "        </tr>\n",
    "        <tr>\n",
    "            <td><b>Churn</b></td>\n",
    "            <td><b>(Target)</b> Bagaimanakah pelanggan berhenti.</td>\n",
    "            <td><code>Yes</code>: Pelanggan berhenti berlangganan.<br><code>No</code>: Pelanggan masih aktif.</td>\n",
    "        </tr>\n",
    "    </tbody>\n",
    "</table>"
   ]
  },
  {
   "cell_type": "markdown",
   "id": "b2112c0a",
   "metadata": {},
   "source": [
    "### 2.2 Missing Values Checking"
   ]
  },
  {
   "cell_type": "code",
   "execution_count": null,
   "id": "30c2a3b2",
   "metadata": {},
   "outputs": [],
   "source": [
    "# Check missing values count per column\n",
    "missing_counts = df.isnull().sum()\n",
    "print(missing_counts)\n",
    "\n",
    "# Visualize missing data pattern\n",
    "msno.matrix(df)\n",
    "plt.title('Missing Data Matrix')\n",
    "plt.show()"
   ]
  },
  {
   "cell_type": "markdown",
   "id": "ce05170a",
   "metadata": {},
   "source": [
    "Meskipun tidak terdapat missing values secara eksplisit dalam dataset, keberadaan nilai `tenure = 0` perlu diperhatikan karena dapat merepresentasikan pelanggan yang baru mendaftar dan belum benar-benar aktif, atau langsung churn pada bulan pertama. Hal ini penting karena bisa mempengaruhi kualitas data dan performa model machine learning, terutama jika jumlahnya kecil namun berdampak besar dalam proses pembelajaran model. Dari sisi bisnis, pelanggan dengan `tenure = 0` mungkin belum sempat menggunakan layanan secara penuh, sehingga berpotensi mencerminkan signup palsu atau pembatalan instan. Oleh karena itu, baris dengan nilai ini sebaiknya dianalisis lebih lanjut, dipertimbangkan untuk dipisahkan, atau bahkan dibuang jika tidak relevan."
   ]
  },
  {
   "cell_type": "code",
   "execution_count": null,
   "id": "5816058a",
   "metadata": {},
   "outputs": [],
   "source": [
    "df[df['tenure']==0]"
   ]
  },
  {
   "cell_type": "markdown",
   "id": "25a8ebec",
   "metadata": {},
   "source": [
    "Dari tabel yang ditampilkan, terlihat bahwa seluruh baris dengan `tenure = 0` memiliki nilai `TotalCharges` yang kosong (missing). Ini memperkuat indikasi adanya **anomali data**, karena secara logika bisnis, jika seorang pelanggan sudah memiliki `MonthlyCharges` tetapi `TotalCharges` kosong, hal ini tidak konsisten. Seharusnya, meskipun pelanggan baru, `TotalCharges` minimal setara dengan `MonthlyCharges` jika telah berjalan satu bulan. Selain itu, sebagian besar pelanggan ini memiliki kontrak jangka panjang seperti \"Two year\", yang tidak wajar jika langsung berstatus tenure = 0 tanpa adanya tagihan. Temuan ini menunjukkan bahwa baris-baris tersebut kemungkinan merupakan data yang belum tereksekusi penuh dalam sistem atau input yang belum lengkap. Maka, penting untuk memperlakukan baris ini secara khusus—baik dengan membersihkan, memisahkan, atau mengecualikan dari pelatihan model tergantung pada tujuan analisisnya.\n"
   ]
  },
  {
   "cell_type": "code",
   "execution_count": null,
   "id": "480f2aea",
   "metadata": {},
   "outputs": [],
   "source": [
    "df = df[df['tenure'] != 0]\n",
    "df"
   ]
  },
  {
   "cell_type": "markdown",
   "id": "c8d5c4de",
   "metadata": {},
   "source": [
    "Terdapat anomali pada data dengan tenure = 0, di mana nilai TotalCharges tidak terisi. Hal ini wajar karena pelanggan tersebut baru bergabung sehingga belum memiliki tagihan dan status churn-nya belum dapat diketahui dengan jelas. Sesuai kesepakatan, 11 baris dengan tenure = 0 dihapus dari dataset karena dianggap tidak merepresentasikan perilaku pelanggan aktif. Data ini hanya mencakup sekitar 0.15% dari total, sehingga dampaknya terhadap analisis sangat kecil. Keputusan ini juga didukung oleh literatur, di mana menurut Schafer (1999) dan Bennett (2001), data yang hilang kurang dari 5% umumnya tidak menyebabkan bias signifikan jika dihapus secara langsung. Oleh karena itu, penghapusan dilakukan untuk keperluan EDA maupun pelatihan model machine learning."
   ]
  },
  {
   "cell_type": "markdown",
   "id": "79ffd190",
   "metadata": {},
   "source": [
    "### 2.3 Duplicated Values Checking"
   ]
  },
  {
   "cell_type": "code",
   "execution_count": null,
   "id": "a014b089",
   "metadata": {},
   "outputs": [],
   "source": [
    "# Count duplicated rows\n",
    "num_duplicates = df.duplicated().sum()\n",
    "print(f\"Number of duplicated rows: {num_duplicates}\")"
   ]
  },
  {
   "cell_type": "markdown",
   "id": "0dceaca0",
   "metadata": {},
   "source": [
    "Hasil pemeriksaan duplikasi dengan fungsi `df.duplicated().sum()` menunjukkan bahwa tidak terdapat baris yang sama persis (duplikat) dalam dataset, yaitu sejumlah 0 baris duplikat. Hal ini menandakan bahwa setiap entri dalam data bersifat unik setelah penghapusan baris dengan `tenure = 0`, sehingga tidak diperlukan tindakan lebih lanjut terkait duplikasi. Keberadaan data yang bebas duplikasi sangat penting untuk menjaga kualitas analisis dan mencegah bias yang dapat muncul pada tahap pelatihan model machine learning."
   ]
  },
  {
   "cell_type": "markdown",
   "id": "9bc7dad0",
   "metadata": {},
   "source": [
    "### 2.4 Dataset Restructuring for Better EDA"
   ]
  },
  {
   "cell_type": "code",
   "execution_count": null,
   "id": "d9f4ee93",
   "metadata": {},
   "outputs": [],
   "source": [
    "# Convert object columns to category dtype\n",
    "object_cols = df.select_dtypes(include=['object']).columns.tolist()\n",
    "object_cols = [col for col in object_cols if col not in ('customerID', 'TotalCharges')]\n",
    "df[object_cols] = df[object_cols].astype('category')\n",
    "df['SeniorCitizen'] = df['SeniorCitizen'].map({0: 'No', 1: 'Yes'}).astype('category')\n",
    "df['TotalCharges'] = pd.to_numeric(df['TotalCharges'], errors='coerce')\n",
    "\n",
    "# Confirm changes\n",
    "df.info()"
   ]
  },
  {
   "cell_type": "code",
   "execution_count": null,
   "id": "b9b37a1a",
   "metadata": {},
   "outputs": [],
   "source": [
    "df.head()"
   ]
  },
  {
   "cell_type": "markdown",
   "id": "4eabcb2d",
   "metadata": {},
   "source": [
    "Untuk menyederhanakan analisis dan mengoptimalkan penggunaan memori, seluruh kolom bertipe `object`—kecuali `customerID` dan `TotalCharges`—diubah menjadi tipe data `category`, karena kolom-kolom ini merepresentasikan data kategorikal. Selain itu, kolom `SeniorCitizen`, yang semula berupa numerik biner (0 dan 1), dipetakan menjadi kategori `\"No\"` dan `\"Yes\"` untuk meningkatkan interpretabilitas. Kolom `TotalCharges` juga dikonversi ke tipe numerik (`float64`) dengan `errors='coerce'` untuk memastikan konsistensi data. Setelah transformasi, dataset terdiri dari 21 kolom dengan 17 kolom bertipe kategori, 2 numerik kontinu (`MonthlyCharges`, `TotalCharges`), 1 numerik diskrit (`tenure`), dan 1 kolom identitas (`customerID`). Transformasi ini berhasil memperbaiki struktur data untuk keperluan analisis eksploratif dan pemodelan lebih lanjut."
   ]
  },
  {
   "cell_type": "markdown",
   "id": "a3f23b60",
   "metadata": {},
   "source": [
    "### 2.5 Exploratory Data Analysis (EDA) - Univariat"
   ]
  },
  {
   "cell_type": "code",
   "execution_count": null,
   "id": "8c280d5a",
   "metadata": {},
   "outputs": [],
   "source": [
    "def plot_box_and_kde(df, col, figsize=(15, 5)):\n",
    "    # Visualisasi\n",
    "    fig, axes = plt.subplots(nrows=1, ncols=2, figsize=figsize)\n",
    "    plt.suptitle(f'Distribution of {col}', fontsize=16, y=1.02)\n",
    "    sns.boxplot(data=df, x=col, orient='h', ax=axes[0])\n",
    "    axes[0].set_title(f'Boxplot of {col}')\n",
    "\n",
    "    sns.kdeplot(data=df, x=col, fill=True, ax=axes[1])\n",
    "    axes[1].set_title(f'KDE Histplot of {col}')\n",
    "\n",
    "    plt.tight_layout(rect=[0, 0, 1, 0.9])\n",
    "    plt.show()\n",
    "\n",
    "    # Statistik deskriptif + IQR\n",
    "    stats = df[col].describe()\n",
    "    q1 = stats['25%']\n",
    "    q3 = stats['75%']\n",
    "    iqr = q3 - q1\n",
    "    stats['IQR'] = iqr\n",
    "\n",
    "    # Tabel transpos\n",
    "    stats_df = stats.to_frame(name=col).T\n",
    "    display(stats_df)"
   ]
  },
  {
   "cell_type": "markdown",
   "id": "ec05f519",
   "metadata": {},
   "source": [
    "Fungsi plot_box_and_kde digunakan untuk menganalisis variabel numerik seperti 'tenure'. Fungsi ini menyajikan dua plot berdampingan: sebuah boxplot untuk melihat ringkasan statistik (median, kuartil, jangkauan) dan sebuah KDE plot untuk melihat bentuk distribusi data. Selain visualisasi, fungsi ini juga menampilkan tabel statistik deskriptif yang mencakup mean, standar deviasi, dan IQR (Interquartile Range) untuk memberikan ringkasan kuantitatif."
   ]
  },
  {
   "cell_type": "code",
   "execution_count": null,
   "id": "d3644e8e",
   "metadata": {},
   "outputs": [],
   "source": [
    "def plot_countplot_with_hue(df, col, figsize=(15, 5)):\n",
    "    # Hitung Count dan Persentase\n",
    "    counts = df[col].value_counts()\n",
    "    percentages = counts / len(df) * 100\n",
    "    total = len(df)\n",
    "\n",
    "    # Buat urutan berdasarkan Count tertinggi ke terendah\n",
    "    ordered_categories = counts.index.tolist()\n",
    "    df[col] = pd.Categorical(df[col], categories=ordered_categories, ordered=True)\n",
    "\n",
    "    # Plot\n",
    "    plt.figure(figsize=figsize)\n",
    "    ax = sns.countplot(data=df, y=col, hue=col)\n",
    "    plt.title(f'Distribution of {col}', fontsize=16)\n",
    "    plt.xlabel('Count')\n",
    "    plt.ylabel('')\n",
    "\n",
    "    for p in ax.patches:\n",
    "        width = p.get_width()\n",
    "        y = p.get_y() + p.get_height() / 2\n",
    "        label = f'{int(width)} ({width / total:.1%})'\n",
    "        ax.text(width + total * 0.005, y, label, va='center', fontsize=9)\n",
    "\n",
    "    plt.tight_layout()\n",
    "    plt.show()\n",
    "\n",
    "    # Tampilkan tabel count dan persentase (dengan reset index)\n",
    "    table = pd.DataFrame({\n",
    "        col: counts.index,\n",
    "        'Count': counts.values,\n",
    "        'Percentage': percentages.apply(lambda x: f'{x:.1f}%').values\n",
    "    }).reset_index(drop=True)\n",
    "\n",
    "    display(table)"
   ]
  },
  {
   "cell_type": "markdown",
   "id": "a2e18db7",
   "metadata": {},
   "source": [
    "Untuk variabel kategorikal, fungsi plot_countplot_with_hue digunakan. Fungsi ini menghitung frekuensi setiap kategori, mengurutkannya dari yang terbesar, lalu menampilkannya dalam bentuk countplot horizontal. Setiap bar pada plot diberi anotasi yang menunjukkan jumlah absolut dan persentase relatifnya, sehingga memberikan gambaran distribusi yang jelas dan informatif."
   ]
  },
  {
   "cell_type": "code",
   "execution_count": null,
   "id": "b1ef2210",
   "metadata": {},
   "outputs": [],
   "source": [
    "def check_normality(df, col):\n",
    "  # Ambil data dari kolom yang ditentukan dan hapus nilai yang hilang.\n",
    "  data_to_test = df[col].dropna()\n",
    "\n",
    "  # Jalankan uji D'Agostino-Pearson dan ambil p-value.\n",
    "  statistic, p_value = normaltest(data_to_test)\n",
    "  \n",
    "  # Tampilkan nilai p-value-nya.\n",
    "  print(f\"P-value untuk kolom '{col}': {p_value:.2f}\")\n",
    "\n",
    "  # Cek p-value untuk mencetak konklusi hipotesis.\n",
    "  if p_value < 0.05:\n",
    "    print(f\"Tolak Ho, terima Ha. Data '{col}' tidak terdistribusi normal.\")\n",
    "  else:\n",
    "    print(f\"Gagal tolak Ho. Data '{col}' terdistribusi normal.\")"
   ]
  },
  {
   "cell_type": "markdown",
   "id": "367653dd",
   "metadata": {},
   "source": [
    "Fungsi ini bertujuan untuk menguji secara statistik Bagaimanakah data dalam sebuah kolom mengikuti distribusi normal atau tidak. Ia mengambil data dari kolom yang ditentukan, menjalankan uji normalitas D'Agostino-Pearson, lalu mencetak nilai p-value yang dihasilkan. Berdasarkan p-value tersebut, fungsi ini memberikan kesimpulan statistik Bagaimanakah kita harus menolak atau gagal menolak hipotesis nol, yang pada akhirnya menentukan Bagaimanakah data tersebut dianggap normal atau tidak.\n",
    "- Ho: Data terdistribusi normal.\n",
    "- Ha: Data tidak terdistribusi normal."
   ]
  },
  {
   "cell_type": "markdown",
   "id": "bb2c48a6",
   "metadata": {},
   "source": [
    "#### 2.5.1 Berapa lama pelanggan biasanya tetap berlangganan layanan?"
   ]
  },
  {
   "cell_type": "code",
   "execution_count": null,
   "id": "6c8467f9",
   "metadata": {},
   "outputs": [],
   "source": [
    "plot_box_and_kde(df, 'tenure')\n",
    "check_normality(df,'tenure')"
   ]
  },
  {
   "cell_type": "markdown",
   "id": "b6db63e9",
   "metadata": {},
   "source": [
    "##### Business Insights\n",
    "\n",
    "- Sebagian besar pelanggan memiliki lama berlangganan di bawah 3 tahun, dengan nilai tengah 29 bulan dan rata-rata 32 bulan. Hal ini menunjukkan pentingnya fokus pada retensi jangka menengah untuk menjaga basis pelanggan tetap stabil.\n",
    "\n",
    "- Sebanyak 25% pelanggan berhenti dalam 9 bulan pertama, dan 75% pelanggan berhenti sebelum bulan ke-55. Fakta ini menunjukkan bahwa risiko churn terbesar terjadi di awal masa langganan.\n",
    "\n",
    "- Distribusi lama berlangganan menunjukkan dua puncak, yaitu pada masa awal dan mendekati 72 bulan. Ini menandakan adanya dua kelompok dominan: pelanggan yang cepat berhenti dan pelanggan sangat loyal."
   ]
  },
  {
   "cell_type": "markdown",
   "id": "442e17f6",
   "metadata": {},
   "source": [
    "#### 2.5.2 Berapa besar total pengeluaran pelanggan selama mereka berlangganan?"
   ]
  },
  {
   "cell_type": "code",
   "execution_count": null,
   "id": "bd92a300",
   "metadata": {},
   "outputs": [],
   "source": [
    "plot_box_and_kde(df, 'TotalCharges')\n",
    "check_normality(df, 'TotalCharges')"
   ]
  },
  {
   "cell_type": "markdown",
   "id": "a72d8c94",
   "metadata": {},
   "source": [
    "##### Business Insights\n",
    "\n",
    "- Sebagian besar pelanggan memiliki total pengeluaran yang relatif rendah, dengan nilai tengah sebesar $1.397 dan hanya 25% pelanggan yang membayar lebih dari $3.794. Hal ini menunjukkan bahwa sebagian besar pelanggan belum menghasilkan nilai jangka panjang yang tinggi bagi perusahaan.\n",
    "\n",
    "- Rata-rata total pengeluaran pelanggan adalah sekitar $2.283, namun sebaran sangat condong ke kanan hingga maksimum $8.684. Ini mengindikasikan adanya kelompok kecil pelanggan bernilai tinggi yang memberikan kontribusi signifikan terhadap pendapatan.\n",
    "\n",
    "- IQR yang besar (±$3.393) menunjukkan variasi yang tinggi dalam nilai pelanggan. Artinya, kontribusi finansial dari setiap pelanggan sangat berbeda-beda."
   ]
  },
  {
   "cell_type": "markdown",
   "id": "fd8caf45",
   "metadata": {},
   "source": [
    "#### 2.5.3 Berapa biaya bulanan yang biasanya dibayarkan pelanggan?"
   ]
  },
  {
   "cell_type": "code",
   "execution_count": null,
   "id": "6474b049",
   "metadata": {},
   "outputs": [],
   "source": [
    "plot_box_and_kde(df, 'MonthlyCharges')\n",
    "check_normality(df, 'MonthlyCharges')"
   ]
  },
  {
   "cell_type": "markdown",
   "id": "38ad2918",
   "metadata": {},
   "source": [
    "##### Business Insights\n",
    "\n",
    "- Nilai tengah tagihan bulanan pelanggan adalah sekitar $70, dengan rata-rata sebesar $65. Ini menunjukkan bahwa sebagian besar pelanggan berada pada level harga menengah ke atas.\n",
    "\n",
    "- Sebaran biaya bulanan bersifat bimodal, dengan konsentrasi pelanggan pada rentang harga rendah dan tinggi. Hal ini menunjukkan adanya dua kelompok utama pelanggan berdasarkan jenis layanan yang dipilih.\n",
    "\n",
    "- IQR yang cukup besar ($54) menunjukkan variasi signifikan dalam struktur biaya antar pelanggan. Artinya, pelanggan membayar biaya yang sangat berbeda tergantung pada jenis dan kombinasi layanan yang diambil."
   ]
  },
  {
   "cell_type": "markdown",
   "id": "a3232334",
   "metadata": {},
   "source": [
    "#### 2.5.4 Bagaimana distribusi status churn pelanggan?"
   ]
  },
  {
   "cell_type": "code",
   "execution_count": null,
   "id": "6ec2d8da",
   "metadata": {},
   "outputs": [],
   "source": [
    "plot_countplot_with_hue(df, 'Churn')"
   ]
  },
  {
   "cell_type": "markdown",
   "id": "ad76b282",
   "metadata": {},
   "source": [
    "##### Business Insights\n",
    "\n",
    "- Sebanyak 26,6% pelanggan dalam dataset berhenti berlangganan (churn), sementara 73,4% masih aktif. Ini menunjukkan bahwa meskipun mayoritas pelanggan tetap bertahan, proporsi churn tetap signifikan dan tidak bisa diabaikan.\n",
    "\n",
    "- Dataset bersifat tidak seimbang, dengan jumlah pelanggan yang tidak churn hampir tiga kali lebih banyak dibandingkan yang churn. Hal ini perlu diperhatikan dalam analisis lebih lanjut maupun pengembangan model prediktif."
   ]
  },
  {
   "cell_type": "markdown",
   "id": "fe310130",
   "metadata": {},
   "source": [
    "#### 2.5.5 Bagaimana karakteristik distribusi pelanggan berdasarkan jenis kelamin?"
   ]
  },
  {
   "cell_type": "code",
   "execution_count": null,
   "id": "5a9ee2e0",
   "metadata": {},
   "outputs": [],
   "source": [
    "plot_countplot_with_hue(df, 'gender')"
   ]
  },
  {
   "cell_type": "markdown",
   "id": "18e44856",
   "metadata": {},
   "source": [
    "##### Business Insights\n",
    "\n",
    "- Distribusi pelanggan berdasarkan gender sangat seimbang, dengan 50,5% laki-laki dan 49,5% perempuan. Tidak ada dominasi gender tertentu dalam populasi pelanggan."
   ]
  },
  {
   "cell_type": "markdown",
   "id": "120eeb6d",
   "metadata": {},
   "source": [
    "#### 2.5.6 Bagaimana karakteristik distribusi pelanggan berdasarkan status lansia?"
   ]
  },
  {
   "cell_type": "code",
   "execution_count": null,
   "id": "e89802fe",
   "metadata": {},
   "outputs": [],
   "source": [
    "plot_countplot_with_hue(df, 'SeniorCitizen')"
   ]
  },
  {
   "cell_type": "markdown",
   "id": "96542050",
   "metadata": {},
   "source": [
    "##### Business Insights\n",
    "\n",
    "- Sebagian besar pelanggan (83,8%) bukan merupakan warga senior, sementara hanya 16,2% yang termasuk kategori senior. Artinya, kelompok senior merupakan minoritas dalam basis pelanggan saat ini."
   ]
  },
  {
   "cell_type": "markdown",
   "id": "487f040c",
   "metadata": {},
   "source": [
    "#### 2.5.7 Bagaimana karakteristik distribusi pelanggan berdasarkan status memiliki pasangan?"
   ]
  },
  {
   "cell_type": "code",
   "execution_count": null,
   "id": "028cd4f9",
   "metadata": {},
   "outputs": [],
   "source": [
    "plot_countplot_with_hue(df, 'Partner')"
   ]
  },
  {
   "cell_type": "markdown",
   "id": "472798cc",
   "metadata": {},
   "source": [
    "##### Business Insights\n",
    "\n",
    "- Distribusi pelanggan berdasarkan status memiliki pasangan cukup seimbang, dengan 51,7% tidak memiliki pasangan dan 48,3% memiliki pasangan. Tidak ada dominasi dari salah satu kelompok."
   ]
  },
  {
   "cell_type": "markdown",
   "id": "57da5fd8",
   "metadata": {},
   "source": [
    "#### 2.5.8 Bagaimana karakteristik distribusi pelanggan berdasarkan tanggungan keluarga?"
   ]
  },
  {
   "cell_type": "code",
   "execution_count": null,
   "id": "04341aa1",
   "metadata": {},
   "outputs": [],
   "source": [
    "plot_countplot_with_hue(df, 'Dependents')"
   ]
  },
  {
   "cell_type": "markdown",
   "id": "73476922",
   "metadata": {},
   "source": [
    "##### Business Insights\n",
    "\n",
    "- Sebagian besar pelanggan (70,2%) tidak memiliki tanggungan, sementara hanya 29,8% yang memiliki tanggungan. Artinya, mayoritas pelanggan merupakan individu tanpa ketergantungan keluarga langsung."
   ]
  },
  {
   "cell_type": "markdown",
   "id": "fc79b0ee",
   "metadata": {},
   "source": [
    "#### 2.5.9 Bagaimana karakteristik distribusi pelanggan berdasarkan kepemilikan layanan telepon ?"
   ]
  },
  {
   "cell_type": "code",
   "execution_count": null,
   "id": "4c3d743c",
   "metadata": {},
   "outputs": [],
   "source": [
    "plot_countplot_with_hue(df, 'PhoneService')"
   ]
  },
  {
   "cell_type": "markdown",
   "id": "0ab2c000",
   "metadata": {},
   "source": [
    "##### Business Insights\n",
    "\n",
    "- Sebagian besar pelanggan (90,3%) menggunakan layanan telepon, sementara hanya 9,7% yang tidak. Ini menunjukkan bahwa layanan telepon merupakan fitur yang sangat umum di antara pelanggan."
   ]
  },
  {
   "cell_type": "markdown",
   "id": "58d9f552",
   "metadata": {},
   "source": [
    "#### 2.5.10 Bagaimana karakteristik distribusi pelanggan berdasarkan kepemilikan beberapa saluran telepon?"
   ]
  },
  {
   "cell_type": "code",
   "execution_count": null,
   "id": "6d8a63ed",
   "metadata": {},
   "outputs": [],
   "source": [
    "plot_countplot_with_hue(df, 'MultipleLines')"
   ]
  },
  {
   "cell_type": "markdown",
   "id": "4f607339",
   "metadata": {},
   "source": [
    "##### Business Insights\n",
    "\n",
    "- Sebanyak 48,1% pelanggan memiliki satu jalur telepon, 42,2% memiliki lebih dari satu jalur, dan 9,7% tidak menggunakan layanan telepon sama sekali. Ini menunjukkan bahwa layanan tambahan berupa saluran telepon ganda cukup diminati oleh hampir separuh pengguna layanan telepon."
   ]
  },
  {
   "cell_type": "markdown",
   "id": "01464c6a",
   "metadata": {},
   "source": [
    "#### 2.5.11 Bagaimana karakteristik distribusi pelanggan berdasarkan jenis layanan internet?"
   ]
  },
  {
   "cell_type": "code",
   "execution_count": null,
   "id": "05d54069",
   "metadata": {},
   "outputs": [],
   "source": [
    "plot_countplot_with_hue(df, 'InternetService')"
   ]
  },
  {
   "cell_type": "markdown",
   "id": "2e6d8d1d",
   "metadata": {},
   "source": [
    "##### Business Insights\n",
    "\n",
    "- Sebagian besar pelanggan menggunakan layanan internet, dengan 44,0% memilih Fiber optic dan 34,4% menggunakan DSL. Hanya 21,6% yang tidak berlangganan internet. Ini menunjukkan bahwa layanan internet adalah produk utama dalam portofolio perusahaan."
   ]
  },
  {
   "cell_type": "markdown",
   "id": "5968d6cf",
   "metadata": {},
   "source": [
    "#### 2.5.12 Bagaimana karakteristik distribusi pelanggan berdasarkan status perlindungan keamanan online?"
   ]
  },
  {
   "cell_type": "code",
   "execution_count": null,
   "id": "79cfceb9",
   "metadata": {},
   "outputs": [],
   "source": [
    "plot_countplot_with_hue(df, 'OnlineSecurity')"
   ]
  },
  {
   "cell_type": "markdown",
   "id": "8018b1ec",
   "metadata": {},
   "source": [
    "##### Business Insights\n",
    "\n",
    "- Sebanyak 49,7% pelanggan tidak menggunakan layanan Online Security, sementara hanya 28,7% yang menggunakannya. Sisanya 21,6% tidak memiliki layanan internet. Artinya, dari pelanggan internet aktif, mayoritas tidak memanfaatkan layanan keamanan online."
   ]
  },
  {
   "cell_type": "markdown",
   "id": "0ee2a589",
   "metadata": {},
   "source": [
    "#### 2.5.13 Bagaimana karakteristik distribusi pelanggan berdasarkan status cadangan data online?"
   ]
  },
  {
   "cell_type": "code",
   "execution_count": null,
   "id": "501a9e6c",
   "metadata": {},
   "outputs": [],
   "source": [
    "plot_countplot_with_hue(df, 'OnlineBackup')"
   ]
  },
  {
   "cell_type": "markdown",
   "id": "85050500",
   "metadata": {},
   "source": [
    "##### Business Insights\n",
    "\n",
    "- Sebanyak 43,9% pelanggan tidak menggunakan layanan Online Backup, dan hanya 34,5% yang menggunakannya, sementara 21,6% tidak memiliki layanan internet. Artinya, mayoritas pelanggan internet tidak memanfaatkan layanan backup daring yang tersedia."
   ]
  },
  {
   "cell_type": "markdown",
   "id": "4bd45eb3",
   "metadata": {},
   "source": [
    "#### 2.5.14 Bagaimana karakteristik distribusi pelanggan berdasarkan perlindungan perangkat?"
   ]
  },
  {
   "cell_type": "code",
   "execution_count": null,
   "id": "62ef555e",
   "metadata": {},
   "outputs": [],
   "source": [
    "plot_countplot_with_hue(df, 'DeviceProtection')"
   ]
  },
  {
   "cell_type": "markdown",
   "id": "47b7aede",
   "metadata": {},
   "source": [
    "##### Business Insights\n",
    "\n",
    "- Sebanyak 44,0% pelanggan tidak menggunakan layanan Device Protection, sementara 34,4% sudah memanfaatkannya. Sementara itu, 21,6% pelanggan tidak memiliki layanan internet. Ini menunjukkan bahwa perlindungan perangkat belum menjadi layanan yang dominan, meskipun masih memiliki potensi pasar yang cukup besar."
   ]
  },
  {
   "cell_type": "markdown",
   "id": "6a5dc8f1",
   "metadata": {},
   "source": [
    "#### 2.5.15 Bagaimana karakteristik distribusi pelanggan berdasarkan dukungan teknis?"
   ]
  },
  {
   "cell_type": "code",
   "execution_count": null,
   "id": "add24152",
   "metadata": {},
   "outputs": [],
   "source": [
    "plot_countplot_with_hue(df, 'TechSupport')"
   ]
  },
  {
   "cell_type": "markdown",
   "id": "c572b67b",
   "metadata": {},
   "source": [
    "##### Business Insights\n",
    "\n",
    "- Sebanyak 49,4% pelanggan tidak menggunakan layanan Tech Support, 29,0% menggunakannya, dan 21,6% tidak memiliki layanan internet. Ini menunjukkan bahwa mayoritas pelanggan internet belum memanfaatkan dukungan teknis sebagai bagian dari layanan mereka."
   ]
  },
  {
   "cell_type": "markdown",
   "id": "20e443b7",
   "metadata": {},
   "source": [
    "#### 2.5.16 Bagaimana karakteristik distribusi pelanggan berdasarkan layanan streaming TV?"
   ]
  },
  {
   "cell_type": "code",
   "execution_count": null,
   "id": "292c356a",
   "metadata": {},
   "outputs": [],
   "source": [
    "plot_countplot_with_hue(df, 'StreamingTV')"
   ]
  },
  {
   "cell_type": "markdown",
   "id": "eed2ff28",
   "metadata": {},
   "source": [
    "##### Business Insights\n",
    "\n",
    "- Penggunaan layanan Streaming TV terbagi cukup merata, dengan 39,9% pelanggan tidak menggunakannya dan 38,4% menggunakannya. Sebanyak 21,6% pelanggan tidak memiliki layanan internet. Ini menunjukkan bahwa layanan ini memiliki potensi pertumbuhan lebih lanjut di segmen pengguna internet."
   ]
  },
  {
   "cell_type": "markdown",
   "id": "caf72778",
   "metadata": {},
   "source": [
    "#### 2.5.17 Bagaimana karakteristik distribusi pelanggan berdasarkan layanan streaming film?\n"
   ]
  },
  {
   "cell_type": "code",
   "execution_count": null,
   "id": "8dfb36e0",
   "metadata": {},
   "outputs": [],
   "source": [
    "plot_countplot_with_hue(df, 'StreamingMovies')"
   ]
  },
  {
   "cell_type": "markdown",
   "id": "9786610b",
   "metadata": {},
   "source": [
    "##### Business Insights\n",
    "\n",
    "- Penggunaan layanan Streaming Movies cukup seimbang, dengan 39,5% pelanggan tidak menggunakannya dan 38,8% menggunakannya. Sebanyak 21,6% pelanggan tidak memiliki layanan internet. Hal ini menunjukkan bahwa layanan ini memiliki tingkat adopsi yang hampir setara di kalangan pelanggan internet."
   ]
  },
  {
   "cell_type": "markdown",
   "id": "aa2ce5af",
   "metadata": {},
   "source": [
    "#### 2.5.18 Bagaimana karakteristik distribusi pelanggan berdasarkan jenis kontrak langganan?\n"
   ]
  },
  {
   "cell_type": "code",
   "execution_count": null,
   "id": "3290b062",
   "metadata": {},
   "outputs": [],
   "source": [
    "plot_countplot_with_hue(df, 'Contract')"
   ]
  },
  {
   "cell_type": "markdown",
   "id": "d60f8575",
   "metadata": {},
   "source": [
    "##### Business Insights\n",
    "\n",
    "- Mayoritas pelanggan (55,1%) menggunakan kontrak bulanan (Month-to-month), sementara hanya 24,0% memilih kontrak dua tahun dan 20,9% kontrak satu tahun. Ini menunjukkan bahwa lebih dari separuh pelanggan memilih fleksibilitas tanpa komitmen jangka panjang."
   ]
  },
  {
   "cell_type": "markdown",
   "id": "7a0ad609",
   "metadata": {},
   "source": [
    "#### 2.5.19 Bagaimana karakteristik distribusi pelanggan berdasarkan metode paperless?"
   ]
  },
  {
   "cell_type": "code",
   "execution_count": null,
   "id": "c13b307d",
   "metadata": {},
   "outputs": [],
   "source": [
    "plot_countplot_with_hue(df, 'PaperlessBilling')"
   ]
  },
  {
   "cell_type": "markdown",
   "id": "989e83d8",
   "metadata": {},
   "source": [
    "##### Business Insights\n",
    "\n",
    "- **Jumlah pelanggan yang menggunakan *Paperless Billing* lebih banyak daripada yang tidak.** Hal ini menunjukkan bahwa mayoritas pelanggan lebih memilih untuk menerima tagihan secara digital daripada melalui surat fisik."
   ]
  },
  {
   "cell_type": "markdown",
   "id": "4aef2d44",
   "metadata": {},
   "source": [
    "#### 2.5.20 Bagaimana karakteristik distribusi pelanggan berdasarkan metode pembayaran?\n"
   ]
  },
  {
   "cell_type": "code",
   "execution_count": null,
   "id": "73e13dd9",
   "metadata": {},
   "outputs": [],
   "source": [
    "plot_countplot_with_hue(df, 'PaymentMethod')"
   ]
  },
  {
   "cell_type": "markdown",
   "id": "f9ec1f3b",
   "metadata": {},
   "source": [
    "##### Business Insights\n",
    "\n",
    "- Sebagian besar pelanggan (59,3%) menggunakan metode tagihan tanpa kertas (Paperless Billing), sementara 40,7% masih memilih tagihan fisik. Ini menunjukkan bahwa mayoritas pelanggan sudah terbiasa dengan pendekatan digital, meskipun sebagian masih memilih metode tradisional."
   ]
  },
  {
   "cell_type": "markdown",
   "id": "06aa46a0",
   "metadata": {},
   "source": [
    "### 2.6 Exploratory Data Analysis (EDA) - Bivariat"
   ]
  },
  {
   "cell_type": "code",
   "execution_count": null,
   "id": "27e1fc81",
   "metadata": {},
   "outputs": [],
   "source": [
    "def plot_box_and_kde_churn(df, col, target='Churn', figsize=(15, 6)):\n",
    "    # Visualisasi\n",
    "    fig, axes = plt.subplots(nrows=1, ncols=2, figsize=figsize)\n",
    "    plt.suptitle(f'Distribution of {col} Based on {target}', fontsize=16, y=1.02)\n",
    "\n",
    "    # Boxplot berdasarkan Churn\n",
    "    # Menggunakan y=target untuk membuat boxplot terpisah untuk setiap kategori Churn\n",
    "    sns.boxplot(data=df, x=col, y=target, orient='h', ax=axes[0], hue=target)\n",
    "    axes[0].set_title(f'Boxplot of {col}')\n",
    "\n",
    "    # KDE plot berdasarkan Churn\n",
    "    # Menggunakan hue=target untuk membuat kurva distribusi terpisah\n",
    "    sns.kdeplot(data=df, x=col, hue=target, fill=True, common_norm=False, alpha=0.5, ax=axes[1])\n",
    "    axes[1].set_title(f'Distribution of {col}')\n",
    "\n",
    "    plt.tight_layout(rect=[0, 0, 1, 0.95])\n",
    "    plt.show()\n",
    "\n",
    "    # Statistik deskriptif yang dikelompokkan berdasarkan Churn\n",
    "    stats = df.groupby(target)[col].describe()\n",
    "    q1 = stats['25%']\n",
    "    q3 = stats['75%']\n",
    "    iqr = q3 - q1\n",
    "    stats['IQR'] = iqr\n",
    "\n",
    "    # Tampilkan tabel statistik\n",
    "    display(stats)"
   ]
  },
  {
   "cell_type": "markdown",
   "id": "a5d0fa10",
   "metadata": {},
   "source": [
    "Fungsi `plot_box_and_kde_churn` digunakan untuk menganalisis distribusi variabel numerik berdasarkan kategori target seperti 'Churn'. Fungsi ini menghasilkan dua visualisasi berdampingan: boxplot horizontal yang memisahkan data berdasarkan nilai target untuk mengamati sebaran dan potensi outlier, serta KDE plot (Kernel Density Estimate) untuk melihat pola distribusi tiap kategori secara halus. Selain visualisasi, fungsi ini menghitung dan menampilkan tabel statistik deskriptif (count, mean, std, min, kuartil, dan IQR) yang dikelompokkan berdasarkan nilai target, sehingga mempermudah perbandingan karakteristik numerik antar kategori.\n"
   ]
  },
  {
   "cell_type": "code",
   "execution_count": null,
   "id": "fc6e5c69",
   "metadata": {},
   "outputs": [],
   "source": [
    "def plot_stacked_barh_churn(df, col, target='Churn', figsize=(15, 5)):\n",
    "    # Hitung count & percentage\n",
    "    counts = df.groupby([col, target], observed=True).size().unstack(fill_value=0)\n",
    "    percentages = counts.div(counts.sum(axis=1), axis=0) * 100\n",
    "\n",
    "    # Pastikan kolom urut: No, Yes\n",
    "    desired_order = ['No', 'Yes']\n",
    "    actual_order = [c for c in desired_order if c in percentages.columns]\n",
    "    counts = counts[actual_order]\n",
    "    percentages = percentages[actual_order]\n",
    "\n",
    "    # Urutkan berdasarkan persentase churn ascending\n",
    "    sort_order = percentages['No'].sort_values(ascending=True).index\n",
    "    counts = counts.loc[sort_order]\n",
    "    percentages = percentages.loc[sort_order]\n",
    "\n",
    "    # Visualisasi manual\n",
    "    fig, ax = plt.subplots(figsize=figsize)\n",
    "    left = [0] * len(percentages)\n",
    "\n",
    "    for status in actual_order:\n",
    "        values = percentages[status]\n",
    "        bar = ax.barh(percentages.index, values, left=left, label=status)\n",
    "\n",
    "        for i, (pct, cnt) in enumerate(zip(values, counts[status])):\n",
    "            if pct > 0:\n",
    "                ax.text(left[i] + pct / 2, i, f'{pct:.1f}%\\n({cnt})',\n",
    "                        ha='center', va='center', fontsize=8,\n",
    "                        color='white' if pct > 15 else 'black')\n",
    "        left = [l + v for l, v in zip(left, values)]\n",
    "\n",
    "    plt.suptitle(f'Distribution of {col} Based on {target}', fontsize=16, y=1.02)\n",
    "    ax.set_xlabel('Percentage')\n",
    "    ax.set_ylabel('')\n",
    "    ax.legend(title=target, loc='center left', bbox_to_anchor=(1.0, 0.5))\n",
    "    plt.tight_layout()\n",
    "    plt.show()\n",
    "\n",
    "    # Tabel gabungan (Count dan Persentase) dengan reset index\n",
    "    table = counts.copy()\n",
    "    for status in actual_order:\n",
    "        table[f'{status} (%)'] = percentages[status].apply(lambda x: f'{x:.1f}%')\n",
    "    \n",
    "    table = table.reset_index()\n",
    "    display(table)\n"
   ]
  },
  {
   "cell_type": "markdown",
   "id": "f3a7efbc",
   "metadata": {},
   "source": [
    "Fungsi `plot_stacked_barh_churn` digunakan untuk memvisualisasikan distribusi variabel kategorikal berdasarkan target seperti 'Churn' dalam bentuk stacked bar chart horizontal. Fungsi ini menghitung jumlah dan persentase tiap kategori target dalam setiap kelas variabel, lalu mengurutkan data berdasarkan persentase kategori 'No' secara menaik. Visualisasi menampilkan batang tersegmentasi untuk masing-masing kategori target, disertai anotasi berupa persentase dan jumlah absolut untuk mempermudah interpretasi. Fungsi ini sangat berguna untuk membandingkan proporsi churn antar kategori dan mengidentifikasi kelompok dengan tingkat churn tinggi.\n"
   ]
  },
  {
   "cell_type": "code",
   "execution_count": null,
   "id": "950656c2",
   "metadata": {},
   "outputs": [],
   "source": [
    "def mannwhitney_test(df, col, target='Churn'):\n",
    "    # Pastikan hanya ada dua kategori pada target\n",
    "    categories = df[target].dropna().unique()\n",
    "    if len(categories) != 2:\n",
    "        raise ValueError(f\"Kolom target '{target}' harus memiliki tepat 2 kategori (misal: 'Yes' dan 'No').\")\n",
    "\n",
    "    # Ambil data dari masing-masing grup\n",
    "    group1 = df[df[target] == categories[0]][col].dropna()\n",
    "    group2 = df[df[target] == categories[1]][col].dropna()\n",
    "\n",
    "    # Uji Mann-Whitney U dua arah\n",
    "    stat, p_value = mannwhitneyu(group1, group2, alternative='two-sided')\n",
    "\n",
    "    # Tampilkan hasil\n",
    "    print(f\"P-value untuk uji Mann-Whitney U antara '{categories[0]}' dan '{categories[1]}' pada kolom '{col}': {p_value:.4f}\")\n",
    "    if p_value < 0.05:\n",
    "        print(f\"Tolak Ho, terima Ha. Terdapat perbedaan signifikan antara grup '{categories[0]}' dan '{categories[1]}' untuk '{col}'.\")\n",
    "    else:\n",
    "        print(f\"Gagal tolak Ho. Tidak terdapat perbedaan signifikan antara grup '{categories[0]}' dan '{categories[1]}' untuk '{col}'.\")\n"
   ]
  },
  {
   "cell_type": "markdown",
   "id": "3a5c0332",
   "metadata": {},
   "source": [
    "Fungsi ini bertujuan untuk menguji Bagaimana perbedaan yang signifikan secara statistik antara dua kelompok pada kolom numerik tertentu berdasarkan kategori target seperti 'Churn'. Ia menggunakan uji non-parametrik Mann-Whitney U, yang cocok digunakan saat data tidak diasumsikan berdistribusi normal. Fungsi ini membandingkan distribusi nilai antara dua grup (misalnya 'Yes' dan 'No'), menghasilkan nilai p-value, dan memberikan interpretasi Bagaimanakah hipotesis nol dapat ditolak atau tidak.\n",
    "- Ho: Tidak ada perbedaan signifikan antara kedua grup.\n",
    "- Ha: Terdapat perbedaan signifikan antara kedua grup.\n"
   ]
  },
  {
   "cell_type": "markdown",
   "id": "33501071",
   "metadata": {},
   "source": [
    "#### 2.6.1 Apakah terdapat perbedaan lama pelanggan berlangganan antara yang churn dan tidak churn?"
   ]
  },
  {
   "cell_type": "code",
   "execution_count": null,
   "id": "41075eed",
   "metadata": {},
   "outputs": [],
   "source": [
    "plot_box_and_kde_churn(df, 'tenure')\n",
    "mannwhitney_test(df, 'tenure')"
   ]
  },
  {
   "cell_type": "markdown",
   "id": "df97e95c",
   "metadata": {},
   "source": [
    "##### Business Insights\n",
    "\n",
    "- Pelanggan yang tidak churn biasanya sudah lama berlangganan (median 38 bulan), sedangkan yang churn cenderung berhenti dalam waktu singkat (median 10 bulan). Artinya, risiko churn paling besar terjadi di awal masa langganan, terutama dalam 1 tahun pertama. Menjaga pelanggan di fase awal sangat penting untuk mengurangi churn."
   ]
  },
  {
   "cell_type": "markdown",
   "id": "57796867",
   "metadata": {},
   "source": [
    "#### 2.6.2 Apakah terdapat perbedaan total pengeluaran pelanggan antara yang churn dan tidak churn?\n"
   ]
  },
  {
   "cell_type": "code",
   "execution_count": null,
   "id": "65e218e2",
   "metadata": {},
   "outputs": [],
   "source": [
    "plot_box_and_kde_churn(df, 'TotalCharges')\n",
    "mannwhitney_test(df, 'TotalCharges')"
   ]
  },
  {
   "cell_type": "markdown",
   "id": "635ac6c3",
   "metadata": {},
   "source": [
    "##### Business Insights\n",
    "\n",
    "- Pelanggan yang tidak churn memiliki total pengeluaran jauh lebih tinggi (median $1.683) dibanding pelanggan yang churn (median $704). Ini menunjukkan bahwa pelanggan churn sering kali berhenti sebelum memberikan nilai ekonomi maksimal. Banyak churn terjadi saat nilai pelanggan masih rendah."
   ]
  },
  {
   "cell_type": "markdown",
   "id": "c69a0db0",
   "metadata": {},
   "source": [
    "#### 2.6.3 Bagaimana perbedaan biaya bulanan pelanggan antara yang churn dan tidak churn?\n"
   ]
  },
  {
   "cell_type": "code",
   "execution_count": null,
   "id": "4cf7719b",
   "metadata": {},
   "outputs": [],
   "source": [
    "plot_box_and_kde_churn(df, 'MonthlyCharges')\n",
    "mannwhitney_test(df, 'MonthlyCharges')"
   ]
  },
  {
   "cell_type": "markdown",
   "id": "879277ee",
   "metadata": {},
   "source": [
    "##### Business Insights\n",
    "\n",
    "- Pelanggan yang churn cenderung memiliki tagihan bulanan lebih tinggi (median $79.65) dibanding yang tidak churn (median $64.45). Artinya, semakin mahal biaya bulanan, semakin besar kemungkinan pelanggan untuk berhenti."
   ]
  },
  {
   "cell_type": "markdown",
   "id": "9affdaad",
   "metadata": {},
   "source": [
    "#### 2.6.4 Bagaimana perbedaan tingkat churn antara pelanggan laki-laki dan perempuan?"
   ]
  },
  {
   "cell_type": "code",
   "execution_count": null,
   "id": "8e860914",
   "metadata": {},
   "outputs": [],
   "source": [
    "plot_stacked_barh_churn(df, 'gender')"
   ]
  },
  {
   "cell_type": "markdown",
   "id": "7a775ae1",
   "metadata": {},
   "source": [
    "##### Business Insights\n",
    "\n",
    "- Tingkat churn antara pelanggan laki-laki (26.2%) dan perempuan (27.0%) hampir sama. Artinya, gender bukan faktor penentu utama dalam keputusan pelanggan untuk berhenti berlangganan."
   ]
  },
  {
   "cell_type": "markdown",
   "id": "7b340d99",
   "metadata": {},
   "source": [
    "#### 2.6.5 Bagaimana perbedaan tingkat churn antara pelanggan lansia dan non-lansia?\n"
   ]
  },
  {
   "cell_type": "code",
   "execution_count": null,
   "id": "b3d3947b",
   "metadata": {},
   "outputs": [],
   "source": [
    "plot_stacked_barh_churn(df, 'SeniorCitizen')"
   ]
  },
  {
   "cell_type": "markdown",
   "id": "9bf07320",
   "metadata": {},
   "source": [
    "##### Business Insights\n",
    "\n",
    "- Pelanggan lansia (SeniorCitizen = Yes) memiliki tingkat churn yang jauh lebih tinggi (41.7%) dibandingkan pelanggan non-lansia (23.7%). Ini menunjukkan bahwa pelanggan lansia cenderung lebih rentan untuk berhenti berlangganan."
   ]
  },
  {
   "cell_type": "markdown",
   "id": "3b1d468a",
   "metadata": {},
   "source": [
    "#### 2.6.6 Bagaimana perbedaan tingkat churn antara pelanggan yang memiliki pasangan dan yang tidak?\n"
   ]
  },
  {
   "cell_type": "code",
   "execution_count": null,
   "id": "edeb8a3c",
   "metadata": {},
   "outputs": [],
   "source": [
    "plot_stacked_barh_churn(df, 'Partner')"
   ]
  },
  {
   "cell_type": "markdown",
   "id": "62c9c320",
   "metadata": {},
   "source": [
    "##### Business Insights\n",
    "\n",
    "- Pelanggan tanpa pasangan (Partner = No) memiliki tingkat churn yang jauh lebih tinggi (33.0%) dibandingkan pelanggan yang memiliki pasangan (19.7%). Ini menunjukkan bahwa pelanggan yang hidup sendiri cenderung lebih mudah meninggalkan layanan."
   ]
  },
  {
   "cell_type": "markdown",
   "id": "f6183c57",
   "metadata": {},
   "source": [
    "#### 2.6.7 Bagaimana perbedaan tingkat churn antara pelanggan yang memiliki tanggungan dan yang tidak?\n"
   ]
  },
  {
   "cell_type": "code",
   "execution_count": null,
   "id": "1acc3ab2",
   "metadata": {},
   "outputs": [],
   "source": [
    "plot_stacked_barh_churn(df, 'Dependents')"
   ]
  },
  {
   "cell_type": "markdown",
   "id": "d0af3879",
   "metadata": {},
   "source": [
    "##### Business Insights\n",
    "\n",
    "- Pelanggan tanpa tanggungan (Dependents = No) memiliki tingkat churn yang jauh lebih tinggi (31.3%) dibandingkan pelanggan dengan tanggungan (15.5%). Ini menunjukkan bahwa pelanggan dengan tanggungan cenderung lebih stabil dan loyal terhadap layanan."
   ]
  },
  {
   "cell_type": "markdown",
   "id": "41d6e05e",
   "metadata": {},
   "source": [
    "#### 2.6.8 Bagaimanakah tingkat churn berbeda antara pelanggan yang menggunakan layanan telepon dan yang tidak?\n"
   ]
  },
  {
   "cell_type": "code",
   "execution_count": null,
   "id": "f3dbf4fd",
   "metadata": {},
   "outputs": [],
   "source": [
    "plot_stacked_barh_churn(df, 'PhoneService')"
   ]
  },
  {
   "cell_type": "markdown",
   "id": "b02a07f0",
   "metadata": {},
   "source": [
    "##### Business Insights\n",
    "\n",
    "- Tingkat churn antara pelanggan yang memiliki layanan telepon (26.7%) dan yang tidak memiliki (25.0%) relatif serupa. Ini menunjukkan bahwa keberadaan layanan telepon tidak memiliki pengaruh signifikan terhadap churn."
   ]
  },
  {
   "cell_type": "markdown",
   "id": "e44d548b",
   "metadata": {},
   "source": [
    "#### 2.6.9 Bagaimanakah tingkat churn berbeda antara pelanggan yang memiliki beberapa saluran telepon, satu saluran, atau tidak menggunakan layanan telepon?\n"
   ]
  },
  {
   "cell_type": "code",
   "execution_count": null,
   "id": "7fb7e7ab",
   "metadata": {},
   "outputs": [],
   "source": [
    "plot_stacked_barh_churn(df, 'MultipleLines')"
   ]
  },
  {
   "cell_type": "markdown",
   "id": "d961e104",
   "metadata": {},
   "source": [
    "##### Business Insights\n",
    "\n",
    "- **Pelanggan dengan layanan *Multiple Lines* memiliki tingkat *churn* yang sedikit lebih tinggi (sekitar 29%) dibandingkan pelanggan dengan satu jalur telepon (sekitar 25%).** Hal ini menunjukkan bahwa layanan tambahan ini, meskipun meningkatkan pendapatan, juga berkorelasi dengan risiko *churn* yang sedikit lebih besar."
   ]
  },
  {
   "cell_type": "markdown",
   "id": "47bdcf87",
   "metadata": {},
   "source": [
    "#### 2.6.10 Bagaimanakah tingkat churn berbeda antara pelanggan yang menggunakan DSL, fiber optic, atau tidak menggunakan layanan internet?\n"
   ]
  },
  {
   "cell_type": "code",
   "execution_count": null,
   "id": "232137e9",
   "metadata": {},
   "outputs": [],
   "source": [
    "plot_stacked_barh_churn(df, 'InternetService')"
   ]
  },
  {
   "cell_type": "markdown",
   "id": "7b33aa2f",
   "metadata": {},
   "source": [
    "##### Business Insights\n",
    "\n",
    "- Pelanggan dengan lebih dari satu saluran telepon (`MultipleLines = Yes`) memiliki tingkat churn sedikit lebih tinggi (28.6%) dibanding yang hanya punya satu saluran (25.1%). Meskipun selisihnya tidak besar, hal ini bisa mencerminkan bahwa pelanggan dengan banyak saluran mungkin lebih demanding dan sensitif terhadap layanan."
   ]
  },
  {
   "cell_type": "markdown",
   "id": "d0d7ad97",
   "metadata": {},
   "source": [
    "#### 2.6.11 Bagaimanakah tingkat churn berbeda antara pelanggan yang menggunakan perlindungan keamanan online, tidak menggunakan, atau tidak memiliki layanan internet?\n"
   ]
  },
  {
   "cell_type": "code",
   "execution_count": null,
   "id": "084cfdaf",
   "metadata": {},
   "outputs": [],
   "source": [
    "plot_stacked_barh_churn(df, 'OnlineSecurity')"
   ]
  },
  {
   "cell_type": "markdown",
   "id": "b59eb882",
   "metadata": {},
   "source": [
    "##### Business Insights\n",
    "\n",
    "- Tingkat churn jauh lebih rendah pada pelanggan yang menggunakan layanan `OnlineSecurity` (14.6%) dibanding yang tidak menggunakannya (41.8%). Bahkan, pelanggan tanpa internet pun menunjukkan churn sangat rendah (7.4%), yang menegaskan pentingnya layanan keamanan digital sebagai faktor retensi utama."
   ]
  },
  {
   "cell_type": "markdown",
   "id": "3d6cf715",
   "metadata": {},
   "source": [
    "#### 2.6.12 Bagaimanakah tingkat churn berbeda antara pelanggan yang menggunakan cadangan data online, tidak menggunakan, atau tidak memiliki layanan internet?\n"
   ]
  },
  {
   "cell_type": "code",
   "execution_count": null,
   "id": "341713c8",
   "metadata": {},
   "outputs": [],
   "source": [
    "plot_stacked_barh_churn(df, 'OnlineBackup')"
   ]
  },
  {
   "cell_type": "markdown",
   "id": "c9a4a463",
   "metadata": {},
   "source": [
    "##### Business Insights\n",
    "\n",
    "- Pelanggan yang menggunakan layanan `OnlineBackup` memiliki tingkat churn lebih rendah (21.6%) dibanding yang tidak menggunakannya (39.9%). Ini menunjukkan bahwa layanan pendukung seperti backup data dapat meningkatkan loyalitas. Bahkan pelanggan tanpa layanan internet menunjukkan churn sangat rendah (7.4%)."
   ]
  },
  {
   "cell_type": "markdown",
   "id": "c2caf774",
   "metadata": {},
   "source": [
    "#### 2.6.13 Bagaimanakah tingkat churn berbeda antara pelanggan yang menggunakan perlindungan perangkat, tidak menggunakan, atau tidak memiliki layanan internet?\n"
   ]
  },
  {
   "cell_type": "code",
   "execution_count": null,
   "id": "a9713dad",
   "metadata": {},
   "outputs": [],
   "source": [
    "plot_stacked_barh_churn(df, 'DeviceProtection')"
   ]
  },
  {
   "cell_type": "markdown",
   "id": "a22d2f8d",
   "metadata": {},
   "source": [
    "##### Business Insights\n",
    "\n",
    "- Pelanggan yang menggunakan layanan `DeviceProtection` memiliki tingkat churn lebih rendah (22.5%) dibanding yang tidak menggunakannya (39.1%). Hal ini mengindikasikan bahwa layanan tambahan yang memberikan rasa aman terhadap perangkat berkontribusi pada retensi pelanggan. Pelanggan tanpa internet menunjukkan churn sangat rendah (7.4%), menandakan keterkaitan kuat antara layanan internet dan kebutuhan akan proteksi perangkat."
   ]
  },
  {
   "cell_type": "markdown",
   "id": "6ce1f76d",
   "metadata": {},
   "source": [
    "#### 2.6.14 Bagaimanakah tingkat churn berbeda antara pelanggan yang menggunakan dukungan teknis, tidak menggunakan, atau tidak memiliki layanan internet?\n"
   ]
  },
  {
   "cell_type": "code",
   "execution_count": null,
   "id": "fd57a018",
   "metadata": {},
   "outputs": [],
   "source": [
    "plot_stacked_barh_churn(df, 'TechSupport')"
   ]
  },
  {
   "cell_type": "markdown",
   "id": "760db6db",
   "metadata": {},
   "source": [
    "##### Business Insights\n",
    "\n",
    "- **Pelanggan internet yang tidak memiliki *Tech Support* memiliki tingkat *churn* yang sangat tinggi, yaitu sekitar 42%.** Ini menjadikan mereka sebagai salah satu segmen pelanggan dengan risiko tertinggi untuk berhenti berlangganan.\n",
    "\n",
    "- **Sebaliknya, pelanggan yang memiliki *Tech Support* tingkat *churn*-nya sangat rendah, yaitu sekitar 15%.** Hal ini membuktikan bahwa layanan *Tech Support* adalah fitur yang sangat vital untuk mempertahankan pelanggan.\n",
    "\n",
    "- **Secara keseluruhan, ketiadaan layanan *Tech Support* adalah salah satu prediktor *churn* terkuat.** Pelanggan internet tanpa dukungan teknis ini hampir tiga kali lebih mungkin untuk berhenti berlangganan."
   ]
  },
  {
   "cell_type": "markdown",
   "id": "25e93955",
   "metadata": {},
   "source": [
    "#### 2.6.15 Bagaimanakah tingkat churn berbeda antara pelanggan yang menggunakan layanan streaming TV, tidak menggunakan, atau tidak memiliki layanan internet?\n"
   ]
  },
  {
   "cell_type": "code",
   "execution_count": null,
   "id": "4601d244",
   "metadata": {},
   "outputs": [],
   "source": [
    "plot_stacked_barh_churn(df, 'StreamingTV')"
   ]
  },
  {
   "cell_type": "markdown",
   "id": "5727ccc3",
   "metadata": {},
   "source": [
    "##### Business Insights\n",
    "\n",
    "- Pelanggan yang menggunakan layanan `TechSupport` memiliki tingkat churn jauh lebih rendah (15.2%) dibandingkan yang tidak menggunakannya (41.6%). Ini menunjukkan bahwa dukungan teknis merupakan layanan bernilai yang meningkatkan kepuasan dan loyalitas pelanggan. Sebaliknya, pelanggan tanpa akses internet juga menunjukkan churn sangat rendah (7.4%)."
   ]
  },
  {
   "cell_type": "markdown",
   "id": "d860c0d5",
   "metadata": {},
   "source": [
    "#### 2.6.16 Bagaimanakah tingkat churn berbeda antara pelanggan yang menggunakan layanan streaming film, tidak menggunakan, atau tidak memiliki layanan internet?\n"
   ]
  },
  {
   "cell_type": "code",
   "execution_count": null,
   "id": "1fc417a7",
   "metadata": {},
   "outputs": [],
   "source": [
    "plot_stacked_barh_churn(df, 'StreamingMovies')"
   ]
  },
  {
   "cell_type": "markdown",
   "id": "57d95e84",
   "metadata": {},
   "source": [
    "##### Business Insights\n",
    "\n",
    "- Tingkat churn pelanggan yang menonton film (`Yes`) dan yang tidak (`No`) cukup mirip (30.0% vs 33.7%). Artinya, layanan `StreamingMovies` tidak terlalu berpengaruh dalam menekan churn. Sementara itu, pelanggan tanpa layanan internet kembali menunjukkan churn yang sangat rendah (7.4%)."
   ]
  },
  {
   "cell_type": "markdown",
   "id": "8aa50b50",
   "metadata": {},
   "source": [
    "#### 2.6.17 Bagaimanakah tingkat churn berbeda berdasarkan jenis kontrak langganan yang dipilih pelanggan?\n"
   ]
  },
  {
   "cell_type": "code",
   "execution_count": null,
   "id": "883a001e",
   "metadata": {},
   "outputs": [],
   "source": [
    "plot_stacked_barh_churn(df, 'Contract')"
   ]
  },
  {
   "cell_type": "markdown",
   "id": "78d2e780",
   "metadata": {},
   "source": [
    "##### Business Insights\n",
    "\n",
    "- Pelanggan dengan kontrak **month-to-month** memiliki tingkat churn tertinggi (42.7%), jauh lebih tinggi dibandingkan dengan kontrak **one year** (11.3%) dan **two year** (2.8%). Artinya, semakin lama durasi kontrak, semakin kecil kemungkinan pelanggan untuk churn."
   ]
  },
  {
   "cell_type": "markdown",
   "id": "18bf1fe1",
   "metadata": {},
   "source": [
    "#### 2.6.18 Bagaimanakah tingkat churn berbeda antara pelanggan yang menggunakan tagihan tanpa kertas dan yang tidak?\n"
   ]
  },
  {
   "cell_type": "code",
   "execution_count": null,
   "id": "15e1cd1f",
   "metadata": {},
   "outputs": [],
   "source": [
    "plot_stacked_barh_churn(df, 'PaperlessBilling')"
   ]
  },
  {
   "cell_type": "markdown",
   "id": "f2b8e5ed",
   "metadata": {},
   "source": [
    "##### Business Insights\n",
    "\n",
    "- Pelanggan yang menggunakan **paperless billing** memiliki tingkat churn lebih tinggi (33.6%) dibandingkan dengan yang tidak menggunakan (16.4%). Ini menunjukkan bahwa pelanggan digital cenderung lebih mudah berhenti berlangganan."
   ]
  },
  {
   "cell_type": "markdown",
   "id": "f3296d4c",
   "metadata": {},
   "source": [
    "#### 2.6.19 Bagaimanakah tingkat churn berbeda berdasarkan metode pembayaran yang digunakan pelanggan?\n"
   ]
  },
  {
   "cell_type": "code",
   "execution_count": null,
   "id": "e742d223",
   "metadata": {},
   "outputs": [],
   "source": [
    "plot_stacked_barh_churn(df, 'PaymentMethod')"
   ]
  },
  {
   "cell_type": "markdown",
   "id": "1d941c2a",
   "metadata": {},
   "source": [
    "##### Business Insights\n",
    "\n",
    "- Pelanggan yang menggunakan **Electronic check** memiliki tingkat churn paling tinggi (45.3%), jauh di atas metode pembayaran otomatis seperti **Credit card (15.3%)** atau **Bank transfer (16.7%)**.\n",
    "- Metode manual seperti *mailed check* juga menunjukkan churn yang relatif rendah (19.2%)."
   ]
  },
  {
   "cell_type": "markdown",
   "id": "17a9ec67",
   "metadata": {},
   "source": [
    "### 2.7 Ringkasan EDA\n",
    "\n",
    "- **Tenure (Lama Berlangganan)**  \n",
    "  Sebagian besar pelanggan berhenti dalam 9 bulan pertama, menunjukkan churn awal sangat tinggi. Pelanggan yang bertahan cenderung jauh lebih lama, dengan median 38 bulan dibandingkan 10 bulan untuk yang churn.\n",
    "\n",
    "- **Total Charges (Total Pengeluaran)**  \n",
    "  Pelanggan churn biasanya belum memberi kontribusi besar secara ekonomi. Median pengeluaran mereka hanya $704, jauh lebih rendah dibandingkan $1.683 pada pelanggan non-churn.\n",
    "\n",
    "- **Monthly Charges (Tagihan Bulanan)**  \n",
    "  Pelanggan dengan tagihan bulanan lebih tinggi lebih rentan churn. Median tagihan pelanggan churn mencapai $79.65, dibandingkan $64.45 pada pelanggan yang tetap.\n",
    "\n",
    "- **Churn Rate (Tingkat Churn)**  \n",
    "  Tingkat churn dalam data ini cukup tinggi, yaitu 26,6%. Dataset juga tidak seimbang karena pelanggan non-churn hampir tiga kali lebih banyak.\n",
    "\n",
    "- **Gender (Jenis Kelamin)**  \n",
    "  Distribusi gender seimbang antara pria dan wanita. Tidak ditemukan perbedaan signifikan dalam tingkat churn antar gender.\n",
    "\n",
    "- **Senior Citizen (Lansia)**  \n",
    "  Pelanggan lansia memiliki tingkat churn jauh lebih tinggi (41,7%). Sementara itu, pelanggan non-lansia hanya 23,7%.\n",
    "\n",
    "- **Partners (Status Pasangan)**  \n",
    "  Pelanggan yang tidak memiliki pasangan lebih sering churn, yaitu sebesar 33%. Sedangkan pelanggan yang memiliki pasangan hanya 19,7%.\n",
    "\n",
    "- **Dependents (Tanggungan)**  \n",
    "  Mayoritas pelanggan tidak memiliki tanggungan, dan kelompok ini lebih rentan churn. Tingkat churn mereka adalah 31,3%, dibandingkan 15,5% pada yang memiliki tanggungan.\n",
    "\n",
    "- **Internet Service**  \n",
    "  Layanan internet merupakan produk utama perusahaan, digunakan oleh 78,4% pelanggan. Ini menjadi layanan inti dalam portofolio.\n",
    "\n",
    "- **Value-Added Services (Security, Backup, Tech Support)**  \n",
    "  Pelanggan yang menggunakan layanan tambahan seperti keamanan atau bantuan teknis cenderung lebih loyal. Layanan ini terbukti menurunkan churn secara signifikan.\n",
    "\n",
    "- **Streaming Services**  \n",
    "  Penggunaan layanan streaming seperti TV dan film cukup seimbang. Namun, tidak terlihat pengaruh besar terhadap tingkat churn.\n",
    "\n",
    "- **Contract Type (Jenis Kontrak)**  \n",
    "  Kontrak bulanan paling banyak dipilih namun paling berisiko, dengan churn 42,7%. Sebaliknya, kontrak tahunan atau dua tahun jauh lebih stabil.\n",
    "\n",
    "- **Paperless Billing**  \n",
    "  Pelanggan yang menggunakan tagihan digital lebih sering churn (33,6%). Sedangkan yang masih memakai tagihan fisik memiliki churn lebih rendah (16,4%).\n",
    "\n",
    "- **Payment Method (Metode Pembayaran)**  \n",
    "  *Electronic check* merupakan metode dengan churn tertinggi sebesar 45,3%. Metode otomatis seperti kartu kredit dan transfer bank jauh lebih stabil.\n"
   ]
  },
  {
   "cell_type": "markdown",
   "id": "f054f9c4",
   "metadata": {},
   "source": [
    "### 2.8 Rekomendasi Bisnis\n",
    "\n",
    "- **Fokus pada Pelanggan Baru**  \n",
    "  Banyak pelanggan berhenti di 9 bulan pertama. Berikan edukasi, promo awal, dan dukungan aktif untuk meningkatkan retensi sejak awal langganan.\n",
    "\n",
    "- **Bangun Program Loyalitas Bertahap**  \n",
    "  Pelanggan yang bertahan lebih dari 2 tahun memberi nilai lebih tinggi. Tawarkan program loyalitas seperti diskon, poin, atau layanan tambahan untuk mempertahankan mereka.\n",
    "\n",
    "- **Tawarkan Paket Harga Menarik**  \n",
    "  Pelanggan dengan tagihan bulanan tinggi lebih mudah churn. Sediakan bundling atau paket harga menengah agar mereka merasa mendapatkan nilai lebih.\n",
    "\n",
    "- **Segmentasi Pelanggan Rentan**  \n",
    "  Kelompok lansia, pelanggan tanpa pasangan, dan tanpa tanggungan lebih sering churn. Berikan pendekatan komunikasi dan penawaran khusus yang sesuai karakteristik mereka.\n",
    "\n",
    "- **Dorong Penggunaan Layanan Tambahan**  \n",
    "  Layanan seperti Online Security dan Tech Support terbukti menurunkan churn. Berikan uji coba gratis atau promosi agar pelanggan tertarik menggunakannya.\n",
    "\n",
    "- **Arahkan ke Kontrak Jangka Panjang**  \n",
    "  Pelanggan kontrak bulanan lebih sering churn. Beri insentif agar mereka pindah ke kontrak 1–2 tahun untuk meningkatkan retensi dan pendapatan tetap.\n",
    "\n",
    "- **Perbaiki Metode Pembayaran**  \n",
    "  Metode *electronic check* memiliki churn tertinggi. Dorong pelanggan untuk pindah ke pembayaran otomatis seperti kartu kredit atau transfer bank.\n",
    "\n",
    "- **Evaluasi Paperless Billing**  \n",
    "  Pelanggan paperless billing lebih sering churn. Tinjau kembali pengalaman digital untuk memastikan prosesnya mudah dan tidak membingungkan.\n",
    "\n",
    "- **Lakukan Analisis Churn Lebih Dalam**  \n",
    "  Dengan churn cukup tinggi dan data tidak seimbang, perlu analisis lebih lanjut untuk memahami pola churn. Ini penting untuk membangun model prediksi yang lebih akurat dan adil.\n"
   ]
  },
  {
   "cell_type": "markdown",
   "id": "616cfd72",
   "metadata": {},
   "source": [
    "### 2.9 Save Dataset"
   ]
  },
  {
   "cell_type": "code",
   "execution_count": null,
   "id": "4b36e914",
   "metadata": {},
   "outputs": [],
   "source": [
    "df.to_csv('../data/telco_data_eda.csv', index=False)"
   ]
  }
 ],
 "metadata": {
  "kernelspec": {
   "display_name": "myenv",
   "language": "python",
   "name": "python3"
  },
  "language_info": {
   "codemirror_mode": {
    "name": "ipython",
    "version": 3
   },
   "file_extension": ".py",
   "mimetype": "text/x-python",
   "name": "python",
   "nbconvert_exporter": "python",
   "pygments_lexer": "ipython3",
   "version": "3.13.5"
  }
 },
 "nbformat": 4,
 "nbformat_minor": 5
}
