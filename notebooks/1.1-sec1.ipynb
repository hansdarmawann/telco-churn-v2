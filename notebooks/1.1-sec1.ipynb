{
 "cells": [
  {
   "cell_type": "markdown",
   "id": "eec3b0e7",
   "metadata": {},
   "source": [
    "# Improving Customer Churn Rate in Telecom: A Machine Learning Approach\n",
    "by Alpha Team - Abe, Alfi, Hans"
   ]
  },
  {
   "cell_type": "markdown",
   "id": "d4b36e82",
   "metadata": {
    "vscode": {
     "languageId": "plaintext"
    }
   },
   "source": [
    "## Section 1. Business Understanding\n",
    "\n",
    "### 1.1 Background\n",
    "Perusahaan XYZ merupakan penyedia layanan telekomunikasi terkemuka yang dikenal karena pendekatannya yang inovatif dan berfokus pada pelanggan. Beroperasi di pasar yang sangat kompetitif, XYZ menawarkan beragam layanan seperti telepon seluler, internet broadband, dan layanan digital, yang ditujukan untuk pelanggan individu maupun bisnis. Meskipun memiliki posisi yang kuat di pasar, XYZ menghadapi tantangan besar terkait churn pelanggan, yaitu hilangnya pelanggan yang dapat berdampak langsung pada pendapatan dan pertumbuhan perusahaan. Dengan memanfaatkan analisis data dan wawasan pelanggan, XYZ berupaya mengurangi tingkat churn serta meningkatkan retensi pelanggan, guna menjaga keberlanjutan dan profitabilitas jangka panjang di industri telekomunikasi yang dinamis.\n",
    "\n",
    "Churn pelanggan di industri telekomunikasi mengacu pada tingkat pelanggan yang berhenti menggunakan layanan dalam periode waktu tertentu. Fenomena ini sangat krusial karena berdampak langsung terhadap pendapatan dan laba perusahaan. Alasan pelanggan berhenti bisa bermacam-macam, mulai dari ketidakpuasan terhadap kualitas layanan, harga yang tidak kompetitif, layanan pelanggan yang buruk, hingga penawaran menarik dari pesaing. Memahami dan mengelola churn sangat penting agar perusahaan dapat menjaga basis pelanggan yang stabil serta kesehatan finansialnya. Pada proyek ini, seorang pelanggan didefinisikan sebagai 'churn' jika mereka tidak memperpanjang atau menghentikan layanan berlangganan mereka dalam waktu 30 hari setelah periode tagihan terakhir.\n",
    "\n",
    "### 1.2 Gap Analysis\n",
    "\n",
    "Fokus utama dari proyek ini adalah untuk mengubah pendekatan perusahaan dalam menangani pelanggan, yaitu beralih dari yang semula hanya reaktif menjadi sebuah strategi mitigasi risiko churn yang proaktif. Saat ini, strategi tersebut belum berjalan efektif karena perusahaan tidak memiliki cara untuk mengidentifikasi pelanggan mana yang berisiko tinggi akan berhenti. Akibatnya, tindakan pencegahan sering kali terlambat atau tidak tepat sasaran, seperti memberikan penawaran massal yang justru membuang biaya.\n",
    "\n",
    "Solusi yang diusulkan adalah sebuah strategi mitigasi yang cerdas, dimulai dengan mengidentifikasi pelanggan berisiko tinggi secara dini. Setelah risiko diketahui, tindakan pencegahan yang terfokus—seperti memberikan penawaran khusus senilai $50—dapat dialokasikan secara efisien hanya kepada mereka. Pendekatan ini dapat menekan angka churn secara signifikan sekaligus menghindari biaya akuisisi pelanggan baru yang mahal ($200).\n",
    "\n",
    "Untuk mewujudkan strategi tersebut, proyek ini bertujuan membangun sebuah alat prediksi. Alat ini akan menjadi fondasi utama dari strategi mitigasi risiko dan berfungsi sebagai sistem peringatan dini (early warning system) yang memungkinkan perusahaan untuk bertindak sebelum kehilangan pelanggan.\n",
    "\n",
    "### 1.3 Problem Statements (Tambahkan pertanyaan bisnis EDA)\n",
    "- Siapa saja pelanggan yang berisiko churn?\n",
    "- Faktor apa saja yang paling memengaruhi churn pelanggan?\n",
    "- Bagaimana cara perusahaan menurunkan churn dan meningkatkan retensi pelanggan?\n",
    "\n",
    "### 1.4 Goals (Sesuaikan dengan 1.3)\n",
    "- Mengembangkan model prediktif untuk mengklasifikasikan pelanggan apakah akan churn atau tidak.\n",
    "- Mengidentifikasi fitur atau atribut utama yang memengaruhi churn.\n",
    "- Memberikan rekomendasi yang dapat ditindaklanjuti untuk menurunkan churn.\n",
    "\n",
    "### 1.5 Analytical Approach\n",
    "Pendekatan analisis akan dilakukan dalam dua tahap utama. Pertama, akan dilakukan Analisis Data Eksploratif (EDA). Tahap ini seperti \"menggali\" data yang sudah ada untuk mencari tahu lebih dalam tentang perilaku pelanggan. Tujuannya adalah untuk menemukan pola atau ciri-ciri menarik dari pelanggan yang cenderung berhenti berlangganan. Hasil dari analisis ini bisa langsung memberikan rekomendasi awal untuk bisnis.\n",
    "\n",
    "Kedua, wawasan dari tahap pertama akan digunakan untuk membangun sebuah model klasifikasi. Sederhananya, ini adalah sistem cerdas yang dilatih untuk memprediksi pelanggan mana yang kemungkinan besar akan churn. Untuk membuktikan kegunaannya, kinerja model ini akan diukur dan dibandingkan dengan skenario \"tanpa model\", yaitu kondisi perusahaan saat ini yang tidak memiliki sistem prediksi. Perbandingan ini akan menunjukkan secara jelas keuntungan dari penerapan pendekatan berbasis data.\n",
    "\n",
    "### 1.6 Metric Evaluation (FN, FP, F2)\n",
    "- Business Metric 1: Customer Acquisition Cost (CAC)\n",
    "  + Biaya Akuisisi Pelanggan (CAC) adalah metrik penting yang mengukur total biaya yang dikeluarkan untuk mendapatkan pelanggan baru, termasuk biaya pemasaran dan penjualan. Menurut Yoga (2024), nilai CAC diasumsikan sebesar $200 per pelanggan.\n",
    "\n",
    "- Business Metric 2: Customer Retention Cost (CRC)\n",
    "  + Biaya Retensi Pelanggan (CRC) adalah total biaya yang dikeluarkan perusahaan untuk mempertahankan pelanggan, termasuk gaji layanan pelanggan, program loyalitas, dan manajemen akun. Yoga (2024) mengasumsikan bahwa nilai CRC adalah $50 per pelanggan.\n",
    "\n",
    "- Machine Learning Evaluation Metric: F2-Score\n",
    "  + F2-Score memberikan bobot lebih besar pada recall dibandingkan precision, sehingga sangat cocok untuk kasus churn prediction. Dalam konteks ini, kehilangan pelanggan yang benar-benar akan churn (false negative) lebih berdampak dibandingkan salah menandai pelanggan setia sebagai akan churn (false positive).\n",
    "\n",
    "### 1.7 Success Criteria (Tambahkan yang bisnis juga)\n",
    "- Mencapai performa klasifikasi dengan F2-Score >= 80%.\n",
    "- Menghasilkan model prediktif yang dapat memandu strategi retensi, sehingga berpotensi menurunkan Churn Rate dan mengoptimalkan penggunaan biaya retensi (CRC).\n",
    "- Menyediakan wawasan yang dapat diinterpretasikan untuk mendukung pengambilan keputusan bisnis.\n"
   ]
  }
 ],
 "metadata": {
  "language_info": {
   "name": "python"
  }
 },
 "nbformat": 4,
 "nbformat_minor": 5
}
