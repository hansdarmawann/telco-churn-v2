{
 "cells": [
  {
   "cell_type": "markdown",
   "id": "eec3b0e7",
   "metadata": {},
   "source": [
    "# Improving Customer Churn Rate in Telecom: A Machine Learning Approach\n",
    "by Alpha Team - Abe, Alfi, Hans"
   ]
  },
  {
   "cell_type": "markdown",
   "id": "d4b36e82",
   "metadata": {
    "vscode": {
     "languageId": "plaintext"
    }
   },
   "source": [
    "## Section 1. Business Understanding\n",
    "\n",
    "### 1.1 Background\n",
    "\n",
    "Perusahaan XYZ merupakan penyedia layanan telekomunikasi terkemuka yang dikenal karena pendekatannya yang inovatif dan berfokus pada pelanggan. Beroperasi di pasar yang sangat kompetitif, XYZ menawarkan beragam layanan seperti telepon seluler, internet broadband, dan layanan digital, yang ditujukan untuk pelanggan individu maupun bisnis. Meskipun memiliki posisi yang kuat di pasar, XYZ menghadapi tantangan besar terkait churn pelanggan, yaitu hilangnya pelanggan yang dapat berdampak langsung pada pendapatan dan pertumbuhan perusahaan. Dengan memanfaatkan analisis data dan wawasan pelanggan, XYZ berupaya mengurangi tingkat churn serta meningkatkan retensi pelanggan, guna menjaga keberlanjutan dan profitabilitas jangka panjang di industri telekomunikasi yang dinamis.\n",
    "\n",
    "Churn pelanggan di industri telekomunikasi mengacu pada tingkat pelanggan yang berhenti menggunakan layanan dalam periode waktu tertentu. Fenomena ini sangat krusial karena berdampak langsung terhadap pendapatan dan laba perusahaan. Alasan pelanggan berhenti bisa bermacam-macam, mulai dari ketidakpuasan terhadap kualitas layanan, harga yang tidak kompetitif, layanan pelanggan yang buruk, hingga penawaran menarik dari pesaing. Memahami dan mengelola churn sangat penting agar perusahaan dapat menjaga basis pelanggan yang stabil serta kesehatan finansialnya. Dalam konteks proyek ini, seorang pelanggan didefinisikan sebagai \"churn\" jika mereka tidak memperpanjang atau menghentikan layanan berlangganan mereka dalam periode tertentu.\n",
    "\n",
    "### 1.2 Gap Analysis\n",
    "\n",
    "Fokus utama dari proyek ini adalah mengubah pendekatan perusahaan dalam menangani churn pelanggan, dari yang sebelumnya bersifat reaktif menjadi strategi mitigasi risiko yang proaktif. Saat ini, perusahaan belum memiliki mekanisme yang efektif untuk mengidentifikasi pelanggan mana yang berisiko tinggi berhenti berlangganan. Akibatnya, upaya retensi sering kali dilakukan terlambat atau tidak tepat sasaran, seperti memberikan penawaran secara massal yang justru menyebabkan pemborosan anggaran.\n",
    "\n",
    "Solusi yang diusulkan adalah pengembangan strategi mitigasi churn yang cerdas, dimulai dengan identifikasi dini terhadap pelanggan berisiko tinggi. Setelah pelanggan ini dikenali, tindakan preventif seperti pemberian penawaran khusus senilai $139 dapat dialokasikan secara lebih efisien hanya kepada mereka yang memang berpotensi churn. Pendekatan ini diharapkan mampu menekan angka churn secara signifikan, sekaligus menghindari biaya akuisisi pelanggan baru yang jauh lebih mahal.\n",
    "\n",
    "Berdasarkan data industri, rata-rata **Customer Acquisition Cost (CAC)** di sektor telekomunikasi adalah sekitar **$694 per pelanggan baru**, mencakup biaya pemasaran dan penjualan hingga pelanggan resmi menggunakan layanan ([inbeat.agency](https://inbeat.agency/blog/customer-acquisition-statistics), [Investopedia](https://www.investopedia.com/terms/c/costofacquisition.asp)). Sementara itu, menurut riset dari **Simon-Kucher & Partners**, biaya untuk mempertahankan pelanggan (**Customer Retention Cost/CRC**) diperkirakan **lima kali lebih murah** dibandingkan biaya akuisisi, sehingga asumsi CRC ditetapkan sebesar **$139 per pelanggan (dibulatkan)** ([Simon-Kucher](https://www.simon-kucher.com/en/insights/cross-selling-and-upselling-telco-drive-customer-retention-and-profitability)).\n",
    "\n",
    "Untuk mendukung strategi ini, proyek bertujuan membangun alat prediksi churn berbasis data. Alat ini akan berfungsi sebagai sistem peringatan dini (*early warning system*) yang memungkinkan perusahaan untuk mengidentifikasi risiko churn secara akurat dan melakukan intervensi sebelum pelanggan benar-benar berhenti. Dengan demikian, perusahaan dapat meningkatkan efisiensi anggaran dan mempertahankan pendapatan secara lebih berkelanjutan.\n",
    "\n",
    "### 1.3 Problem Statements\n",
    "\n",
    "Perusahaan belum memiliki kemampuan yang andal untuk mengidentifikasi pelanggan yang berisiko churn maupun memahami faktor-faktor utama yang menyebabkan churn. Akibatnya, strategi retensi menjadi tidak efisien dan sering kali terlambat.\n",
    "\n",
    "Proyek ini berupaya menjawab dua pertanyaan kunci berikut:\n",
    "\n",
    "1. **Bagaimana cara mengidentifikasi pelanggan yang berisiko churn secara akurat sebelum mereka berhenti berlangganan?**  \n",
    "2. **Faktor-faktor apa saja yang paling berkontribusi terhadap churn, baik dari sisi demografi maupun perilaku penggunaan layanan?**\n",
    "\n",
    "\n",
    "\n",
    "### 1.4 Goals\n",
    "\n",
    "Tujuan dari proyek ini adalah membantu perusahaan mengurangi jumlah pelanggan yang berhenti berlangganan dengan cara yang lebih tepat dan efisien. Fokus utamanya adalah:\n",
    "\n",
    "1. **Membuat model prediksi** yang bisa mengenali pelanggan yang berisiko churn sebelum mereka benar-benar pergi.\n",
    "2. **Menemukan faktor-faktor utama** yang membuat pelanggan berhenti, seperti lama berlangganan, jumlah tagihan, jenis layanan, atau data demografi.\n",
    "3. **Memberikan rekomendasi strategis** berdasarkan data, agar perusahaan bisa mengambil tindakan retensi yang lebih terarah dan hemat biaya.\n",
    "\n",
    "\n",
    "### 1.5 Analytical Approach\n",
    "Pendekatan analisis akan dilakukan dalam dua tahap utama. Pertama, akan dilakukan Analisis Data Eksploratif (EDA). Tahap ini seperti \"menggali\" data yang sudah ada untuk mencari tahu lebih dalam tentang perilaku pelanggan. Tujuannya adalah untuk menemukan pola atau ciri-ciri menarik dari pelanggan yang cenderung berhenti berlangganan. Hasil dari analisis ini bisa langsung memberikan rekomendasi awal untuk bisnis.\n",
    "\n",
    "Kedua, wawasan dari tahap pertama akan digunakan untuk membangun sebuah model klasifikasi. Sederhananya, ini adalah sistem cerdas yang dilatih untuk memprediksi pelanggan mana yang kemungkinan besar akan churn. Untuk membuktikan kegunaannya, kinerja model ini akan diukur dan dibandingkan dengan skenario \"tanpa model\", yaitu kondisi perusahaan saat ini yang tidak memiliki sistem prediksi. Perbandingan ini akan menunjukkan secara jelas keuntungan dari penerapan pendekatan berbasis data.\n",
    "\n",
    "### 1.6 Metrics Evaluation: F2-Score\n",
    "\n",
    "F2-Score adalah versi modifikasi dari F1-Score yang dirancang khusus untuk situasi di mana **Recall** dianggap lebih penting daripada Presisi. Metrik ini menggabungkan Presisi dan Recall, namun memberikan bobot empat kali lebih besar pada Recall. Hal ini menjadikannya pilihan ideal untuk skenario bisnis di mana biaya akibat gagal mendeteksi sebuah kasus (**False Negative**) jauh lebih merugikan daripada biaya akibat salah menandai (**False Positive**).\n",
    "\n",
    "Dalam konteks prediksi *churn*, kesalahan prediksi memiliki implikasi biaya yang signifikan:\n",
    "\n",
    "* **False Negative (FN):** Terjadi ketika model memprediksi pelanggan akan **tetap setia**, padahal **kenyataannya pelanggan tersebut *churn***. Ini adalah kesalahan paling merugikan karena perusahaan kehilangan pelanggan tanpa sempat melakukan tindakan pencegahan. Setiap kali terjadi FN, perusahaan kehilangan seorang pelanggan dan harus mengeluarkan biaya untuk mencari pelanggan baru, yang dikenal sebagai **Customer Acquisition Cost (CAC)**. Kami mengasumsikan biaya per kesalahan FN adalah **$694**.\n",
    "\n",
    "    $$\\text{Total Biaya FN} = \\text{Jumlah FN} \\times \\$694$$\n",
    "\n",
    "* **False Positive (FP):** Terjadi ketika model memprediksi pelanggan akan ***churn***, padahal **kenyataannya pelanggan tersebut tetap setia**. Kesalahan ini tidak separah FN, namun tetap menimbulkan biaya yang tidak perlu. Ketika terjadi FP, perusahaan akan mengeluarkan biaya untuk tindakan retensi (misalnya, memberikan diskon atau bonus) kepada pelanggan yang sebenarnya tidak berniat pergi. Biaya ini disebut **Customer Retention Cost (CRC)**. Kami mengasumsikan biaya per kesalahan FP adalah **$139**.\n",
    "\n",
    "    $$\\text{Total Biaya FP} = \\text{Jumlah FP} \\times \\$139$$\n",
    "\n",
    "Mengingat bahwa biaya akibat **False Negative (CAC)** ($694) jauh lebih tinggi daripada biaya akibat **False Positive (CRC)** ($139), sangat penting bagi model untuk meminimalkan False Negatives. F2-Score secara khusus mendorong model untuk memaksimalkan penemuan pelanggan yang berisiko *churn* (yaitu, meningkatkan Recall), sehingga secara efektif mengurangi kerugian finansial yang terkait dengan kehilangan pelanggan. Ini menjadikan F2-Score sebagai alat ukur yang paling tepat karena ia mendorong model untuk memaksimalkan deteksi pelanggan yang berisiko *churn*.\n",
    "\n",
    "$$\\text{F2-Score} = 5 \\times \\frac{\\text{Precision} \\times \\text{Recall}}{4 \\times \\text{Precision} + \\text{Recall}}$$\n",
    "\n",
    "### 1.7 Success Criteria\n",
    "\n",
    "Proyek ini dianggap berhasil jika:\n",
    "\n",
    "1. **Model prediksi churn cukup akurat**, dengan F2-Score minimal 70%.\n",
    "2. **Pelanggan yang berisiko churn bisa dikenali lebih awal** sebelum mereka berhenti.\n",
    "3. **Faktor-faktor utama churn bisa dipahami** oleh tim bisnis, sehingga dapat digunakan untuk pengambilan keputusan."
   ]
  }
 ],
 "metadata": {
  "language_info": {
   "name": "python"
  }
 },
 "nbformat": 4,
 "nbformat_minor": 5
}
