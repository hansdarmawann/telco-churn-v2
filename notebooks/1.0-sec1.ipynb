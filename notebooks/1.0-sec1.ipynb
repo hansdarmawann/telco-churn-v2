{
 "cells": [
  {
   "cell_type": "markdown",
   "id": "eec3b0e7",
   "metadata": {},
   "source": [
    "# Improving Customer Churn Rate in Telecom: A Machine Learning Approach\n",
    "by Alpha Team - Abe, Alfi, Hans\n",
    "---\n",
    "## Section 1. Business Understanding\n",
    "### 1.1 Background\n",
    "(Kurleb mirip seperti sebelumnya)\n",
    "\n",
    "Di project Capstone 3 Hans sebelumnya, prediksi telco churn dari Rule-based jadi ML berhasil menurunkan biaya CAC dan CRC sebesar 25.63%, namun churn rate-nya tidak berkurang. Impactnya apa kalo seperti ini ?\n",
    "\n",
    "### 1.2 Gap Analysis\n",
    "(Kurleb mirip seperti sebelumnya)\n",
    "\n",
    "- Di project Capstone 3 Hans sebelumnya, prediksi telco churn dari Rule-based jadi ML berhasil menurunkan biaya CAC dan CRC sebesar 25.63%, namun churn rate-nya tidak berkurang. Impactnya apa kalo seperti ini ?\n",
    "- Dataset yang dipakai berbeda antara project lama dengan baru.\n",
    "\n",
    "### 1.3 Problem Statements\n",
    "(Kurleb mirip seperti sebelumnya)\n",
    "\n",
    "- Apa impactnya terhadap CAC dan CRC jika Churn Rate-nya turun ?\n",
    "\n",
    "### 1.4 Goals\n",
    "(Kurleb mirip seperti sebelumnya)\n",
    "- Develop ML yang dapat menurunkan churn rate sebesar ... %.\n",
    "- Keep CAC dan CRC, namun lebih bagus lagi kalau ikutan turun.\n",
    "\n",
    "### 1.5 Analytical Approach\n",
    "- Rule-based\n",
    "- ML-based\n",
    "\n",
    "### 1.6 Metric Evaluation\n",
    "- Business Metric 1: Customer Acquistion Rate (CAC)\n",
    "    + Biaya untuk mencari customer.\n",
    "\n",
    "- Business Metric 2: Customer Retention Rate (CRC)\n",
    "    + Biaya untuk mempertahankan customer\n",
    "\n",
    "- Business Metric 3: Churn Rate\n",
    "    + Jumlah kasus churn yang asli.\n",
    "\n",
    "- Machine Learning Evaluation Metric: ???\n",
    "    + Terakhir pakai recall, karena ingin meminimalisir false negative (Orang yang dianggapnya gak churn padahal dia Churn).\n",
    "    + Rekomendasi, coba pakai Recall, F1-Score, dan F2-Score. Jadi gak hanya 1 ML Metric doank.\n",
    "\n",
    "### 1.7 Success Criteria\n",
    "(Kurleb mirip seperti sebelumnya)"
   ]
  }
 ],
 "metadata": {
  "language_info": {
   "name": "python"
  }
 },
 "nbformat": 4,
 "nbformat_minor": 5
}
