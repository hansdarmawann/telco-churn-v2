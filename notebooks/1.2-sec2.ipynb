{
 "cells": [
  {
   "cell_type": "markdown",
   "id": "18c1db1f",
   "metadata": {},
   "source": [
    "## Section 2. Data Understanding\n",
    "### 2.1 Dataset Information"
   ]
  },
  {
   "cell_type": "code",
   "execution_count": 1,
   "id": "de692bfc",
   "metadata": {},
   "outputs": [
    {
     "name": "stdout",
     "output_type": "stream",
     "text": [
      "<class 'pandas.core.frame.DataFrame'>\n",
      "RangeIndex: 7043 entries, 0 to 7042\n",
      "Data columns (total 21 columns):\n",
      " #   Column            Non-Null Count  Dtype  \n",
      "---  ------            --------------  -----  \n",
      " 0   customerID        7043 non-null   object \n",
      " 1   gender            7043 non-null   object \n",
      " 2   SeniorCitizen     7043 non-null   int64  \n",
      " 3   Partner           7043 non-null   object \n",
      " 4   Dependents        7043 non-null   object \n",
      " 5   tenure            7043 non-null   int64  \n",
      " 6   PhoneService      7043 non-null   object \n",
      " 7   MultipleLines     7043 non-null   object \n",
      " 8   InternetService   7043 non-null   object \n",
      " 9   OnlineSecurity    7043 non-null   object \n",
      " 10  OnlineBackup      7043 non-null   object \n",
      " 11  DeviceProtection  7043 non-null   object \n",
      " 12  TechSupport       7043 non-null   object \n",
      " 13  StreamingTV       7043 non-null   object \n",
      " 14  StreamingMovies   7043 non-null   object \n",
      " 15  Contract          7043 non-null   object \n",
      " 16  PaperlessBilling  7043 non-null   object \n",
      " 17  PaymentMethod     7043 non-null   object \n",
      " 18  MonthlyCharges    7043 non-null   float64\n",
      " 19  TotalCharges      7043 non-null   object \n",
      " 20  Churn             7043 non-null   object \n",
      "dtypes: float64(1), int64(2), object(18)\n",
      "memory usage: 1.1+ MB\n",
      "None\n"
     ]
    },
    {
     "data": {
      "text/html": [
       "<div>\n",
       "<style scoped>\n",
       "    .dataframe tbody tr th:only-of-type {\n",
       "        vertical-align: middle;\n",
       "    }\n",
       "\n",
       "    .dataframe tbody tr th {\n",
       "        vertical-align: top;\n",
       "    }\n",
       "\n",
       "    .dataframe thead th {\n",
       "        text-align: right;\n",
       "    }\n",
       "</style>\n",
       "<table border=\"1\" class=\"dataframe\">\n",
       "  <thead>\n",
       "    <tr style=\"text-align: right;\">\n",
       "      <th></th>\n",
       "      <th>customerID</th>\n",
       "      <th>gender</th>\n",
       "      <th>SeniorCitizen</th>\n",
       "      <th>Partner</th>\n",
       "      <th>Dependents</th>\n",
       "      <th>tenure</th>\n",
       "      <th>PhoneService</th>\n",
       "      <th>MultipleLines</th>\n",
       "      <th>InternetService</th>\n",
       "      <th>OnlineSecurity</th>\n",
       "      <th>OnlineBackup</th>\n",
       "      <th>DeviceProtection</th>\n",
       "      <th>TechSupport</th>\n",
       "      <th>StreamingTV</th>\n",
       "      <th>StreamingMovies</th>\n",
       "      <th>Contract</th>\n",
       "      <th>PaperlessBilling</th>\n",
       "      <th>PaymentMethod</th>\n",
       "      <th>MonthlyCharges</th>\n",
       "      <th>TotalCharges</th>\n",
       "      <th>Churn</th>\n",
       "    </tr>\n",
       "  </thead>\n",
       "  <tbody>\n",
       "    <tr>\n",
       "      <th>0</th>\n",
       "      <td>7590-VHVEG</td>\n",
       "      <td>Female</td>\n",
       "      <td>0</td>\n",
       "      <td>Yes</td>\n",
       "      <td>No</td>\n",
       "      <td>1</td>\n",
       "      <td>No</td>\n",
       "      <td>No phone service</td>\n",
       "      <td>DSL</td>\n",
       "      <td>No</td>\n",
       "      <td>Yes</td>\n",
       "      <td>No</td>\n",
       "      <td>No</td>\n",
       "      <td>No</td>\n",
       "      <td>No</td>\n",
       "      <td>Month-to-month</td>\n",
       "      <td>Yes</td>\n",
       "      <td>Electronic check</td>\n",
       "      <td>29.85</td>\n",
       "      <td>29.85</td>\n",
       "      <td>No</td>\n",
       "    </tr>\n",
       "    <tr>\n",
       "      <th>1</th>\n",
       "      <td>5575-GNVDE</td>\n",
       "      <td>Male</td>\n",
       "      <td>0</td>\n",
       "      <td>No</td>\n",
       "      <td>No</td>\n",
       "      <td>34</td>\n",
       "      <td>Yes</td>\n",
       "      <td>No</td>\n",
       "      <td>DSL</td>\n",
       "      <td>Yes</td>\n",
       "      <td>No</td>\n",
       "      <td>Yes</td>\n",
       "      <td>No</td>\n",
       "      <td>No</td>\n",
       "      <td>No</td>\n",
       "      <td>One year</td>\n",
       "      <td>No</td>\n",
       "      <td>Mailed check</td>\n",
       "      <td>56.95</td>\n",
       "      <td>1889.5</td>\n",
       "      <td>No</td>\n",
       "    </tr>\n",
       "    <tr>\n",
       "      <th>2</th>\n",
       "      <td>3668-QPYBK</td>\n",
       "      <td>Male</td>\n",
       "      <td>0</td>\n",
       "      <td>No</td>\n",
       "      <td>No</td>\n",
       "      <td>2</td>\n",
       "      <td>Yes</td>\n",
       "      <td>No</td>\n",
       "      <td>DSL</td>\n",
       "      <td>Yes</td>\n",
       "      <td>Yes</td>\n",
       "      <td>No</td>\n",
       "      <td>No</td>\n",
       "      <td>No</td>\n",
       "      <td>No</td>\n",
       "      <td>Month-to-month</td>\n",
       "      <td>Yes</td>\n",
       "      <td>Mailed check</td>\n",
       "      <td>53.85</td>\n",
       "      <td>108.15</td>\n",
       "      <td>Yes</td>\n",
       "    </tr>\n",
       "    <tr>\n",
       "      <th>3</th>\n",
       "      <td>7795-CFOCW</td>\n",
       "      <td>Male</td>\n",
       "      <td>0</td>\n",
       "      <td>No</td>\n",
       "      <td>No</td>\n",
       "      <td>45</td>\n",
       "      <td>No</td>\n",
       "      <td>No phone service</td>\n",
       "      <td>DSL</td>\n",
       "      <td>Yes</td>\n",
       "      <td>No</td>\n",
       "      <td>Yes</td>\n",
       "      <td>Yes</td>\n",
       "      <td>No</td>\n",
       "      <td>No</td>\n",
       "      <td>One year</td>\n",
       "      <td>No</td>\n",
       "      <td>Bank transfer (automatic)</td>\n",
       "      <td>42.30</td>\n",
       "      <td>1840.75</td>\n",
       "      <td>No</td>\n",
       "    </tr>\n",
       "    <tr>\n",
       "      <th>4</th>\n",
       "      <td>9237-HQITU</td>\n",
       "      <td>Female</td>\n",
       "      <td>0</td>\n",
       "      <td>No</td>\n",
       "      <td>No</td>\n",
       "      <td>2</td>\n",
       "      <td>Yes</td>\n",
       "      <td>No</td>\n",
       "      <td>Fiber optic</td>\n",
       "      <td>No</td>\n",
       "      <td>No</td>\n",
       "      <td>No</td>\n",
       "      <td>No</td>\n",
       "      <td>No</td>\n",
       "      <td>No</td>\n",
       "      <td>Month-to-month</td>\n",
       "      <td>Yes</td>\n",
       "      <td>Electronic check</td>\n",
       "      <td>70.70</td>\n",
       "      <td>151.65</td>\n",
       "      <td>Yes</td>\n",
       "    </tr>\n",
       "  </tbody>\n",
       "</table>\n",
       "</div>"
      ],
      "text/plain": [
       "   customerID  gender  SeniorCitizen Partner Dependents  tenure PhoneService  \\\n",
       "0  7590-VHVEG  Female              0     Yes         No       1           No   \n",
       "1  5575-GNVDE    Male              0      No         No      34          Yes   \n",
       "2  3668-QPYBK    Male              0      No         No       2          Yes   \n",
       "3  7795-CFOCW    Male              0      No         No      45           No   \n",
       "4  9237-HQITU  Female              0      No         No       2          Yes   \n",
       "\n",
       "      MultipleLines InternetService OnlineSecurity OnlineBackup  \\\n",
       "0  No phone service             DSL             No          Yes   \n",
       "1                No             DSL            Yes           No   \n",
       "2                No             DSL            Yes          Yes   \n",
       "3  No phone service             DSL            Yes           No   \n",
       "4                No     Fiber optic             No           No   \n",
       "\n",
       "  DeviceProtection TechSupport StreamingTV StreamingMovies        Contract  \\\n",
       "0               No          No          No              No  Month-to-month   \n",
       "1              Yes          No          No              No        One year   \n",
       "2               No          No          No              No  Month-to-month   \n",
       "3              Yes         Yes          No              No        One year   \n",
       "4               No          No          No              No  Month-to-month   \n",
       "\n",
       "  PaperlessBilling              PaymentMethod  MonthlyCharges TotalCharges  \\\n",
       "0              Yes           Electronic check           29.85        29.85   \n",
       "1               No               Mailed check           56.95       1889.5   \n",
       "2              Yes               Mailed check           53.85       108.15   \n",
       "3               No  Bank transfer (automatic)           42.30      1840.75   \n",
       "4              Yes           Electronic check           70.70       151.65   \n",
       "\n",
       "  Churn  \n",
       "0    No  \n",
       "1    No  \n",
       "2   Yes  \n",
       "3    No  \n",
       "4   Yes  "
      ]
     },
     "metadata": {},
     "output_type": "display_data"
    }
   ],
   "source": [
    "import os\n",
    "import warnings\n",
    "from pathlib import Path\n",
    "\n",
    "# Suppress all warnings\n",
    "warnings.filterwarnings(\"ignore\")\n",
    "\n",
    "# Data handling\n",
    "import pandas as pd\n",
    "import numpy as np\n",
    "\n",
    "# Visualization\n",
    "import matplotlib.pyplot as plt\n",
    "import seaborn as sns\n",
    "import missingno as msno\n",
    "\n",
    "# Statistics\n",
    "from scipy.stats import spearmanr, normaltest, mannwhitneyu, kruskal\n",
    "\n",
    "# Pandas display settings\n",
    "pd.set_option(\"display.max_columns\", None)\n",
    "\n",
    "# Seaborn aesthetics\n",
    "sns.set_theme()\n",
    "\n",
    "# File path\n",
    "data_path = Path(\"../data/WA_Fn-UseC_-Telco-Customer-Churn.csv\")\n",
    "\n",
    "# Load dataset\n",
    "if data_path.exists():\n",
    "    real_df = pd.read_csv(data_path)\n",
    "    df = real_df.copy()\n",
    "    print(df.info())\n",
    "    display(df.head())\n",
    "else:\n",
    "    print(f\"File not found: {data_path}\")"
   ]
  },
  {
   "cell_type": "markdown",
   "id": "65a63ae1",
   "metadata": {},
   "source": [
    "Berikut adalah penjelasan untuk masing-masing kolom:"
   ]
  },
  {
   "cell_type": "markdown",
   "id": "2ca701e0",
   "metadata": {},
   "source": [
    "<table>\n",
    "    <thead>\n",
    "        <tr>\n",
    "            <th>Kolom</th>\n",
    "            <th>Definisi</th>\n",
    "            <th>Value dan Penjelasan</th>\n",
    "        </tr>\n",
    "    </thead>\n",
    "    <tbody>\n",
    "        <tr>\n",
    "            <td><b>customerID</b></td>\n",
    "            <td>ID unik untuk setiap pelanggan.</td>\n",
    "            <td><code>Teks alfanumerik</code>: Kode unik pengenal pelanggan.</td>\n",
    "        </tr>\n",
    "        <tr>\n",
    "            <td><b>gender</b></td>\n",
    "            <td>Jenis kelamin pelanggan.</td>\n",
    "            <td><code>Male</code>: Laki-laki.<br><code>Female</code>: Perempuan.</td>\n",
    "        </tr>\n",
    "        <tr>\n",
    "            <td><b>SeniorCitizen</b></td>\n",
    "            <td>Bagaimanakah pelanggan seorang warga senior.</td>\n",
    "            <td><code>1</code>: Ya, warga senior.<br><code>0</code>: Bukan warga senior.</td>\n",
    "        </tr>\n",
    "        <tr>\n",
    "            <td><b>Partner</b></td>\n",
    "            <td>Bagaimanakah pelanggan memiliki pasangan.</td>\n",
    "            <td><code>Yes</code>: Punya pasangan.<br><code>No</code>: Tidak punya pasangan.</td>\n",
    "        </tr>\n",
    "        <tr>\n",
    "            <td><b>Dependents</b></td>\n",
    "            <td>Bagaimanakah pelanggan memiliki tanggungan.</td>\n",
    "            <td><code>Yes</code>: Punya tanggungan.<br><code>No</code>: Tidak punya tanggungan.</td>\n",
    "        </tr>\n",
    "        <tr>\n",
    "            <td><b>tenure</b></td>\n",
    "            <td>Lama berlangganan dalam bulan.</td>\n",
    "            <td><code>Numerik</code>: Jumlah bulan pelanggan bersama perusahaan.</td>\n",
    "        </tr>\n",
    "        <tr>\n",
    "            <td><b>Contract</b></td>\n",
    "            <td>Jenis kontrak berlangganan.</td>\n",
    "            <td><code>Month-to-month</code>: Kontrak bulanan.<br><code>One year</code>: Kontrak satu tahun.<br><code>Two year</code>: Kontrak dua tahun.</td>\n",
    "        </tr>\n",
    "        <tr>\n",
    "            <td><b>PaperlessBilling</b></td>\n",
    "            <td>Menggunakan tagihan elektronik.</td>\n",
    "            <td><code>Yes</code>: Tagihan via email.<br><code>No</code>: Tagihan fisik.</td>\n",
    "        </tr>\n",
    "        <tr>\n",
    "            <td><b>PaymentMethod</b></td>\n",
    "            <td>Metode pembayaran yang digunakan.</td>\n",
    "            <td><code>Electronic check</code>: Pembayaran dengan cek elektronik.<br><code>Mailed check</code>: Pembayaran dengan mengirimkan cek fisik.<br><code>Bank transfer (automatic)</code>: Pembayaran melalui transfer bank otomatis.<br><code>Credit card (automatic)</code>: Pembayaran melalui kartu kredit otomatis.</td>\n",
    "        </tr>\n",
    "        <tr>\n",
    "            <td><b>MonthlyCharges</b></td>\n",
    "            <td>Tagihan setiap bulan.</td>\n",
    "            <td><code>Numerik Desimal</code>: Total biaya bulanan untuk semua layanan.</td>\n",
    "        </tr>\n",
    "        <tr>\n",
    "            <td><b>TotalCharges</b></td>\n",
    "            <td>Total tagihan selama berlangganan.</td>\n",
    "            <td><code>Numerik Desimal</code>: Akumulasi semua tagihan bulanan.</td>\n",
    "        </tr>\n",
    "        <tr>\n",
    "            <td><b>PhoneService</b></td>\n",
    "            <td>Bagaimanakah pelanggan punya layanan telepon.</td>\n",
    "            <td><code>Yes</code>: Punya layanan telepon.<br><code>No</code>: Tidak punya.</td>\n",
    "        </tr>\n",
    "        <tr>\n",
    "            <td><b>MultipleLines</b></td>\n",
    "            <td>Bagaimanakah punya lebih dari satu saluran telepon.</td>\n",
    "            <td><code>Yes</code>: Ya.<br><code>No</code>: Punya telepon, tapi hanya 1 saluran.<br><code>No phone service</code>: Tidak punya layanan telepon.</td>\n",
    "        </tr>\n",
    "        <tr>\n",
    "            <td><b>InternetService</b></td>\n",
    "            <td>Tipe layanan internet pelanggan.</td>\n",
    "            <td><code>DSL</code>: Layanan internet melalui jalur telepon standar.<br><code>Fiber optic</code>: Layanan internet berkecepatan tinggi melalui kabel fiber optik.<br><code>No</code>: Tidak berlangganan internet.</td>\n",
    "        </tr>\n",
    "        <tr>\n",
    "            <td><b>OnlineSecurity</b></td>\n",
    "            <td>Bagaimanakah punya layanan keamanan online.</td>\n",
    "            <td><code>Yes</code>: Ya.<br><code>No</code>: Pelanggan berlangganan internet namun tidak menggunakan layanan ini.<br><code>No internet service</code>: Tidak punya layanan internet.</td>\n",
    "        </tr>\n",
    "        <tr>\n",
    "            <td><b>OnlineBackup</b></td>\n",
    "            <td>Bagaimanakah punya layanan backup online.</td>\n",
    "            <td><code>Yes</code>: Ya.<br><code>No</code>: Pelanggan berlangganan internet namun tidak menggunakan layanan ini.<br><code>No internet service</code>: Tidak punya layanan internet.</td>\n",
    "        </tr>\n",
    "        <tr>\n",
    "            <td><b>DeviceProtection</b></td>\n",
    "            <td>Bagaimanakah punya proteksi perangkat.</td>\n",
    "            <td><code>Yes</code>: Ya.<br><code>No</code>: Pelanggan berlangganan internet namun tidak menggunakan layanan ini.<br><code>No internet service</code>: Tidak punya layanan internet.</td>\n",
    "        </tr>\n",
    "        <tr>\n",
    "            <td><b>TechSupport</b></td>\n",
    "            <td>Bagaimanakah punya dukungan teknis premium.</td>\n",
    "            <td><code>Yes</code>: Ya.<br><code>No</code>: Pelanggan berlangganan internet namun tidak menggunakan layanan ini.<br><code>No internet service</code>: Tidak punya layanan internet.</td>\n",
    "        </tr>\n",
    "        <tr>\n",
    "            <td><b>StreamingTV</b></td>\n",
    "            <td>Bagaimanakah streaming TV dari Telco.</td>\n",
    "            <td><code>Yes</code>: Ya.<br><code>No</code>: Pelanggan berlangganan internet namun tidak menggunakan layanan ini.<br><code>No internet service</code>: Tidak punya layanan internet.</td>\n",
    "        </tr>\n",
    "        <tr>\n",
    "            <td><b>StreamingMovies</b></td>\n",
    "            <td>Bagaimanakah streaming film dari Telco.</td>\n",
    "            <td><code>Yes</code>: Ya.<br><code>No</code>: Pelanggan berlangganan internet namun tidak menggunakan layanan ini.<br><code>No internet service</code>: Tidak punya layanan internet.</td>\n",
    "        </tr>\n",
    "        <tr>\n",
    "            <td><b>Churn</b></td>\n",
    "            <td><b>(Target)</b> Bagaimanakah pelanggan berhenti.</td>\n",
    "            <td><code>Yes</code>: Pelanggan berhenti berlangganan.<br><code>No</code>: Pelanggan masih aktif.</td>\n",
    "        </tr>\n",
    "    </tbody>\n",
    "</table>"
   ]
  },
  {
   "cell_type": "markdown",
   "id": "81e3edfa",
   "metadata": {},
   "source": [
    "### 2.2 Missing Values Checking"
   ]
  },
  {
   "cell_type": "code",
   "execution_count": 2,
   "id": "ebe541b7",
   "metadata": {},
   "outputs": [
    {
     "name": "stdout",
     "output_type": "stream",
     "text": [
      "customerID          0\n",
      "gender              0\n",
      "SeniorCitizen       0\n",
      "Partner             0\n",
      "Dependents          0\n",
      "tenure              0\n",
      "PhoneService        0\n",
      "MultipleLines       0\n",
      "InternetService     0\n",
      "OnlineSecurity      0\n",
      "OnlineBackup        0\n",
      "DeviceProtection    0\n",
      "TechSupport         0\n",
      "StreamingTV         0\n",
      "StreamingMovies     0\n",
      "Contract            0\n",
      "PaperlessBilling    0\n",
      "PaymentMethod       0\n",
      "MonthlyCharges      0\n",
      "TotalCharges        0\n",
      "Churn               0\n",
      "dtype: int64\n"
     ]
    },
    {
     "data": {
      "image/png": "[encoded data removed]",
      "text/plain": [
       "<Figure size 2500x1000 with 2 Axes>"
      ]
     },
     "metadata": {},
     "output_type": "display_data"
    }
   ],
   "source": [
    "# Check missing values count per column\n",
    "missing_counts = df.isnull().sum()\n",
    "print(missing_counts)\n",
    "\n",
    "# Visualize missing data pattern\n",
    "msno.matrix(df)\n",
    "plt.title('Missing Data Matrix')\n",
    "plt.show()"
   ]
  },
  {
   "cell_type": "markdown",
   "id": "896b9f41",
   "metadata": {},
   "source": [
    "Meskipun tidak terdapat missing values secara eksplisit dalam dataset, keberadaan nilai `tenure = 0` perlu diperhatikan karena dapat merepresentasikan pelanggan yang baru mendaftar dan belum benar-benar aktif, atau langsung churn pada bulan pertama. Hal ini penting karena bisa mempengaruhi kualitas data dan performa model machine learning, terutama jika jumlahnya kecil namun berdampak besar dalam proses pembelajaran model. Dari sisi bisnis, pelanggan dengan `tenure = 0` mungkin belum sempat menggunakan layanan secara penuh, sehingga berpotensi mencerminkan signup palsu atau pembatalan instan. Oleh karena itu, baris dengan nilai ini sebaiknya dianalisis lebih lanjut, dipertimbangkan untuk dipisahkan, atau bahkan dibuang jika tidak relevan."
   ]
  },
  {
   "cell_type": "code",
   "execution_count": 3,
   "id": "93cd2b39",
   "metadata": {},
   "outputs": [
    {
     "data": {
      "text/html": [
       "<div>\n",
       "<style scoped>\n",
       "    .dataframe tbody tr th:only-of-type {\n",
       "        vertical-align: middle;\n",
       "    }\n",
       "\n",
       "    .dataframe tbody tr th {\n",
       "        vertical-align: top;\n",
       "    }\n",
       "\n",
       "    .dataframe thead th {\n",
       "        text-align: right;\n",
       "    }\n",
       "</style>\n",
       "<table border=\"1\" class=\"dataframe\">\n",
       "  <thead>\n",
       "    <tr style=\"text-align: right;\">\n",
       "      <th></th>\n",
       "      <th>customerID</th>\n",
       "      <th>gender</th>\n",
       "      <th>SeniorCitizen</th>\n",
       "      <th>Partner</th>\n",
       "      <th>Dependents</th>\n",
       "      <th>tenure</th>\n",
       "      <th>PhoneService</th>\n",
       "      <th>MultipleLines</th>\n",
       "      <th>InternetService</th>\n",
       "      <th>OnlineSecurity</th>\n",
       "      <th>OnlineBackup</th>\n",
       "      <th>DeviceProtection</th>\n",
       "      <th>TechSupport</th>\n",
       "      <th>StreamingTV</th>\n",
       "      <th>StreamingMovies</th>\n",
       "      <th>Contract</th>\n",
       "      <th>PaperlessBilling</th>\n",
       "      <th>PaymentMethod</th>\n",
       "      <th>MonthlyCharges</th>\n",
       "      <th>TotalCharges</th>\n",
       "      <th>Churn</th>\n",
       "    </tr>\n",
       "  </thead>\n",
       "  <tbody>\n",
       "    <tr>\n",
       "      <th>488</th>\n",
       "      <td>4472-LVYGI</td>\n",
       "      <td>Female</td>\n",
       "      <td>0</td>\n",
       "      <td>Yes</td>\n",
       "      <td>Yes</td>\n",
       "      <td>0</td>\n",
       "      <td>No</td>\n",
       "      <td>No phone service</td>\n",
       "      <td>DSL</td>\n",
       "      <td>Yes</td>\n",
       "      <td>No</td>\n",
       "      <td>Yes</td>\n",
       "      <td>Yes</td>\n",
       "      <td>Yes</td>\n",
       "      <td>No</td>\n",
       "      <td>Two year</td>\n",
       "      <td>Yes</td>\n",
       "      <td>Bank transfer (automatic)</td>\n",
       "      <td>52.55</td>\n",
       "      <td></td>\n",
       "      <td>No</td>\n",
       "    </tr>\n",
       "    <tr>\n",
       "      <th>753</th>\n",
       "      <td>3115-CZMZD</td>\n",
       "      <td>Male</td>\n",
       "      <td>0</td>\n",
       "      <td>No</td>\n",
       "      <td>Yes</td>\n",
       "      <td>0</td>\n",
       "      <td>Yes</td>\n",
       "      <td>No</td>\n",
       "      <td>No</td>\n",
       "      <td>No internet service</td>\n",
       "      <td>No internet service</td>\n",
       "      <td>No internet service</td>\n",
       "      <td>No internet service</td>\n",
       "      <td>No internet service</td>\n",
       "      <td>No internet service</td>\n",
       "      <td>Two year</td>\n",
       "      <td>No</td>\n",
       "      <td>Mailed check</td>\n",
       "      <td>20.25</td>\n",
       "      <td></td>\n",
       "      <td>No</td>\n",
       "    </tr>\n",
       "    <tr>\n",
       "      <th>936</th>\n",
       "      <td>5709-LVOEQ</td>\n",
       "      <td>Female</td>\n",
       "      <td>0</td>\n",
       "      <td>Yes</td>\n",
       "      <td>Yes</td>\n",
       "      <td>0</td>\n",
       "      <td>Yes</td>\n",
       "      <td>No</td>\n",
       "      <td>DSL</td>\n",
       "      <td>Yes</td>\n",
       "      <td>Yes</td>\n",
       "      <td>Yes</td>\n",
       "      <td>No</td>\n",
       "      <td>Yes</td>\n",
       "      <td>Yes</td>\n",
       "      <td>Two year</td>\n",
       "      <td>No</td>\n",
       "      <td>Mailed check</td>\n",
       "      <td>80.85</td>\n",
       "      <td></td>\n",
       "      <td>No</td>\n",
       "    </tr>\n",
       "    <tr>\n",
       "      <th>1082</th>\n",
       "      <td>4367-NUYAO</td>\n",
       "      <td>Male</td>\n",
       "      <td>0</td>\n",
       "      <td>Yes</td>\n",
       "      <td>Yes</td>\n",
       "      <td>0</td>\n",
       "      <td>Yes</td>\n",
       "      <td>Yes</td>\n",
       "      <td>No</td>\n",
       "      <td>No internet service</td>\n",
       "      <td>No internet service</td>\n",
       "      <td>No internet service</td>\n",
       "      <td>No internet service</td>\n",
       "      <td>No internet service</td>\n",
       "      <td>No internet service</td>\n",
       "      <td>Two year</td>\n",
       "      <td>No</td>\n",
       "      <td>Mailed check</td>\n",
       "      <td>25.75</td>\n",
       "      <td></td>\n",
       "      <td>No</td>\n",
       "    </tr>\n",
       "    <tr>\n",
       "      <th>1340</th>\n",
       "      <td>1371-DWPAZ</td>\n",
       "      <td>Female</td>\n",
       "      <td>0</td>\n",
       "      <td>Yes</td>\n",
       "      <td>Yes</td>\n",
       "      <td>0</td>\n",
       "      <td>No</td>\n",
       "      <td>No phone service</td>\n",
       "      <td>DSL</td>\n",
       "      <td>Yes</td>\n",
       "      <td>Yes</td>\n",
       "      <td>Yes</td>\n",
       "      <td>Yes</td>\n",
       "      <td>Yes</td>\n",
       "      <td>No</td>\n",
       "      <td>Two year</td>\n",
       "      <td>No</td>\n",
       "      <td>Credit card (automatic)</td>\n",
       "      <td>56.05</td>\n",
       "      <td></td>\n",
       "      <td>No</td>\n",
       "    </tr>\n",
       "    <tr>\n",
       "      <th>3331</th>\n",
       "      <td>7644-OMVMY</td>\n",
       "      <td>Male</td>\n",
       "      <td>0</td>\n",
       "      <td>Yes</td>\n",
       "      <td>Yes</td>\n",
       "      <td>0</td>\n",
       "      <td>Yes</td>\n",
       "      <td>No</td>\n",
       "      <td>No</td>\n",
       "      <td>No internet service</td>\n",
       "      <td>No internet service</td>\n",
       "      <td>No internet service</td>\n",
       "      <td>No internet service</td>\n",
       "      <td>No internet service</td>\n",
       "      <td>No internet service</td>\n",
       "      <td>Two year</td>\n",
       "      <td>No</td>\n",
       "      <td>Mailed check</td>\n",
       "      <td>19.85</td>\n",
       "      <td></td>\n",
       "      <td>No</td>\n",
       "    </tr>\n",
       "    <tr>\n",
       "      <th>3826</th>\n",
       "      <td>3213-VVOLG</td>\n",
       "      <td>Male</td>\n",
       "      <td>0</td>\n",
       "      <td>Yes</td>\n",
       "      <td>Yes</td>\n",
       "      <td>0</td>\n",
       "      <td>Yes</td>\n",
       "      <td>Yes</td>\n",
       "      <td>No</td>\n",
       "      <td>No internet service</td>\n",
       "      <td>No internet service</td>\n",
       "      <td>No internet service</td>\n",
       "      <td>No internet service</td>\n",
       "      <td>No internet service</td>\n",
       "      <td>No internet service</td>\n",
       "      <td>Two year</td>\n",
       "      <td>No</td>\n",
       "      <td>Mailed check</td>\n",
       "      <td>25.35</td>\n",
       "      <td></td>\n",
       "      <td>No</td>\n",
       "    </tr>\n",
       "    <tr>\n",
       "      <th>4380</th>\n",
       "      <td>2520-SGTTA</td>\n",
       "      <td>Female</td>\n",
       "      <td>0</td>\n",
       "      <td>Yes</td>\n",
       "      <td>Yes</td>\n",
       "      <td>0</td>\n",
       "      <td>Yes</td>\n",
       "      <td>No</td>\n",
       "      <td>No</td>\n",
       "      <td>No internet service</td>\n",
       "      <td>No internet service</td>\n",
       "      <td>No internet service</td>\n",
       "      <td>No internet service</td>\n",
       "      <td>No internet service</td>\n",
       "      <td>No internet service</td>\n",
       "      <td>Two year</td>\n",
       "      <td>No</td>\n",
       "      <td>Mailed check</td>\n",
       "      <td>20.00</td>\n",
       "      <td></td>\n",
       "      <td>No</td>\n",
       "    </tr>\n",
       "    <tr>\n",
       "      <th>5218</th>\n",
       "      <td>2923-ARZLG</td>\n",
       "      <td>Male</td>\n",
       "      <td>0</td>\n",
       "      <td>Yes</td>\n",
       "      <td>Yes</td>\n",
       "      <td>0</td>\n",
       "      <td>Yes</td>\n",
       "      <td>No</td>\n",
       "      <td>No</td>\n",
       "      <td>No internet service</td>\n",
       "      <td>No internet service</td>\n",
       "      <td>No internet service</td>\n",
       "      <td>No internet service</td>\n",
       "      <td>No internet service</td>\n",
       "      <td>No internet service</td>\n",
       "      <td>One year</td>\n",
       "      <td>Yes</td>\n",
       "      <td>Mailed check</td>\n",
       "      <td>19.70</td>\n",
       "      <td></td>\n",
       "      <td>No</td>\n",
       "    </tr>\n",
       "    <tr>\n",
       "      <th>6670</th>\n",
       "      <td>4075-WKNIU</td>\n",
       "      <td>Female</td>\n",
       "      <td>0</td>\n",
       "      <td>Yes</td>\n",
       "      <td>Yes</td>\n",
       "      <td>0</td>\n",
       "      <td>Yes</td>\n",
       "      <td>Yes</td>\n",
       "      <td>DSL</td>\n",
       "      <td>No</td>\n",
       "      <td>Yes</td>\n",
       "      <td>Yes</td>\n",
       "      <td>Yes</td>\n",
       "      <td>Yes</td>\n",
       "      <td>No</td>\n",
       "      <td>Two year</td>\n",
       "      <td>No</td>\n",
       "      <td>Mailed check</td>\n",
       "      <td>73.35</td>\n",
       "      <td></td>\n",
       "      <td>No</td>\n",
       "    </tr>\n",
       "    <tr>\n",
       "      <th>6754</th>\n",
       "      <td>2775-SEFEE</td>\n",
       "      <td>Male</td>\n",
       "      <td>0</td>\n",
       "      <td>No</td>\n",
       "      <td>Yes</td>\n",
       "      <td>0</td>\n",
       "      <td>Yes</td>\n",
       "      <td>Yes</td>\n",
       "      <td>DSL</td>\n",
       "      <td>Yes</td>\n",
       "      <td>Yes</td>\n",
       "      <td>No</td>\n",
       "      <td>Yes</td>\n",
       "      <td>No</td>\n",
       "      <td>No</td>\n",
       "      <td>Two year</td>\n",
       "      <td>Yes</td>\n",
       "      <td>Bank transfer (automatic)</td>\n",
       "      <td>61.90</td>\n",
       "      <td></td>\n",
       "      <td>No</td>\n",
       "    </tr>\n",
       "  </tbody>\n",
       "</table>\n",
       "</div>"
      ],
      "text/plain": [
       "      customerID  gender  SeniorCitizen Partner Dependents  tenure  \\\n",
       "488   4472-LVYGI  Female              0     Yes        Yes       0   \n",
       "753   3115-CZMZD    Male              0      No        Yes       0   \n",
       "936   5709-LVOEQ  Female              0     Yes        Yes       0   \n",
       "1082  4367-NUYAO    Male              0     Yes        Yes       0   \n",
       "1340  1371-DWPAZ  Female              0     Yes        Yes       0   \n",
       "3331  7644-OMVMY    Male              0     Yes        Yes       0   \n",
       "3826  3213-VVOLG    Male              0     Yes        Yes       0   \n",
       "4380  2520-SGTTA  Female              0     Yes        Yes       0   \n",
       "5218  2923-ARZLG    Male              0     Yes        Yes       0   \n",
       "6670  4075-WKNIU  Female              0     Yes        Yes       0   \n",
       "6754  2775-SEFEE    Male              0      No        Yes       0   \n",
       "\n",
       "     PhoneService     MultipleLines InternetService       OnlineSecurity  \\\n",
       "488            No  No phone service             DSL                  Yes   \n",
       "753           Yes                No              No  No internet service   \n",
       "936           Yes                No             DSL                  Yes   \n",
       "1082          Yes               Yes              No  No internet service   \n",
       "1340           No  No phone service             DSL                  Yes   \n",
       "3331          Yes                No              No  No internet service   \n",
       "3826          Yes               Yes              No  No internet service   \n",
       "4380          Yes                No              No  No internet service   \n",
       "5218          Yes                No              No  No internet service   \n",
       "6670          Yes               Yes             DSL                   No   \n",
       "6754          Yes               Yes             DSL                  Yes   \n",
       "\n",
       "             OnlineBackup     DeviceProtection          TechSupport  \\\n",
       "488                    No                  Yes                  Yes   \n",
       "753   No internet service  No internet service  No internet service   \n",
       "936                   Yes                  Yes                   No   \n",
       "1082  No internet service  No internet service  No internet service   \n",
       "1340                  Yes                  Yes                  Yes   \n",
       "3331  No internet service  No internet service  No internet service   \n",
       "3826  No internet service  No internet service  No internet service   \n",
       "4380  No internet service  No internet service  No internet service   \n",
       "5218  No internet service  No internet service  No internet service   \n",
       "6670                  Yes                  Yes                  Yes   \n",
       "6754                  Yes                   No                  Yes   \n",
       "\n",
       "              StreamingTV      StreamingMovies  Contract PaperlessBilling  \\\n",
       "488                   Yes                   No  Two year              Yes   \n",
       "753   No internet service  No internet service  Two year               No   \n",
       "936                   Yes                  Yes  Two year               No   \n",
       "1082  No internet service  No internet service  Two year               No   \n",
       "1340                  Yes                   No  Two year               No   \n",
       "3331  No internet service  No internet service  Two year               No   \n",
       "3826  No internet service  No internet service  Two year               No   \n",
       "4380  No internet service  No internet service  Two year               No   \n",
       "5218  No internet service  No internet service  One year              Yes   \n",
       "6670                  Yes                   No  Two year               No   \n",
       "6754                   No                   No  Two year              Yes   \n",
       "\n",
       "                  PaymentMethod  MonthlyCharges TotalCharges Churn  \n",
       "488   Bank transfer (automatic)           52.55                 No  \n",
       "753                Mailed check           20.25                 No  \n",
       "936                Mailed check           80.85                 No  \n",
       "1082               Mailed check           25.75                 No  \n",
       "1340    Credit card (automatic)           56.05                 No  \n",
       "3331               Mailed check           19.85                 No  \n",
       "3826               Mailed check           25.35                 No  \n",
       "4380               Mailed check           20.00                 No  \n",
       "5218               Mailed check           19.70                 No  \n",
       "6670               Mailed check           73.35                 No  \n",
       "6754  Bank transfer (automatic)           61.90                 No  "
      ]
     },
     "execution_count": 3,
     "metadata": {},
     "output_type": "execute_result"
    }
   ],
   "source": [
    "df[df['tenure']==0]"
   ]
  },
  {
   "cell_type": "markdown",
   "id": "86bf0ef1",
   "metadata": {},
   "source": [
    "Dari tabel yang ditampilkan, terlihat bahwa seluruh baris dengan `tenure = 0` memiliki nilai `TotalCharges` yang kosong (missing). Ini memperkuat indikasi adanya **anomali data**, karena secara logika bisnis, jika seorang pelanggan sudah memiliki `MonthlyCharges` tetapi `TotalCharges` kosong, hal ini tidak konsisten. Seharusnya, meskipun pelanggan baru, `TotalCharges` minimal setara dengan `MonthlyCharges` jika telah berjalan satu bulan. Selain itu, sebagian besar pelanggan ini memiliki kontrak jangka panjang seperti \"Two year\", yang tidak wajar jika langsung berstatus tenure = 0 tanpa adanya tagihan. Temuan ini menunjukkan bahwa baris-baris tersebut kemungkinan merupakan data yang belum tereksekusi penuh dalam sistem atau input yang belum lengkap. Maka, penting untuk memperlakukan baris ini secara khusus—baik dengan membersihkan, memisahkan, atau mengecualikan dari pelatihan model tergantung pada tujuan analisisnya.\n"
   ]
  },
  {
   "cell_type": "code",
   "execution_count": 4,
   "id": "bbd71d2b",
   "metadata": {},
   "outputs": [
    {
     "data": {
      "text/html": [
       "<div>\n",
       "<style scoped>\n",
       "    .dataframe tbody tr th:only-of-type {\n",
       "        vertical-align: middle;\n",
       "    }\n",
       "\n",
       "    .dataframe tbody tr th {\n",
       "        vertical-align: top;\n",
       "    }\n",
       "\n",
       "    .dataframe thead th {\n",
       "        text-align: right;\n",
       "    }\n",
       "</style>\n",
       "<table border=\"1\" class=\"dataframe\">\n",
       "  <thead>\n",
       "    <tr style=\"text-align: right;\">\n",
       "      <th></th>\n",
       "      <th>customerID</th>\n",
       "      <th>gender</th>\n",
       "      <th>SeniorCitizen</th>\n",
       "      <th>Partner</th>\n",
       "      <th>Dependents</th>\n",
       "      <th>tenure</th>\n",
       "      <th>PhoneService</th>\n",
       "      <th>MultipleLines</th>\n",
       "      <th>InternetService</th>\n",
       "      <th>OnlineSecurity</th>\n",
       "      <th>OnlineBackup</th>\n",
       "      <th>DeviceProtection</th>\n",
       "      <th>TechSupport</th>\n",
       "      <th>StreamingTV</th>\n",
       "      <th>StreamingMovies</th>\n",
       "      <th>Contract</th>\n",
       "      <th>PaperlessBilling</th>\n",
       "      <th>PaymentMethod</th>\n",
       "      <th>MonthlyCharges</th>\n",
       "      <th>TotalCharges</th>\n",
       "      <th>Churn</th>\n",
       "    </tr>\n",
       "  </thead>\n",
       "  <tbody>\n",
       "    <tr>\n",
       "      <th>0</th>\n",
       "      <td>7590-VHVEG</td>\n",
       "      <td>Female</td>\n",
       "      <td>0</td>\n",
       "      <td>Yes</td>\n",
       "      <td>No</td>\n",
       "      <td>1</td>\n",
       "      <td>No</td>\n",
       "      <td>No phone service</td>\n",
       "      <td>DSL</td>\n",
       "      <td>No</td>\n",
       "      <td>Yes</td>\n",
       "      <td>No</td>\n",
       "      <td>No</td>\n",
       "      <td>No</td>\n",
       "      <td>No</td>\n",
       "      <td>Month-to-month</td>\n",
       "      <td>Yes</td>\n",
       "      <td>Electronic check</td>\n",
       "      <td>29.85</td>\n",
       "      <td>29.85</td>\n",
       "      <td>No</td>\n",
       "    </tr>\n",
       "    <tr>\n",
       "      <th>1</th>\n",
       "      <td>5575-GNVDE</td>\n",
       "      <td>Male</td>\n",
       "      <td>0</td>\n",
       "      <td>No</td>\n",
       "      <td>No</td>\n",
       "      <td>34</td>\n",
       "      <td>Yes</td>\n",
       "      <td>No</td>\n",
       "      <td>DSL</td>\n",
       "      <td>Yes</td>\n",
       "      <td>No</td>\n",
       "      <td>Yes</td>\n",
       "      <td>No</td>\n",
       "      <td>No</td>\n",
       "      <td>No</td>\n",
       "      <td>One year</td>\n",
       "      <td>No</td>\n",
       "      <td>Mailed check</td>\n",
       "      <td>56.95</td>\n",
       "      <td>1889.5</td>\n",
       "      <td>No</td>\n",
       "    </tr>\n",
       "    <tr>\n",
       "      <th>2</th>\n",
       "      <td>3668-QPYBK</td>\n",
       "      <td>Male</td>\n",
       "      <td>0</td>\n",
       "      <td>No</td>\n",
       "      <td>No</td>\n",
       "      <td>2</td>\n",
       "      <td>Yes</td>\n",
       "      <td>No</td>\n",
       "      <td>DSL</td>\n",
       "      <td>Yes</td>\n",
       "      <td>Yes</td>\n",
       "      <td>No</td>\n",
       "      <td>No</td>\n",
       "      <td>No</td>\n",
       "      <td>No</td>\n",
       "      <td>Month-to-month</td>\n",
       "      <td>Yes</td>\n",
       "      <td>Mailed check</td>\n",
       "      <td>53.85</td>\n",
       "      <td>108.15</td>\n",
       "      <td>Yes</td>\n",
       "    </tr>\n",
       "    <tr>\n",
       "      <th>3</th>\n",
       "      <td>7795-CFOCW</td>\n",
       "      <td>Male</td>\n",
       "      <td>0</td>\n",
       "      <td>No</td>\n",
       "      <td>No</td>\n",
       "      <td>45</td>\n",
       "      <td>No</td>\n",
       "      <td>No phone service</td>\n",
       "      <td>DSL</td>\n",
       "      <td>Yes</td>\n",
       "      <td>No</td>\n",
       "      <td>Yes</td>\n",
       "      <td>Yes</td>\n",
       "      <td>No</td>\n",
       "      <td>No</td>\n",
       "      <td>One year</td>\n",
       "      <td>No</td>\n",
       "      <td>Bank transfer (automatic)</td>\n",
       "      <td>42.30</td>\n",
       "      <td>1840.75</td>\n",
       "      <td>No</td>\n",
       "    </tr>\n",
       "    <tr>\n",
       "      <th>4</th>\n",
       "      <td>9237-HQITU</td>\n",
       "      <td>Female</td>\n",
       "      <td>0</td>\n",
       "      <td>No</td>\n",
       "      <td>No</td>\n",
       "      <td>2</td>\n",
       "      <td>Yes</td>\n",
       "      <td>No</td>\n",
       "      <td>Fiber optic</td>\n",
       "      <td>No</td>\n",
       "      <td>No</td>\n",
       "      <td>No</td>\n",
       "      <td>No</td>\n",
       "      <td>No</td>\n",
       "      <td>No</td>\n",
       "      <td>Month-to-month</td>\n",
       "      <td>Yes</td>\n",
       "      <td>Electronic check</td>\n",
       "      <td>70.70</td>\n",
       "      <td>151.65</td>\n",
       "      <td>Yes</td>\n",
       "    </tr>\n",
       "    <tr>\n",
       "      <th>...</th>\n",
       "      <td>...</td>\n",
       "      <td>...</td>\n",
       "      <td>...</td>\n",
       "      <td>...</td>\n",
       "      <td>...</td>\n",
       "      <td>...</td>\n",
       "      <td>...</td>\n",
       "      <td>...</td>\n",
       "      <td>...</td>\n",
       "      <td>...</td>\n",
       "      <td>...</td>\n",
       "      <td>...</td>\n",
       "      <td>...</td>\n",
       "      <td>...</td>\n",
       "      <td>...</td>\n",
       "      <td>...</td>\n",
       "      <td>...</td>\n",
       "      <td>...</td>\n",
       "      <td>...</td>\n",
       "      <td>...</td>\n",
       "      <td>...</td>\n",
       "    </tr>\n",
       "    <tr>\n",
       "      <th>7038</th>\n",
       "      <td>6840-RESVB</td>\n",
       "      <td>Male</td>\n",
       "      <td>0</td>\n",
       "      <td>Yes</td>\n",
       "      <td>Yes</td>\n",
       "      <td>24</td>\n",
       "      <td>Yes</td>\n",
       "      <td>Yes</td>\n",
       "      <td>DSL</td>\n",
       "      <td>Yes</td>\n",
       "      <td>No</td>\n",
       "      <td>Yes</td>\n",
       "      <td>Yes</td>\n",
       "      <td>Yes</td>\n",
       "      <td>Yes</td>\n",
       "      <td>One year</td>\n",
       "      <td>Yes</td>\n",
       "      <td>Mailed check</td>\n",
       "      <td>84.80</td>\n",
       "      <td>1990.5</td>\n",
       "      <td>No</td>\n",
       "    </tr>\n",
       "    <tr>\n",
       "      <th>7039</th>\n",
       "      <td>2234-XADUH</td>\n",
       "      <td>Female</td>\n",
       "      <td>0</td>\n",
       "      <td>Yes</td>\n",
       "      <td>Yes</td>\n",
       "      <td>72</td>\n",
       "      <td>Yes</td>\n",
       "      <td>Yes</td>\n",
       "      <td>Fiber optic</td>\n",
       "      <td>No</td>\n",
       "      <td>Yes</td>\n",
       "      <td>Yes</td>\n",
       "      <td>No</td>\n",
       "      <td>Yes</td>\n",
       "      <td>Yes</td>\n",
       "      <td>One year</td>\n",
       "      <td>Yes</td>\n",
       "      <td>Credit card (automatic)</td>\n",
       "      <td>103.20</td>\n",
       "      <td>7362.9</td>\n",
       "      <td>No</td>\n",
       "    </tr>\n",
       "    <tr>\n",
       "      <th>7040</th>\n",
       "      <td>4801-JZAZL</td>\n",
       "      <td>Female</td>\n",
       "      <td>0</td>\n",
       "      <td>Yes</td>\n",
       "      <td>Yes</td>\n",
       "      <td>11</td>\n",
       "      <td>No</td>\n",
       "      <td>No phone service</td>\n",
       "      <td>DSL</td>\n",
       "      <td>Yes</td>\n",
       "      <td>No</td>\n",
       "      <td>No</td>\n",
       "      <td>No</td>\n",
       "      <td>No</td>\n",
       "      <td>No</td>\n",
       "      <td>Month-to-month</td>\n",
       "      <td>Yes</td>\n",
       "      <td>Electronic check</td>\n",
       "      <td>29.60</td>\n",
       "      <td>346.45</td>\n",
       "      <td>No</td>\n",
       "    </tr>\n",
       "    <tr>\n",
       "      <th>7041</th>\n",
       "      <td>8361-LTMKD</td>\n",
       "      <td>Male</td>\n",
       "      <td>1</td>\n",
       "      <td>Yes</td>\n",
       "      <td>No</td>\n",
       "      <td>4</td>\n",
       "      <td>Yes</td>\n",
       "      <td>Yes</td>\n",
       "      <td>Fiber optic</td>\n",
       "      <td>No</td>\n",
       "      <td>No</td>\n",
       "      <td>No</td>\n",
       "      <td>No</td>\n",
       "      <td>No</td>\n",
       "      <td>No</td>\n",
       "      <td>Month-to-month</td>\n",
       "      <td>Yes</td>\n",
       "      <td>Mailed check</td>\n",
       "      <td>74.40</td>\n",
       "      <td>306.6</td>\n",
       "      <td>Yes</td>\n",
       "    </tr>\n",
       "    <tr>\n",
       "      <th>7042</th>\n",
       "      <td>3186-AJIEK</td>\n",
       "      <td>Male</td>\n",
       "      <td>0</td>\n",
       "      <td>No</td>\n",
       "      <td>No</td>\n",
       "      <td>66</td>\n",
       "      <td>Yes</td>\n",
       "      <td>No</td>\n",
       "      <td>Fiber optic</td>\n",
       "      <td>Yes</td>\n",
       "      <td>No</td>\n",
       "      <td>Yes</td>\n",
       "      <td>Yes</td>\n",
       "      <td>Yes</td>\n",
       "      <td>Yes</td>\n",
       "      <td>Two year</td>\n",
       "      <td>Yes</td>\n",
       "      <td>Bank transfer (automatic)</td>\n",
       "      <td>105.65</td>\n",
       "      <td>6844.5</td>\n",
       "      <td>No</td>\n",
       "    </tr>\n",
       "  </tbody>\n",
       "</table>\n",
       "<p>7032 rows × 21 columns</p>\n",
       "</div>"
      ],
      "text/plain": [
       "      customerID  gender  SeniorCitizen Partner Dependents  tenure  \\\n",
       "0     7590-VHVEG  Female              0     Yes         No       1   \n",
       "1     5575-GNVDE    Male              0      No         No      34   \n",
       "2     3668-QPYBK    Male              0      No         No       2   \n",
       "3     7795-CFOCW    Male              0      No         No      45   \n",
       "4     9237-HQITU  Female              0      No         No       2   \n",
       "...          ...     ...            ...     ...        ...     ...   \n",
       "7038  6840-RESVB    Male              0     Yes        Yes      24   \n",
       "7039  2234-XADUH  Female              0     Yes        Yes      72   \n",
       "7040  4801-JZAZL  Female              0     Yes        Yes      11   \n",
       "7041  8361-LTMKD    Male              1     Yes         No       4   \n",
       "7042  3186-AJIEK    Male              0      No         No      66   \n",
       "\n",
       "     PhoneService     MultipleLines InternetService OnlineSecurity  \\\n",
       "0              No  No phone service             DSL             No   \n",
       "1             Yes                No             DSL            Yes   \n",
       "2             Yes                No             DSL            Yes   \n",
       "3              No  No phone service             DSL            Yes   \n",
       "4             Yes                No     Fiber optic             No   \n",
       "...           ...               ...             ...            ...   \n",
       "7038          Yes               Yes             DSL            Yes   \n",
       "7039          Yes               Yes     Fiber optic             No   \n",
       "7040           No  No phone service             DSL            Yes   \n",
       "7041          Yes               Yes     Fiber optic             No   \n",
       "7042          Yes                No     Fiber optic            Yes   \n",
       "\n",
       "     OnlineBackup DeviceProtection TechSupport StreamingTV StreamingMovies  \\\n",
       "0             Yes               No          No          No              No   \n",
       "1              No              Yes          No          No              No   \n",
       "2             Yes               No          No          No              No   \n",
       "3              No              Yes         Yes          No              No   \n",
       "4              No               No          No          No              No   \n",
       "...           ...              ...         ...         ...             ...   \n",
       "7038           No              Yes         Yes         Yes             Yes   \n",
       "7039          Yes              Yes          No         Yes             Yes   \n",
       "7040           No               No          No          No              No   \n",
       "7041           No               No          No          No              No   \n",
       "7042           No              Yes         Yes         Yes             Yes   \n",
       "\n",
       "            Contract PaperlessBilling              PaymentMethod  \\\n",
       "0     Month-to-month              Yes           Electronic check   \n",
       "1           One year               No               Mailed check   \n",
       "2     Month-to-month              Yes               Mailed check   \n",
       "3           One year               No  Bank transfer (automatic)   \n",
       "4     Month-to-month              Yes           Electronic check   \n",
       "...              ...              ...                        ...   \n",
       "7038        One year              Yes               Mailed check   \n",
       "7039        One year              Yes    Credit card (automatic)   \n",
       "7040  Month-to-month              Yes           Electronic check   \n",
       "7041  Month-to-month              Yes               Mailed check   \n",
       "7042        Two year              Yes  Bank transfer (automatic)   \n",
       "\n",
       "      MonthlyCharges TotalCharges Churn  \n",
       "0              29.85        29.85    No  \n",
       "1              56.95       1889.5    No  \n",
       "2              53.85       108.15   Yes  \n",
       "3              42.30      1840.75    No  \n",
       "4              70.70       151.65   Yes  \n",
       "...              ...          ...   ...  \n",
       "7038           84.80       1990.5    No  \n",
       "7039          103.20       7362.9    No  \n",
       "7040           29.60       346.45    No  \n",
       "7041           74.40        306.6   Yes  \n",
       "7042          105.65       6844.5    No  \n",
       "\n",
       "[7032 rows x 21 columns]"
      ]
     },
     "execution_count": 4,
     "metadata": {},
     "output_type": "execute_result"
    }
   ],
   "source": [
    "df = df[df['tenure'] != 0]\n",
    "df"
   ]
  },
  {
   "cell_type": "markdown",
   "id": "e05b1603",
   "metadata": {},
   "source": [
    "Terdapat anomali pada data dengan tenure = 0, di mana nilai TotalCharges tidak terisi. Hal ini wajar karena pelanggan tersebut baru bergabung sehingga belum memiliki tagihan dan status churn-nya belum dapat diketahui dengan jelas. Sesuai kesepakatan, 11 baris dengan tenure = 0 dihapus dari dataset karena dianggap tidak merepresentasikan perilaku pelanggan aktif. Data ini hanya mencakup sekitar 0.15% dari total, sehingga dampaknya terhadap analisis sangat kecil. Keputusan ini juga didukung oleh literatur, di mana menurut Schafer (1999) dan Bennett (2001), data yang hilang kurang dari 5% umumnya tidak menyebabkan bias signifikan jika dihapus secara langsung. Oleh karena itu, penghapusan dilakukan untuk keperluan EDA maupun pelatihan model machine learning."
   ]
  },
  {
   "cell_type": "markdown",
   "id": "fc5138cc",
   "metadata": {},
   "source": [
    "### 2.3 Duplicated Values Checking"
   ]
  },
  {
   "cell_type": "code",
   "execution_count": 5,
   "id": "683d2800",
   "metadata": {},
   "outputs": [
    {
     "name": "stdout",
     "output_type": "stream",
     "text": [
      "Number of duplicated rows: 0\n"
     ]
    }
   ],
   "source": [
    "# Count duplicated rows\n",
    "num_duplicates = df.duplicated().sum()\n",
    "print(f\"Number of duplicated rows: {num_duplicates}\")"
   ]
  },
  {
   "cell_type": "markdown",
   "id": "5ea3e87b",
   "metadata": {},
   "source": [
    "Hasil pemeriksaan duplikasi dengan fungsi `df.duplicated().sum()` menunjukkan bahwa tidak terdapat baris yang sama persis (duplikat) dalam dataset, yaitu sejumlah 0 baris duplikat. Hal ini menandakan bahwa setiap entri dalam data bersifat unik setelah penghapusan baris dengan `tenure = 0`, sehingga tidak diperlukan tindakan lebih lanjut terkait duplikasi. Keberadaan data yang bebas duplikasi sangat penting untuk menjaga kualitas analisis dan mencegah bias yang dapat muncul pada tahap pelatihan model machine learning."
   ]
  },
  {
   "cell_type": "markdown",
   "id": "58ed397b",
   "metadata": {},
   "source": [
    "### 2.4 Dataset Restructuring for Better EDA"
   ]
  },
  {
   "cell_type": "code",
   "execution_count": 6,
   "id": "66e1a245",
   "metadata": {},
   "outputs": [
    {
     "name": "stdout",
     "output_type": "stream",
     "text": [
      "<class 'pandas.core.frame.DataFrame'>\n",
      "Index: 7032 entries, 0 to 7042\n",
      "Data columns (total 21 columns):\n",
      " #   Column            Non-Null Count  Dtype   \n",
      "---  ------            --------------  -----   \n",
      " 0   customerID        7032 non-null   object  \n",
      " 1   gender            7032 non-null   category\n",
      " 2   SeniorCitizen     7032 non-null   category\n",
      " 3   Partner           7032 non-null   category\n",
      " 4   Dependents        7032 non-null   category\n",
      " 5   tenure            7032 non-null   int64   \n",
      " 6   PhoneService      7032 non-null   category\n",
      " 7   MultipleLines     7032 non-null   category\n",
      " 8   InternetService   7032 non-null   category\n",
      " 9   OnlineSecurity    7032 non-null   category\n",
      " 10  OnlineBackup      7032 non-null   category\n",
      " 11  DeviceProtection  7032 non-null   category\n",
      " 12  TechSupport       7032 non-null   category\n",
      " 13  StreamingTV       7032 non-null   category\n",
      " 14  StreamingMovies   7032 non-null   category\n",
      " 15  Contract          7032 non-null   category\n",
      " 16  PaperlessBilling  7032 non-null   category\n",
      " 17  PaymentMethod     7032 non-null   category\n",
      " 18  MonthlyCharges    7032 non-null   float64 \n",
      " 19  TotalCharges      7032 non-null   float64 \n",
      " 20  Churn             7032 non-null   category\n",
      "dtypes: category(17), float64(2), int64(1), object(1)\n",
      "memory usage: 393.6+ KB\n"
     ]
    }
   ],
   "source": [
    "# Convert object columns to category dtype\n",
    "object_cols = df.select_dtypes(include=['object']).columns.tolist()\n",
    "object_cols = [col for col in object_cols if col not in ('customerID', 'TotalCharges')]\n",
    "df[object_cols] = df[object_cols].astype('category')\n",
    "df['SeniorCitizen'] = df['SeniorCitizen'].map({0: 'No', 1: 'Yes'}).astype('category')\n",
    "df['TotalCharges'] = pd.to_numeric(df['TotalCharges'], errors='coerce')\n",
    "\n",
    "# Confirm changes\n",
    "df.info()"
   ]
  },
  {
   "cell_type": "code",
   "execution_count": 7,
   "id": "0cfceb1e",
   "metadata": {},
   "outputs": [
    {
     "data": {
      "text/html": [
       "<div>\n",
       "<style scoped>\n",
       "    .dataframe tbody tr th:only-of-type {\n",
       "        vertical-align: middle;\n",
       "    }\n",
       "\n",
       "    .dataframe tbody tr th {\n",
       "        vertical-align: top;\n",
       "    }\n",
       "\n",
       "    .dataframe thead th {\n",
       "        text-align: right;\n",
       "    }\n",
       "</style>\n",
       "<table border=\"1\" class=\"dataframe\">\n",
       "  <thead>\n",
       "    <tr style=\"text-align: right;\">\n",
       "      <th></th>\n",
       "      <th>customerID</th>\n",
       "      <th>gender</th>\n",
       "      <th>SeniorCitizen</th>\n",
       "      <th>Partner</th>\n",
       "      <th>Dependents</th>\n",
       "      <th>tenure</th>\n",
       "      <th>PhoneService</th>\n",
       "      <th>MultipleLines</th>\n",
       "      <th>InternetService</th>\n",
       "      <th>OnlineSecurity</th>\n",
       "      <th>OnlineBackup</th>\n",
       "      <th>DeviceProtection</th>\n",
       "      <th>TechSupport</th>\n",
       "      <th>StreamingTV</th>\n",
       "      <th>StreamingMovies</th>\n",
       "      <th>Contract</th>\n",
       "      <th>PaperlessBilling</th>\n",
       "      <th>PaymentMethod</th>\n",
       "      <th>MonthlyCharges</th>\n",
       "      <th>TotalCharges</th>\n",
       "      <th>Churn</th>\n",
       "    </tr>\n",
       "  </thead>\n",
       "  <tbody>\n",
       "    <tr>\n",
       "      <th>0</th>\n",
       "      <td>7590-VHVEG</td>\n",
       "      <td>Female</td>\n",
       "      <td>No</td>\n",
       "      <td>Yes</td>\n",
       "      <td>No</td>\n",
       "      <td>1</td>\n",
       "      <td>No</td>\n",
       "      <td>No phone service</td>\n",
       "      <td>DSL</td>\n",
       "      <td>No</td>\n",
       "      <td>Yes</td>\n",
       "      <td>No</td>\n",
       "      <td>No</td>\n",
       "      <td>No</td>\n",
       "      <td>No</td>\n",
       "      <td>Month-to-month</td>\n",
       "      <td>Yes</td>\n",
       "      <td>Electronic check</td>\n",
       "      <td>29.85</td>\n",
       "      <td>29.85</td>\n",
       "      <td>No</td>\n",
       "    </tr>\n",
       "    <tr>\n",
       "      <th>1</th>\n",
       "      <td>5575-GNVDE</td>\n",
       "      <td>Male</td>\n",
       "      <td>No</td>\n",
       "      <td>No</td>\n",
       "      <td>No</td>\n",
       "      <td>34</td>\n",
       "      <td>Yes</td>\n",
       "      <td>No</td>\n",
       "      <td>DSL</td>\n",
       "      <td>Yes</td>\n",
       "      <td>No</td>\n",
       "      <td>Yes</td>\n",
       "      <td>No</td>\n",
       "      <td>No</td>\n",
       "      <td>No</td>\n",
       "      <td>One year</td>\n",
       "      <td>No</td>\n",
       "      <td>Mailed check</td>\n",
       "      <td>56.95</td>\n",
       "      <td>1889.50</td>\n",
       "      <td>No</td>\n",
       "    </tr>\n",
       "    <tr>\n",
       "      <th>2</th>\n",
       "      <td>3668-QPYBK</td>\n",
       "      <td>Male</td>\n",
       "      <td>No</td>\n",
       "      <td>No</td>\n",
       "      <td>No</td>\n",
       "      <td>2</td>\n",
       "      <td>Yes</td>\n",
       "      <td>No</td>\n",
       "      <td>DSL</td>\n",
       "      <td>Yes</td>\n",
       "      <td>Yes</td>\n",
       "      <td>No</td>\n",
       "      <td>No</td>\n",
       "      <td>No</td>\n",
       "      <td>No</td>\n",
       "      <td>Month-to-month</td>\n",
       "      <td>Yes</td>\n",
       "      <td>Mailed check</td>\n",
       "      <td>53.85</td>\n",
       "      <td>108.15</td>\n",
       "      <td>Yes</td>\n",
       "    </tr>\n",
       "    <tr>\n",
       "      <th>3</th>\n",
       "      <td>7795-CFOCW</td>\n",
       "      <td>Male</td>\n",
       "      <td>No</td>\n",
       "      <td>No</td>\n",
       "      <td>No</td>\n",
       "      <td>45</td>\n",
       "      <td>No</td>\n",
       "      <td>No phone service</td>\n",
       "      <td>DSL</td>\n",
       "      <td>Yes</td>\n",
       "      <td>No</td>\n",
       "      <td>Yes</td>\n",
       "      <td>Yes</td>\n",
       "      <td>No</td>\n",
       "      <td>No</td>\n",
       "      <td>One year</td>\n",
       "      <td>No</td>\n",
       "      <td>Bank transfer (automatic)</td>\n",
       "      <td>42.30</td>\n",
       "      <td>1840.75</td>\n",
       "      <td>No</td>\n",
       "    </tr>\n",
       "    <tr>\n",
       "      <th>4</th>\n",
       "      <td>9237-HQITU</td>\n",
       "      <td>Female</td>\n",
       "      <td>No</td>\n",
       "      <td>No</td>\n",
       "      <td>No</td>\n",
       "      <td>2</td>\n",
       "      <td>Yes</td>\n",
       "      <td>No</td>\n",
       "      <td>Fiber optic</td>\n",
       "      <td>No</td>\n",
       "      <td>No</td>\n",
       "      <td>No</td>\n",
       "      <td>No</td>\n",
       "      <td>No</td>\n",
       "      <td>No</td>\n",
       "      <td>Month-to-month</td>\n",
       "      <td>Yes</td>\n",
       "      <td>Electronic check</td>\n",
       "      <td>70.70</td>\n",
       "      <td>151.65</td>\n",
       "      <td>Yes</td>\n",
       "    </tr>\n",
       "  </tbody>\n",
       "</table>\n",
       "</div>"
      ],
      "text/plain": [
       "   customerID  gender SeniorCitizen Partner Dependents  tenure PhoneService  \\\n",
       "0  7590-VHVEG  Female            No     Yes         No       1           No   \n",
       "1  5575-GNVDE    Male            No      No         No      34          Yes   \n",
       "2  3668-QPYBK    Male            No      No         No       2          Yes   \n",
       "3  7795-CFOCW    Male            No      No         No      45           No   \n",
       "4  9237-HQITU  Female            No      No         No       2          Yes   \n",
       "\n",
       "      MultipleLines InternetService OnlineSecurity OnlineBackup  \\\n",
       "0  No phone service             DSL             No          Yes   \n",
       "1                No             DSL            Yes           No   \n",
       "2                No             DSL            Yes          Yes   \n",
       "3  No phone service             DSL            Yes           No   \n",
       "4                No     Fiber optic             No           No   \n",
       "\n",
       "  DeviceProtection TechSupport StreamingTV StreamingMovies        Contract  \\\n",
       "0               No          No          No              No  Month-to-month   \n",
       "1              Yes          No          No              No        One year   \n",
       "2               No          No          No              No  Month-to-month   \n",
       "3              Yes         Yes          No              No        One year   \n",
       "4               No          No          No              No  Month-to-month   \n",
       "\n",
       "  PaperlessBilling              PaymentMethod  MonthlyCharges  TotalCharges  \\\n",
       "0              Yes           Electronic check           29.85         29.85   \n",
       "1               No               Mailed check           56.95       1889.50   \n",
       "2              Yes               Mailed check           53.85        108.15   \n",
       "3               No  Bank transfer (automatic)           42.30       1840.75   \n",
       "4              Yes           Electronic check           70.70        151.65   \n",
       "\n",
       "  Churn  \n",
       "0    No  \n",
       "1    No  \n",
       "2   Yes  \n",
       "3    No  \n",
       "4   Yes  "
      ]
     },
     "execution_count": 7,
     "metadata": {},
     "output_type": "execute_result"
    }
   ],
   "source": [
    "df.head()"
   ]
  },
  {
   "cell_type": "markdown",
   "id": "2b908365",
   "metadata": {},
   "source": [
    "Untuk menyederhanakan analisis dan mengoptimalkan penggunaan memori, seluruh kolom bertipe `object`—kecuali `customerID` dan `TotalCharges`—diubah menjadi tipe data `category`, karena kolom-kolom ini merepresentasikan data kategorikal. Selain itu, kolom `SeniorCitizen`, yang semula berupa numerik biner (0 dan 1), dipetakan menjadi kategori `\"No\"` dan `\"Yes\"` untuk meningkatkan interpretabilitas. Kolom `TotalCharges` juga dikonversi ke tipe numerik (`float64`) dengan `errors='coerce'` untuk memastikan konsistensi data. Setelah transformasi, dataset terdiri dari 21 kolom dengan 17 kolom bertipe kategori, 2 numerik kontinu (`MonthlyCharges`, `TotalCharges`), 1 numerik diskrit (`tenure`), dan 1 kolom identitas (`customerID`). Transformasi ini berhasil memperbaiki struktur data untuk keperluan analisis eksploratif dan pemodelan lebih lanjut."
   ]
  },
  {
   "cell_type": "markdown",
   "id": "1d698cf3",
   "metadata": {},
   "source": [
    "### 2.5 Exploratory Data Analysis (EDA) - Univariat"
   ]
  },
  {
   "cell_type": "code",
   "execution_count": 8,
   "id": "34f660a5",
   "metadata": {},
   "outputs": [],
   "source": [
    "def plot_box_and_kde(df, col, figsize=(15, 5)):\n",
    "    # Visualisasi\n",
    "    fig, axes = plt.subplots(nrows=1, ncols=2, figsize=figsize)\n",
    "    plt.suptitle(f'Distribution of {col}', fontsize=16, y=1.02)\n",
    "    sns.boxplot(data=df, x=col, orient='h', ax=axes[0])\n",
    "    axes[0].set_title(f'Boxplot of {col}')\n",
    "\n",
    "    sns.kdeplot(data=df, x=col, fill=True, ax=axes[1])\n",
    "    axes[1].set_title(f'KDE Histplot of {col}')\n",
    "\n",
    "    plt.tight_layout(rect=[0, 0, 1, 0.9])\n",
    "    plt.show()\n",
    "\n",
    "    # Statistik deskriptif + IQR\n",
    "    stats = df[col].describe()\n",
    "    q1 = stats['25%']\n",
    "    q3 = stats['75%']\n",
    "    iqr = q3 - q1\n",
    "    stats['IQR'] = iqr\n",
    "\n",
    "    # Tabel transpos\n",
    "    stats_df = stats.to_frame(name=col).T\n",
    "    display(stats_df)"
   ]
  },
  {
   "cell_type": "markdown",
   "id": "4593dc87",
   "metadata": {},
   "source": [
    "Fungsi plot_box_and_kde digunakan untuk menganalisis variabel numerik seperti 'tenure'. Fungsi ini menyajikan dua plot berdampingan: sebuah boxplot untuk melihat ringkasan statistik (median, kuartil, jangkauan) dan sebuah KDE plot untuk melihat bentuk distribusi data. Selain visualisasi, fungsi ini juga menampilkan tabel statistik deskriptif yang mencakup mean, standar deviasi, dan IQR (Interquartile Range) untuk memberikan ringkasan kuantitatif."
   ]
  },
  {
   "cell_type": "code",
   "execution_count": 9,
   "id": "82252f0a",
   "metadata": {},
   "outputs": [],
   "source": [
    "def plot_countplot_with_hue(df, col, figsize=(15, 5)):\n",
    "    # Hitung Count dan Persentase\n",
    "    counts = df[col].value_counts()\n",
    "    percentages = counts / len(df) * 100\n",
    "    total = len(df)\n",
    "\n",
    "    # Buat urutan berdasarkan Count tertinggi ke terendah\n",
    "    ordered_categories = counts.index.tolist()\n",
    "    df[col] = pd.Categorical(df[col], categories=ordered_categories, ordered=True)\n",
    "\n",
    "    # Plot\n",
    "    plt.figure(figsize=figsize)\n",
    "    ax = sns.countplot(data=df, y=col, hue=col)\n",
    "    plt.title(f'Distribution of {col}', fontsize=16)\n",
    "    plt.xlabel('Count')\n",
    "    plt.ylabel('')\n",
    "\n",
    "    for p in ax.patches:\n",
    "        width = p.get_width()\n",
    "        y = p.get_y() + p.get_height() / 2\n",
    "        label = f'{int(width)} ({width / total:.1%})'\n",
    "        ax.text(width + total * 0.005, y, label, va='center', fontsize=9)\n",
    "\n",
    "    plt.tight_layout()\n",
    "    plt.show()"
   ]
  },
  {
   "cell_type": "markdown",
   "id": "f6b1d245",
   "metadata": {},
   "source": [
    "Untuk variabel kategorikal, fungsi plot_countplot_with_hue digunakan. Fungsi ini menghitung frekuensi setiap kategori, mengurutkannya dari yang terbesar, lalu menampilkannya dalam bentuk countplot horizontal. Setiap bar pada plot diberi anotasi yang menunjukkan jumlah absolut dan persentase relatifnya, sehingga memberikan gambaran distribusi yang jelas dan informatif."
   ]
  },
  {
   "cell_type": "code",
   "execution_count": 10,
   "id": "57a74a7a",
   "metadata": {},
   "outputs": [],
   "source": [
    "def check_normality(df, col):\n",
    "  # Ambil data dari kolom yang ditentukan dan hapus nilai yang hilang.\n",
    "  data_to_test = df[col].dropna()\n",
    "\n",
    "  # Jalankan uji D'Agostino-Pearson dan ambil p-value.\n",
    "  statistic, p_value = normaltest(data_to_test)\n",
    "  \n",
    "  # Tampilkan nilai p-value-nya.\n",
    "  print(f\"P-value untuk kolom '{col}': {p_value:.2f}\")\n",
    "\n",
    "  # Cek p-value untuk mencetak konklusi hipotesis.\n",
    "  if p_value < 0.05:\n",
    "    print(f\"Tolak Ho, terima Ha. Data '{col}' tidak terdistribusi normal.\")\n",
    "  else:\n",
    "    print(f\"Gagal tolak Ho. Data '{col}' terdistribusi normal.\")"
   ]
  },
  {
   "cell_type": "markdown",
   "id": "649698e7",
   "metadata": {},
   "source": [
    "Fungsi ini bertujuan untuk menguji secara statistik Bagaimanakah data dalam sebuah kolom mengikuti distribusi normal atau tidak. Ia mengambil data dari kolom yang ditentukan, menjalankan uji normalitas D'Agostino-Pearson, lalu mencetak nilai p-value yang dihasilkan. Berdasarkan p-value tersebut, fungsi ini memberikan kesimpulan statistik Bagaimanakah kita harus menolak atau gagal menolak hipotesis nol, yang pada akhirnya menentukan Bagaimanakah data tersebut dianggap normal atau tidak.\n",
    "- Ho: Data terdistribusi normal.\n",
    "- Ha: Data tidak terdistribusi normal."
   ]
  },
  {
   "cell_type": "markdown",
   "id": "4fa9bec4",
   "metadata": {},
   "source": [
    "#### 2.5.1 Berapa lama pelanggan biasanya tetap berlangganan layanan?"
   ]
  },
  {
   "cell_type": "code",
   "execution_count": 11,
   "id": "4791ddc3",
   "metadata": {},
   "outputs": [
    {
     "data": {
      "image/png": "[encoded data removed]",
      "text/plain": [
       "<Figure size 1500x500 with 2 Axes>"
      ]
     },
     "metadata": {},
     "output_type": "display_data"
    },
    {
     "data": {
      "text/html": [
       "<div>\n",
       "<style scoped>\n",
       "    .dataframe tbody tr th:only-of-type {\n",
       "        vertical-align: middle;\n",
       "    }\n",
       "\n",
       "    .dataframe tbody tr th {\n",
       "        vertical-align: top;\n",
       "    }\n",
       "\n",
       "    .dataframe thead th {\n",
       "        text-align: right;\n",
       "    }\n",
       "</style>\n",
       "<table border=\"1\" class=\"dataframe\">\n",
       "  <thead>\n",
       "    <tr style=\"text-align: right;\">\n",
       "      <th></th>\n",
       "      <th>count</th>\n",
       "      <th>mean</th>\n",
       "      <th>std</th>\n",
       "      <th>min</th>\n",
       "      <th>25%</th>\n",
       "      <th>50%</th>\n",
       "      <th>75%</th>\n",
       "      <th>max</th>\n",
       "      <th>IQR</th>\n",
       "    </tr>\n",
       "  </thead>\n",
       "  <tbody>\n",
       "    <tr>\n",
       "      <th>tenure</th>\n",
       "      <td>7032.0</td>\n",
       "      <td>32.421786</td>\n",
       "      <td>24.54526</td>\n",
       "      <td>1.0</td>\n",
       "      <td>9.0</td>\n",
       "      <td>29.0</td>\n",
       "      <td>55.0</td>\n",
       "      <td>72.0</td>\n",
       "      <td>46.0</td>\n",
       "    </tr>\n",
       "  </tbody>\n",
       "</table>\n",
       "</div>"
      ],
      "text/plain": [
       "         count       mean       std  min  25%   50%   75%   max   IQR\n",
       "tenure  7032.0  32.421786  24.54526  1.0  9.0  29.0  55.0  72.0  46.0"
      ]
     },
     "metadata": {},
     "output_type": "display_data"
    },
    {
     "name": "stdout",
     "output_type": "stream",
     "text": [
      "P-value untuk kolom 'tenure': 0.00\n",
      "Tolak Ho, terima Ha. Data 'tenure' tidak terdistribusi normal.\n"
     ]
    }
   ],
   "source": [
    "plot_box_and_kde(df, 'tenure')\n",
    "check_normality(df,'tenure')"
   ]
  },
  {
   "cell_type": "markdown",
   "id": "3f65e52b",
   "metadata": {},
   "source": [
    "##### Business Insights\n",
    "\n",
    "- **Distribusi `tenure` pelanggan bersifat bimodal.** Ini artinya, pelanggan cenderung terdiri dari dua kelompok besar: mereka yang masih sangat baru, dan mereka yang sudah sangat lama dan setia.\n",
    "\n",
    "- **Terdapat konsentrasi pelanggan yang sangat tinggi pada masa awal berlangganan (sekitar 1-9 bulan).** Hal ini menunjukkan banyak pelanggan baru yang mendaftar, namun periode awal ini sangat rentan karena pelanggan bisa berhenti berlangganan kapan saja.\n",
    "\n",
    "- **Sebuah kelompok besar pelanggan menunjukkan loyalitas yang luar biasa dengan bertahan hingga masa berlangganan maksimal (72 bulan).** Hal ini membuktikan bahwa layanan berhasil mempertahankan sekelompok pelanggan untuk jangka panjang."
   ]
  },
  {
   "cell_type": "markdown",
   "id": "43f69c5e",
   "metadata": {},
   "source": [
    "#### 2.5.2 Berapa besar total pengeluaran pelanggan selama mereka berlangganan?"
   ]
  },
  {
   "cell_type": "code",
   "execution_count": 12,
   "id": "9c4e0a00",
   "metadata": {},
   "outputs": [
    {
     "data": {
      "image/png": "[encoded data removed]",
      "text/plain": [
       "<Figure size 1500x500 with 2 Axes>"
      ]
     },
     "metadata": {},
     "output_type": "display_data"
    },
    {
     "data": {
      "text/html": [
       "<div>\n",
       "<style scoped>\n",
       "    .dataframe tbody tr th:only-of-type {\n",
       "        vertical-align: middle;\n",
       "    }\n",
       "\n",
       "    .dataframe tbody tr th {\n",
       "        vertical-align: top;\n",
       "    }\n",
       "\n",
       "    .dataframe thead th {\n",
       "        text-align: right;\n",
       "    }\n",
       "</style>\n",
       "<table border=\"1\" class=\"dataframe\">\n",
       "  <thead>\n",
       "    <tr style=\"text-align: right;\">\n",
       "      <th></th>\n",
       "      <th>count</th>\n",
       "      <th>mean</th>\n",
       "      <th>std</th>\n",
       "      <th>min</th>\n",
       "      <th>25%</th>\n",
       "      <th>50%</th>\n",
       "      <th>75%</th>\n",
       "      <th>max</th>\n",
       "      <th>IQR</th>\n",
       "    </tr>\n",
       "  </thead>\n",
       "  <tbody>\n",
       "    <tr>\n",
       "      <th>TotalCharges</th>\n",
       "      <td>7032.0</td>\n",
       "      <td>2283.300441</td>\n",
       "      <td>2266.771362</td>\n",
       "      <td>18.8</td>\n",
       "      <td>401.45</td>\n",
       "      <td>1397.475</td>\n",
       "      <td>3794.7375</td>\n",
       "      <td>8684.8</td>\n",
       "      <td>3393.2875</td>\n",
       "    </tr>\n",
       "  </tbody>\n",
       "</table>\n",
       "</div>"
      ],
      "text/plain": [
       "               count         mean          std   min     25%       50%  \\\n",
       "TotalCharges  7032.0  2283.300441  2266.771362  18.8  401.45  1397.475   \n",
       "\n",
       "                    75%     max        IQR  \n",
       "TotalCharges  3794.7375  8684.8  3393.2875  "
      ]
     },
     "metadata": {},
     "output_type": "display_data"
    },
    {
     "name": "stdout",
     "output_type": "stream",
     "text": [
      "P-value untuk kolom 'TotalCharges': 0.00\n",
      "Tolak Ho, terima Ha. Data 'TotalCharges' tidak terdistribusi normal.\n"
     ]
    }
   ],
   "source": [
    "plot_box_and_kde(df, 'TotalCharges')\n",
    "check_normality(df, 'TotalCharges')"
   ]
  },
  {
   "cell_type": "markdown",
   "id": "5ebd6d48",
   "metadata": {},
   "source": [
    "##### Business Insights\n",
    "\n",
    "- **Distribusi `TotalCharges` sangat condong ke kanan (*right-skewed*).** Ini artinya, sebagian besar pelanggan memiliki riwayat total belanja yang relatif rendah, sementara hanya sedikit pelanggan yang memiliki total belanja sangat tinggi.\n",
    "\n",
    "- **Pola `TotalCharges` ini mencerminkan distribusi `tenure`.** Tingginya jumlah pelanggan dengan `TotalCharges` rendah konsisten dengan temuan sebelumnya, di mana banyak pelanggan baru berhenti berlangganan di awal dan belum mengakumulasi banyak tagihan."
   ]
  },
  {
   "cell_type": "markdown",
   "id": "8107e2c5",
   "metadata": {},
   "source": [
    "#### 2.5.3 Berapa biaya bulanan yang biasanya dibayarkan pelanggan?"
   ]
  },
  {
   "cell_type": "code",
   "execution_count": null,
   "id": "18f006e2",
   "metadata": {},
   "outputs": [],
   "source": [
    "plot_box_and_kde(df, 'MonthlyCharges')\n",
    "check_normality(df, 'MonthlyCharges')"
   ]
  },
  {
   "cell_type": "markdown",
   "id": "dce0eb0e",
   "metadata": {},
   "source": [
    "##### Business Insights\n",
    "\n",
    "- **Distribusi `MonthlyCharges` bersifat bimodal, dengan satu puncak di harga rendah dan satu lagi di harga tinggi.** Hal ini mengindikasikan bahwa pelanggan cenderung terkumpul pada dua kelompok paket layanan: paket dasar berbiaya rendah dan paket premium yang lebih mahal.\n",
    "\n",
    "- **Jumlah pelanggan di rentang tagihan bulanan menengah (sekitar $30 - $65) jauh lebih sedikit.** \"Celah\" ini menunjukkan bahwa struktur penawaran produk mendorong pelanggan untuk memilih antara paket paling dasar atau paket yang paling lengkap, dengan sedikit peminat untuk paket di kelas menengah."
   ]
  },
  {
   "cell_type": "markdown",
   "id": "6e401c47",
   "metadata": {},
   "source": [
    "#### 2.5.4 Bagaimana distribusi status churn pelanggan?"
   ]
  },
  {
   "cell_type": "code",
   "execution_count": null,
   "id": "860bb336",
   "metadata": {},
   "outputs": [],
   "source": [
    "plot_countplot_with_hue(df, 'Churn')"
   ]
  },
  {
   "cell_type": "markdown",
   "id": "1019fccc",
   "metadata": {},
   "source": [
    "##### Business Insights\n",
    "\n",
    "- **Jumlah pelanggan yang tidak *churn* jauh lebih banyak daripada yang *churn*.** Hal ini menunjukkan bahwa dataset bersifat tidak seimbang (*imbalanced*), di mana mayoritas pelanggan pada periode ini tetap setia pada layanan.\n",
    "\n",
    "- **Tingkat *churn* (pelanggan berhenti) berada di sekitar 26%.** Meskipun pelanggan yang bertahan lebih banyak, kehilangan lebih dari seperempat total pelanggan adalah angka yang signifikan dan menunjukkan adanya masalah retensi."
   ]
  },
  {
   "cell_type": "markdown",
   "id": "224fc1ca",
   "metadata": {},
   "source": [
    "#### 2.5.5 Bagaimana karakteristik distribusi pelanggan berdasarkan jenis kelamin?"
   ]
  },
  {
   "cell_type": "code",
   "execution_count": null,
   "id": "4804c57c",
   "metadata": {},
   "outputs": [],
   "source": [
    "plot_countplot_with_hue(df, 'gender')"
   ]
  },
  {
   "cell_type": "markdown",
   "id": "250b3f1c",
   "metadata": {},
   "source": [
    "##### Business Insights\n",
    "\n",
    "- **Tingkat *churn* antara pelanggan pria dan wanita hampir identik.** Hal ini menunjukkan bahwa faktor gender tampaknya bukan pendorong utama yang membuat pelanggan berhenti berlangganan dalam dataset ini."
   ]
  },
  {
   "cell_type": "markdown",
   "id": "895ccc49",
   "metadata": {},
   "source": [
    "#### 2.5.6 Bagaimana karakteristik distribusi pelanggan berdasarkan status lansia?"
   ]
  },
  {
   "cell_type": "code",
   "execution_count": null,
   "id": "456ac442",
   "metadata": {},
   "outputs": [],
   "source": [
    "plot_countplot_with_hue(df, 'SeniorCitizen')"
   ]
  },
  {
   "cell_type": "markdown",
   "id": "56a1e663",
   "metadata": {},
   "source": [
    "##### Business Insights\n",
    "\n",
    "- **Jumlah pelanggan non-senior jauh lebih banyak dibandingkan pelanggan *Senior Citizen*.** Hal ini menunjukkan bahwa segmen *Senior Citizen* merupakan kelompok minoritas dalam keseluruhan basis pelanggan yang dianalisis."
   ]
  },
  {
   "cell_type": "markdown",
   "id": "31da1e55",
   "metadata": {},
   "source": [
    "#### 2.5.7 Bagaimana karakteristik distribusi pelanggan berdasarkan status memiliki pasangan?"
   ]
  },
  {
   "cell_type": "code",
   "execution_count": null,
   "id": "c95bfca8",
   "metadata": {},
   "outputs": [],
   "source": [
    "plot_countplot_with_hue(df, 'Partner')"
   ]
  },
  {
   "cell_type": "markdown",
   "id": "1dc72a80",
   "metadata": {},
   "source": [
    "##### Business Insights\n",
    "\n",
    "- **Jumlah pelanggan yang tidak memiliki pasangan sedikit lebih banyak daripada yang memiliki pasangan.** Hal ini menunjukkan bahwa komposisi pelanggan cukup seimbang dari sisi status pasangan, meskipun sedikit lebih banyak yang lajang."
   ]
  },
  {
   "cell_type": "markdown",
   "id": "93aae6c7",
   "metadata": {},
   "source": [
    "#### 2.5.8 Bagaimana karakteristik distribusi pelanggan berdasarkan tanggungan keluarga?"
   ]
  },
  {
   "cell_type": "code",
   "execution_count": null,
   "id": "143941f8",
   "metadata": {},
   "outputs": [],
   "source": [
    "plot_countplot_with_hue(df, 'Dependents')"
   ]
  },
  {
   "cell_type": "markdown",
   "id": "56c37d07",
   "metadata": {},
   "source": [
    "##### Business Insights\n",
    "\n",
    "- **Jumlah pelanggan yang tidak memiliki tanggungan (*Dependents*) jauh lebih banyak daripada yang memiliki tanggungan.** Hal ini menunjukkan bahwa mayoritas basis pelanggan adalah individu mandiri tanpa tanggungan."
   ]
  },
  {
   "cell_type": "markdown",
   "id": "cac8ff6d",
   "metadata": {},
   "source": [
    "#### 2.5.9 Bagaimana karakteristik distribusi pelanggan berdasarkan kepemilikan layanan telepon ?"
   ]
  },
  {
   "cell_type": "code",
   "execution_count": null,
   "id": "abc9b281",
   "metadata": {},
   "outputs": [],
   "source": [
    "plot_countplot_with_hue(df, 'PhoneService')"
   ]
  },
  {
   "cell_type": "markdown",
   "id": "3e8dae03",
   "metadata": {},
   "source": [
    "##### Business Insights\n",
    "\n",
    "- **Sebagian besar pelanggan memiliki layanan telepon (*Phone Service*).** Hal ini menunjukkan bahwa layanan telepon adalah produk yang sangat umum dan dimiliki oleh hampir semua pelanggan dalam dataset ini."
   ]
  },
  {
   "cell_type": "markdown",
   "id": "8fd04512",
   "metadata": {},
   "source": [
    "#### 2.5.10 Bagaimana karakteristik distribusi pelanggan berdasarkan kepemilikan beberapa saluran telepon?"
   ]
  },
  {
   "cell_type": "code",
   "execution_count": null,
   "id": "6af77a51",
   "metadata": {},
   "outputs": [],
   "source": [
    "plot_countplot_with_hue(df, 'MultipleLines')"
   ]
  },
  {
   "cell_type": "markdown",
   "id": "87b5eb86",
   "metadata": {},
   "source": [
    "##### Business Insights\n",
    "\n",
    "- **Jumlah pelanggan dengan satu jalur telepon (`No`) adalah yang terbanyak, diikuti oleh yang memiliki beberapa jalur (`Yes`).** Hal ini menunjukkan bahwa mayoritas pelanggan yang memiliki layanan telepon tidak memilih untuk menambah layanan *multiple lines*."
   ]
  },
  {
   "cell_type": "markdown",
   "id": "356273ec",
   "metadata": {},
   "source": [
    "#### 2.5.11 Bagaimana karakteristik distribusi pelanggan berdasarkan jenis layanan internet?"
   ]
  },
  {
   "cell_type": "code",
   "execution_count": null,
   "id": "b44bca7c",
   "metadata": {},
   "outputs": [],
   "source": [
    "plot_countplot_with_hue(df, 'InternetService')"
   ]
  },
  {
   "cell_type": "markdown",
   "id": "c248bfb4",
   "metadata": {},
   "source": [
    "##### Business Insights\n",
    "\n",
    "- **Jumlah pelanggan yang menggunakan *Fiber optic* adalah yang paling banyak, sedikit di atas pengguna *DSL*.** Hal ini menunjukkan bahwa layanan internet, khususnya *Fiber optic*, merupakan produk yang populer di kalangan basis pelanggan ini."
   ]
  },
  {
   "cell_type": "markdown",
   "id": "810a91fb",
   "metadata": {},
   "source": [
    "#### 2.5.12 Bagaimana karakteristik distribusi pelanggan berdasarkan status perlindungan keamanan online?"
   ]
  },
  {
   "cell_type": "code",
   "execution_count": null,
   "id": "0df0e10c",
   "metadata": {},
   "outputs": [],
   "source": [
    "plot_countplot_with_hue(df, 'OnlineSecurity')"
   ]
  },
  {
   "cell_type": "markdown",
   "id": "102fde66",
   "metadata": {},
   "source": [
    "##### Business Insights\n",
    "\n",
    "- **Di antara pelanggan internet, lebih banyak yang tidak memiliki layanan tambahan *Online Security* dibandingkan yang memilikinya.** Hal ini menunjukkan bahwa *Online Security* bukanlah *add-on* yang populer atau dianggap esensial oleh mayoritas pelanggan internet."
   ]
  },
  {
   "cell_type": "markdown",
   "id": "953cfb72",
   "metadata": {},
   "source": [
    "#### 2.5.13 Bagaimana karakteristik distribusi pelanggan berdasarkan status cadangan data online?"
   ]
  },
  {
   "cell_type": "code",
   "execution_count": null,
   "id": "a14e8218",
   "metadata": {},
   "outputs": [],
   "source": [
    "plot_countplot_with_hue(df, 'OnlineBackup')"
   ]
  },
  {
   "cell_type": "markdown",
   "id": "f567e9b4",
   "metadata": {},
   "source": [
    "##### Business Insights\n",
    "\n",
    "- **Di antara pelanggan internet, jumlah yang tidak memiliki layanan *Online Backup* sedikit lebih banyak daripada yang memilikinya.** Hal ini menunjukkan bahwa adopsi *add-on* ini lebih seimbang dibandingkan *Online Security*, meskipun masih belum menjadi pilihan mayoritas."
   ]
  },
  {
   "cell_type": "markdown",
   "id": "ca808e89",
   "metadata": {},
   "source": [
    "#### 2.5.14 Bagaimana karakteristik distribusi pelanggan berdasarkan perlindungan perangkat?"
   ]
  },
  {
   "cell_type": "code",
   "execution_count": null,
   "id": "7fb02c70",
   "metadata": {},
   "outputs": [],
   "source": [
    "plot_countplot_with_hue(df, 'DeviceProtection')"
   ]
  },
  {
   "cell_type": "markdown",
   "id": "595be530",
   "metadata": {},
   "source": [
    "##### Business Insights\n",
    "\n",
    "- **Di antara pelanggan internet, jumlah yang tidak memiliki layanan *Device Protection* sedikit lebih banyak daripada yang memilikinya.** Pola adopsi ini mirip dengan *Online Backup*, menunjukkan tingkat permintaan yang serupa untuk kedua layanan tambahan tersebut."
   ]
  },
  {
   "cell_type": "markdown",
   "id": "a0f8494f",
   "metadata": {},
   "source": [
    "#### 2.5.15 Bagaimana karakteristik distribusi pelanggan berdasarkan dukungan teknis?"
   ]
  },
  {
   "cell_type": "code",
   "execution_count": null,
   "id": "7a75cc6d",
   "metadata": {},
   "outputs": [],
   "source": [
    "plot_countplot_with_hue(df, 'TechSupport')"
   ]
  },
  {
   "cell_type": "markdown",
   "id": "f47ec4d0",
   "metadata": {},
   "source": [
    "##### Business Insights\n",
    "\n",
    "- **Di antara pelanggan internet, lebih banyak yang tidak memiliki layanan *Tech Support* dibandingkan yang memilikinya.** Pola adopsi ini mirip dengan *Online Security*, menunjukkan bahwa layanan tambahan ini juga bukan pilihan mayoritas pelanggan."
   ]
  },
  {
   "cell_type": "markdown",
   "id": "8894aeb1",
   "metadata": {},
   "source": [
    "#### 2.5.16 Bagaimana karakteristik distribusi pelanggan berdasarkan layanan streaming TV?"
   ]
  },
  {
   "cell_type": "code",
   "execution_count": null,
   "id": "55a740f0",
   "metadata": {},
   "outputs": [],
   "source": [
    "plot_countplot_with_hue(df, 'StreamingTV')"
   ]
  },
  {
   "cell_type": "markdown",
   "id": "c6bc90e2",
   "metadata": {},
   "source": [
    "##### Business Insights\n",
    "\n",
    "- **Di antara pelanggan internet, jumlah yang berlangganan *Streaming TV* hampir sama dengan yang tidak berlangganan.** Hal ini menunjukkan bahwa *Streaming TV* adalah layanan tambahan yang populer dan diminati oleh sekitar setengah dari basis pelanggan internet."
   ]
  },
  {
   "cell_type": "markdown",
   "id": "574573fa",
   "metadata": {},
   "source": [
    "#### 2.5.17 Bagaimana karakteristik distribusi pelanggan berdasarkan layanan streaming film?\n"
   ]
  },
  {
   "cell_type": "code",
   "execution_count": null,
   "id": "fe89b623",
   "metadata": {},
   "outputs": [],
   "source": [
    "plot_countplot_with_hue(df, 'StreamingMovies')"
   ]
  },
  {
   "cell_type": "markdown",
   "id": "aa9aec40",
   "metadata": {},
   "source": [
    "##### Business Insights\n",
    "\n",
    "- **Di antara pelanggan internet, jumlah yang berlangganan *Streaming Movies* juga hampir sama dengan yang tidak berlangganan.** Pola adopsi ini sangat mirip dengan layanan *Streaming TV*, menunjukkan bahwa kedua layanan hiburan ini memiliki tingkat permintaan yang serupa."
   ]
  },
  {
   "cell_type": "markdown",
   "id": "c61dff19",
   "metadata": {},
   "source": [
    "#### 2.5.18 Bagaimana karakteristik distribusi pelanggan berdasarkan jenis kontrak langganan?\n"
   ]
  },
  {
   "cell_type": "code",
   "execution_count": null,
   "id": "7c20e824",
   "metadata": {},
   "outputs": [],
   "source": [
    "plot_countplot_with_hue(df, 'Contract')"
   ]
  },
  {
   "cell_type": "markdown",
   "id": "61e5479e",
   "metadata": {},
   "source": [
    "##### Business Insights\n",
    "\n",
    "- **Kontrak `Month-to-month` (bulanan) adalah jenis kontrak yang paling umum di antara pelanggan.** Hal ini menunjukkan mayoritas pelanggan lebih memilih fleksibilitas kontrak jangka pendek daripada terikat dengan komitmen jangka panjang."
   ]
  },
  {
   "cell_type": "markdown",
   "id": "c2508ffb",
   "metadata": {},
   "source": [
    "#### 2.5.19 Bagaimana karakteristik distribusi pelanggan berdasarkan metode paperless?"
   ]
  },
  {
   "cell_type": "code",
   "execution_count": null,
   "id": "e6d439ba",
   "metadata": {},
   "outputs": [],
   "source": [
    "plot_countplot_with_hue(df, 'PaperlessBilling')"
   ]
  },
  {
   "cell_type": "markdown",
   "id": "95eebf0f",
   "metadata": {},
   "source": [
    "##### Business Insights\n",
    "\n",
    "- **Jumlah pelanggan yang menggunakan *Paperless Billing* lebih banyak daripada yang tidak.** Hal ini menunjukkan bahwa mayoritas pelanggan lebih memilih untuk menerima tagihan secara digital daripada melalui surat fisik."
   ]
  },
  {
   "cell_type": "markdown",
   "id": "448f1d3d",
   "metadata": {},
   "source": [
    "#### 2.5.20 Bagaimana karakteristik distribusi pelanggan berdasarkan metode pembayaran?\n"
   ]
  },
  {
   "cell_type": "code",
   "execution_count": null,
   "id": "a9ae754c",
   "metadata": {},
   "outputs": [],
   "source": [
    "plot_countplot_with_hue(df, 'PaymentMethod')"
   ]
  },
  {
   "cell_type": "markdown",
   "id": "0c5c7c85",
   "metadata": {},
   "source": [
    "##### Business Insights\n",
    "\n",
    "- ***Electronic check* adalah metode pembayaran yang paling banyak digunakan oleh pelanggan.** Hal ini menunjukkan bahwa pembayaran manual non-otomatis masih menjadi pilihan utama, mengalahkan metode pembayaran otomatis seperti transfer bank atau kartu kredit."
   ]
  },
  {
   "cell_type": "markdown",
   "id": "c072d3b1",
   "metadata": {},
   "source": [
    "### 2.6 Exploratory Data Analysis (EDA) - Bivariat"
   ]
  },
  {
   "cell_type": "code",
   "execution_count": null,
   "id": "5a187cd7",
   "metadata": {},
   "outputs": [],
   "source": [
    "def plot_box_and_kde_churn(df, col, target='Churn', figsize=(15, 6)):\n",
    "    # Visualisasi\n",
    "    fig, axes = plt.subplots(nrows=1, ncols=2, figsize=figsize)\n",
    "    plt.suptitle(f'Distribution of {col} Based on {target}', fontsize=16, y=1.02)\n",
    "\n",
    "    # Boxplot berdasarkan Churn\n",
    "    # Menggunakan y=target untuk membuat boxplot terpisah untuk setiap kategori Churn\n",
    "    sns.boxplot(data=df, x=col, y=target, orient='h', ax=axes[0], hue=target)\n",
    "    axes[0].set_title(f'Boxplot of {col}')\n",
    "\n",
    "    # KDE plot berdasarkan Churn\n",
    "    # Menggunakan hue=target untuk membuat kurva distribusi terpisah\n",
    "    sns.kdeplot(data=df, x=col, hue=target, fill=True, common_norm=False, alpha=0.5, ax=axes[1])\n",
    "    axes[1].set_title(f'Distribution of {col}')\n",
    "\n",
    "    plt.tight_layout(rect=[0, 0, 1, 0.95])\n",
    "    plt.show()\n",
    "\n",
    "    # Statistik deskriptif yang dikelompokkan berdasarkan Churn\n",
    "    stats = df.groupby(target)[col].describe()\n",
    "    q1 = stats['25%']\n",
    "    q3 = stats['75%']\n",
    "    iqr = q3 - q1\n",
    "    stats['IQR'] = iqr\n",
    "\n",
    "    # Tampilkan tabel statistik\n",
    "    display(stats)"
   ]
  },
  {
   "cell_type": "markdown",
   "id": "588a6c6d",
   "metadata": {},
   "source": [
    "Fungsi `plot_box_and_kde_churn` digunakan untuk menganalisis distribusi variabel numerik berdasarkan kategori target seperti 'Churn'. Fungsi ini menghasilkan dua visualisasi berdampingan: boxplot horizontal yang memisahkan data berdasarkan nilai target untuk mengamati sebaran dan potensi outlier, serta KDE plot (Kernel Density Estimate) untuk melihat pola distribusi tiap kategori secara halus. Selain visualisasi, fungsi ini menghitung dan menampilkan tabel statistik deskriptif (count, mean, std, min, kuartil, dan IQR) yang dikelompokkan berdasarkan nilai target, sehingga mempermudah perbandingan karakteristik numerik antar kategori.\n"
   ]
  },
  {
   "cell_type": "code",
   "execution_count": null,
   "id": "19c3fb5f",
   "metadata": {},
   "outputs": [],
   "source": [
    "def plot_stacked_barh_churn(df, col, target='Churn', figsize=(15, 5)):\n",
    "    # Hitung count & percentage\n",
    "    counts = df.groupby([col, target], observed=True).size().unstack(fill_value=0)\n",
    "    percentages = counts.div(counts.sum(axis=1), axis=0) * 100\n",
    "\n",
    "    # Pastikan kolom urut: No, Yes\n",
    "    desired_order = ['No', 'Yes']\n",
    "    actual_order = [c for c in desired_order if c in percentages.columns]\n",
    "    counts = counts[actual_order]\n",
    "    percentages = percentages[actual_order]\n",
    "\n",
    "    # Ascending True\n",
    "    sort_order = percentages['No'].sort_values(ascending=True).index\n",
    "    counts = counts.loc[sort_order]\n",
    "    percentages = percentages.loc[sort_order]\n",
    "\n",
    "    # Visualisasi manual\n",
    "    fig, ax = plt.subplots(figsize=figsize)\n",
    "    left = [0] * len(percentages)\n",
    "\n",
    "    for status in actual_order:\n",
    "        values = percentages[status]\n",
    "        bar = ax.barh(percentages.index, values, left=left, label=status)\n",
    "\n",
    "        for i, (pct, cnt) in enumerate(zip(values, counts[status])):\n",
    "            if pct > 0:\n",
    "                ax.text(left[i] + pct / 2, i, f'{pct:.1f}%\\n({cnt})',\n",
    "                        ha='center', va='center', fontsize=8,\n",
    "                        color='white' if pct > 15 else 'black')\n",
    "        left = [l + v for l, v in zip(left, values)]\n",
    "\n",
    "    plt.suptitle(f'Distribution of {col} Based on {target}', fontsize=16, y=1.02)\n",
    "    ax.set_xlabel('Percentage')\n",
    "    ax.set_ylabel('')\n",
    "    ax.legend(title=target, loc='center left', bbox_to_anchor=(1.0, 0.5))\n",
    "    plt.tight_layout()\n",
    "    plt.show()"
   ]
  },
  {
   "cell_type": "markdown",
   "id": "a9200885",
   "metadata": {},
   "source": [
    "Fungsi `plot_stacked_barh_churn` digunakan untuk memvisualisasikan distribusi variabel kategorikal berdasarkan target seperti 'Churn' dalam bentuk stacked bar chart horizontal. Fungsi ini menghitung jumlah dan persentase tiap kategori target dalam setiap kelas variabel, lalu mengurutkan data berdasarkan persentase kategori 'No' secara menaik. Visualisasi menampilkan batang tersegmentasi untuk masing-masing kategori target, disertai anotasi berupa persentase dan jumlah absolut untuk mempermudah interpretasi. Fungsi ini sangat berguna untuk membandingkan proporsi churn antar kategori dan mengidentifikasi kelompok dengan tingkat churn tinggi.\n"
   ]
  },
  {
   "cell_type": "code",
   "execution_count": null,
   "id": "d5fa74bd",
   "metadata": {},
   "outputs": [],
   "source": [
    "def plot_scatter_with_reg(df, x, y, hue='Churn', figsize=(10, 8)):\n",
    "    plt.figure(figsize=figsize)\n",
    "    sns.scatterplot(data=df, x=x, y=y, hue=hue, alpha=0.6)\n",
    "    sns.regplot(data=df, x=x, y=y, scatter=False, color='red')\n",
    "    plt.title(f'Relationship of {x} and {y}', fontsize=14)\n",
    "    plt.tight_layout()\n",
    "    plt.show()"
   ]
  },
  {
   "cell_type": "markdown",
   "id": "3faa4570",
   "metadata": {},
   "source": [
    "Fungsi `plot_scatter_with_reg` digunakan untuk memvisualisasikan hubungan antara dua variabel numerik dengan tambahan segmentasi berdasarkan kategori target seperti 'Churn'. Fungsi ini menampilkan scatter plot berwarna berdasarkan kategori target untuk mengamati pola penyebaran data, serta menambahkan garis regresi berwarna merah sebagai representasi tren umum hubungan antara kedua variabel. Visualisasi ini bermanfaat untuk mengevaluasi korelasi dan mengidentifikasi potensi perbedaan pola antar segmen churn.\n"
   ]
  },
  {
   "cell_type": "code",
   "execution_count": null,
   "id": "2f24809d",
   "metadata": {},
   "outputs": [],
   "source": [
    "def mannwhitney_test(df, col, target='Churn'):\n",
    "    # Pastikan hanya ada dua kategori pada target\n",
    "    categories = df[target].dropna().unique()\n",
    "    if len(categories) != 2:\n",
    "        raise ValueError(f\"Kolom target '{target}' harus memiliki tepat 2 kategori (misal: 'Yes' dan 'No').\")\n",
    "\n",
    "    # Ambil data dari masing-masing grup\n",
    "    group1 = df[df[target] == categories[0]][col].dropna()\n",
    "    group2 = df[df[target] == categories[1]][col].dropna()\n",
    "\n",
    "    # Uji Mann-Whitney U dua arah\n",
    "    stat, p_value = mannwhitneyu(group1, group2, alternative='two-sided')\n",
    "\n",
    "    # Tampilkan hasil\n",
    "    print(f\"P-value untuk uji Mann-Whitney U antara '{categories[0]}' dan '{categories[1]}' pada kolom '{col}': {p_value:.4f}\")\n",
    "    if p_value < 0.05:\n",
    "        print(f\"Tolak Ho, terima Ha. Terdapat perbedaan signifikan antara grup '{categories[0]}' dan '{categories[1]}' untuk '{col}'.\")\n",
    "    else:\n",
    "        print(f\"Gagal tolak Ho. Tidak terdapat perbedaan signifikan antara grup '{categories[0]}' dan '{categories[1]}' untuk '{col}'.\")\n"
   ]
  },
  {
   "cell_type": "markdown",
   "id": "e93ab98c",
   "metadata": {},
   "source": [
    "Fungsi ini bertujuan untuk menguji Bagaimanakah terdapat perbedaan yang signifikan secara statistik antara dua kelompok pada kolom numerik tertentu berdasarkan kategori target seperti 'Churn'. Ia menggunakan uji non-parametrik Mann-Whitney U, yang cocok digunakan saat data tidak diasumsikan berdistribusi normal. Fungsi ini membandingkan distribusi nilai antara dua grup (misalnya 'Yes' dan 'No'), menghasilkan nilai p-value, dan memberikan interpretasi Bagaimanakah hipotesis nol dapat ditolak atau tidak.\n",
    "- Ho: Tidak ada perbedaan signifikan antara kedua grup.\n",
    "- Ha: Terdapat perbedaan signifikan antara kedua grup.\n"
   ]
  },
  {
   "cell_type": "code",
   "execution_count": null,
   "id": "e7a7df7b",
   "metadata": {},
   "outputs": [],
   "source": [
    "def spearman_test(df, col1, col2='Churn'):\n",
    "    # Ambil data dan hapus missing values di kedua kolom\n",
    "    data = df[[col1, col2]].dropna()\n",
    "\n",
    "    # Encode kolom target jika bertipe kategorik (misal: 'Yes'/'No' -> 1/0)\n",
    "    if data[col2].dtype.name == 'category' or data[col2].dtype == object:\n",
    "        data[col2] = data[col2].astype('category').cat.codes\n",
    "\n",
    "    # Hitung korelasi Spearman\n",
    "    stat, p_value = spearmanr(data[col1], data[col2])\n",
    "\n",
    "    # Tampilkan hasil\n",
    "    print(f\"Hasil uji Spearman antara '{col1}' dan '{col2}':\")\n",
    "    print(f\"  Statistik korelasi (Spearman's rho): {stat:.4f}\")\n",
    "    print(f\"  P-value: {p_value:.4f}\")\n",
    "    \n",
    "    if p_value < 0.05:\n",
    "        print(f\"  Tolak Ho, terima Ha. Terdapat korelasi signifikan antara '{col1}' dan '{col2}'.\")\n",
    "    else:\n",
    "        print(f\"  Gagal tolak Ho. Tidak terdapat korelasi signifikan antara '{col1}' dan '{col2}'.\")\n"
   ]
  },
  {
   "cell_type": "markdown",
   "id": "9acc7f81",
   "metadata": {},
   "source": [
    "Fungsi ini digunakan untuk menguji Bagaimanakah terdapat hubungan monotonic yang signifikan antara dua variabel menggunakan uji korelasi Spearman. Fungsi ini secara otomatis menangani variabel kategorik dengan mengubahnya menjadi nilai numerik sebelum perhitungan. Ia menghitung koefisien korelasi Spearman (rho) dan p-value untuk menentukan Bagaimanakah hubungan antara dua kolom (misalnya antara fitur numerik dan 'Churn') signifikan secara statistik atau tidak.\n",
    "\n",
    "- Ho: Tidak terdapat korelasi signifikan antara kedua variabel.\n",
    "- Ha: Terdapat korelasi signifikan antara kedua variabel.\n"
   ]
  },
  {
   "cell_type": "markdown",
   "id": "c8616c0c",
   "metadata": {},
   "source": [
    "#### 2.6.1 Bagaimanakah terdapat perbedaan lama pelanggan berlangganan antara yang churn dan tidak churn?"
   ]
  },
  {
   "cell_type": "code",
   "execution_count": null,
   "id": "23052541",
   "metadata": {},
   "outputs": [],
   "source": [
    "plot_box_and_kde_churn(df, 'tenure')\n",
    "mannwhitney_test(df, 'tenure')"
   ]
  },
  {
   "cell_type": "markdown",
   "id": "0d9f5747",
   "metadata": {},
   "source": [
    "##### Business Insights\n",
    "\n",
    "- **Setengah dari pelanggan yang *churn* berhenti sebelum bulan ke-10, sementara setengah dari pelanggan setia bertahan melewati tahun ketiga (38 bulan).** Hal ini menunjukkan adanya \"zona bahaya\" di 10 bulan pertama di mana pelanggan sangat rentan untuk pergi, sementara pelanggan yang loyal adalah aset jangka panjang yang sangat berharga."
   ]
  },
  {
   "cell_type": "markdown",
   "id": "6370602b",
   "metadata": {},
   "source": [
    "#### 2.6.2 Bagaimanakah terdapat perbedaan total pengeluaran pelanggan antara yang churn dan tidak churn?\n"
   ]
  },
  {
   "cell_type": "code",
   "execution_count": null,
   "id": "396927e1",
   "metadata": {},
   "outputs": [],
   "source": [
    "plot_box_and_kde_churn(df, 'TotalCharges')\n",
    "mannwhitney_test(df, 'TotalCharges')"
   ]
  },
  {
   "cell_type": "markdown",
   "id": "9caa8c5a",
   "metadata": {},
   "source": [
    "##### Business Insights\n",
    "\n",
    "- **Secara total, pelanggan setia telah membayar hampir 2.4 kali lebih banyak ($1684) dibanding pelanggan yang berhenti ($704).** Ini membuktikan bahwa semakin lama pelanggan bertahan, semakin besar keuntungan yang mereka bawa untuk perusahaan."
   ]
  },
  {
   "cell_type": "markdown",
   "id": "546320fa",
   "metadata": {},
   "source": [
    "#### 2.6.3 Bagaimanakah terdapat perbedaan biaya bulanan pelanggan antara yang churn dan tidak churn?\n"
   ]
  },
  {
   "cell_type": "code",
   "execution_count": null,
   "id": "d5fd3d12",
   "metadata": {},
   "outputs": [],
   "source": [
    "plot_box_and_kde_churn(df, 'MonthlyCharges')\n",
    "mannwhitney_test(df, 'MonthlyCharges')"
   ]
  },
  {
   "cell_type": "markdown",
   "id": "87f618c1",
   "metadata": {},
   "source": [
    "##### Business Insights\n",
    "\n",
    "- **Pelanggan yang berhenti biasanya memiliki tagihan bulanan lebih mahal ($80) daripada pelanggan yang setia ($64).** Ini berarti, tagihan yang tinggi, meskipun baik untuk pendapatan, bisa menjadi pemicu bagi pelanggan untuk berhenti berlangganan."
   ]
  },
  {
   "cell_type": "markdown",
   "id": "050b0b6d",
   "metadata": {},
   "source": [
    "#### 2.6.4 Bagaimanakah terdapat perbedaan tingkat churn antara pelanggan laki-laki dan perempuan?\n"
   ]
  },
  {
   "cell_type": "code",
   "execution_count": null,
   "id": "2a0722fa",
   "metadata": {},
   "outputs": [],
   "source": [
    "plot_stacked_barh_churn(df, 'gender')"
   ]
  },
  {
   "cell_type": "markdown",
   "id": "0a60c70a",
   "metadata": {},
   "source": [
    "##### Business Insights\n",
    "\n",
    "- **Jumlah pelanggan pria dan wanita dalam dataset ini hampir seimbang.** Hal ini menunjukkan bahwa tidak ada dominasi gender tertentu dalam basis pelanggan."
   ]
  },
  {
   "cell_type": "markdown",
   "id": "6681d2f8",
   "metadata": {},
   "source": [
    "#### 2.6.5 Bagaimanakah terdapat perbedaan tingkat churn antara pelanggan lansia dan non-lansia?\n"
   ]
  },
  {
   "cell_type": "code",
   "execution_count": null,
   "id": "5ba63027",
   "metadata": {},
   "outputs": [],
   "source": [
    "plot_stacked_barh_churn(df, 'SeniorCitizen')"
   ]
  },
  {
   "cell_type": "markdown",
   "id": "fb9381b0",
   "metadata": {},
   "source": [
    "##### Business Insights\n",
    "\n",
    "- **Tingkat *churn* pada pelanggan *Senior Citizen* secara signifikan lebih tinggi (sekitar 42%) dibandingkan pelanggan non-senior (sekitar 24%).** Hal ini menyoroti bahwa segmen senior merupakan kelompok berisiko tinggi yang memerlukan perhatian khusus dalam strategi retensi."
   ]
  },
  {
   "cell_type": "markdown",
   "id": "5a8b3c16",
   "metadata": {},
   "source": [
    "#### 2.6.6 Bagaimanakah terdapat perbedaan tingkat churn antara pelanggan yang memiliki pasangan dan yang tidak?\n"
   ]
  },
  {
   "cell_type": "code",
   "execution_count": null,
   "id": "173906b0",
   "metadata": {},
   "outputs": [],
   "source": [
    "plot_stacked_barh_churn(df, 'Partner')"
   ]
  },
  {
   "cell_type": "markdown",
   "id": "e5cc1482",
   "metadata": {},
   "source": [
    "##### Business Insights\n",
    "\n",
    "- **Tingkat *churn* lebih tinggi pada pelanggan yang tidak memiliki partner (sekitar 33%) dibandingkan dengan yang memiliki partner (sekitar 20%).** Hal ini menunjukkan bahwa pelanggan yang memiliki partner cenderung lebih setia dan tidak mudah berhenti berlangganan."
   ]
  },
  {
   "cell_type": "markdown",
   "id": "27977d67",
   "metadata": {},
   "source": [
    "#### 2.6.7 Bagaimanakah terdapat perbedaan tingkat churn antara pelanggan yang memiliki tanggungan dan yang tidak?\n"
   ]
  },
  {
   "cell_type": "code",
   "execution_count": null,
   "id": "0fa59f62",
   "metadata": {},
   "outputs": [],
   "source": [
    "plot_stacked_barh_churn(df, 'Dependents')"
   ]
  },
  {
   "cell_type": "markdown",
   "id": "f26540ed",
   "metadata": {},
   "source": [
    "##### Business Insights\n",
    "\n",
    "- **Tingkat *churn* lebih tinggi pada pelanggan yang tidak memiliki tanggungan (sekitar 31%) dibandingkan dengan yang memiliki tanggungan (sekitar 16%).** Hal ini menunjukkan bahwa pelanggan yang memiliki tanggungan, seperti anak, cenderung lebih setia dan tidak mudah berhenti berlangganan."
   ]
  },
  {
   "cell_type": "markdown",
   "id": "3d47a02e",
   "metadata": {},
   "source": [
    "#### 2.6.8 Bagaimanakah tingkat churn berbeda antara pelanggan yang menggunakan layanan telepon dan yang tidak?\n"
   ]
  },
  {
   "cell_type": "code",
   "execution_count": null,
   "id": "82caa009",
   "metadata": {},
   "outputs": [],
   "source": [
    "plot_stacked_barh_churn(df, 'PhoneService')"
   ]
  },
  {
   "cell_type": "markdown",
   "id": "ed710d22",
   "metadata": {},
   "source": [
    "##### Business Insights\n",
    "\n",
    "- **Tingkat *churn* pada pelanggan yang memiliki layanan telepon (sekitar 27%) hampir sama dengan yang tidak memiliki (sekitar 25%).** Hal ini menunjukkan bahwa kepemilikan layanan telepon dasar bukanlah faktor pembeda yang signifikan dalam keputusan pelanggan untuk berhenti berlangganan."
   ]
  },
  {
   "cell_type": "markdown",
   "id": "b90b92ed",
   "metadata": {},
   "source": [
    "#### 2.6.9 Bagaimanakah tingkat churn berbeda antara pelanggan yang memiliki beberapa saluran telepon, satu saluran, atau tidak menggunakan layanan telepon?\n"
   ]
  },
  {
   "cell_type": "code",
   "execution_count": null,
   "id": "6a525b6e",
   "metadata": {},
   "outputs": [],
   "source": [
    "plot_stacked_barh_churn(df, 'MultipleLines')"
   ]
  },
  {
   "cell_type": "markdown",
   "id": "efc660b3",
   "metadata": {},
   "source": [
    "##### Business Insights\n",
    "\n",
    "- **Pelanggan dengan layanan *Multiple Lines* memiliki tingkat *churn* yang sedikit lebih tinggi (sekitar 29%) dibandingkan pelanggan dengan satu jalur telepon (sekitar 25%).** Hal ini menunjukkan bahwa layanan tambahan ini, meskipun meningkatkan pendapatan, juga berkorelasi dengan risiko *churn* yang sedikit lebih besar."
   ]
  },
  {
   "cell_type": "markdown",
   "id": "bf3d3c65",
   "metadata": {},
   "source": [
    "#### 2.6.10 Bagaimanakah tingkat churn berbeda antara pelanggan yang menggunakan DSL, fiber optic, atau tidak menggunakan layanan internet?\n"
   ]
  },
  {
   "cell_type": "code",
   "execution_count": null,
   "id": "57007317",
   "metadata": {},
   "outputs": [],
   "source": [
    "plot_stacked_barh_churn(df, 'InternetService')"
   ]
  },
  {
   "cell_type": "markdown",
   "id": "e51d29cb",
   "metadata": {},
   "source": [
    "##### Business Insights\n",
    "\n",
    "- **Pelanggan dengan layanan *Fiber optic* memiliki tingkat *churn* yang sangat tinggi, yaitu sekitar 42%.** Ini berarti hampir separuh dari pelanggan layanan internet premium ini berhenti berlangganan.\n",
    "\n",
    "- **Sebaliknya, pelanggan *DSL* memiliki tingkat *churn* yang jauh lebih rendah, yaitu sekitar 19%.** Angka ini menunjukkan bahwa pelanggan DSL lebih dari dua kali lebih setia dibandingkan pelanggan Fiber optic.\n",
    "\n",
    "- **Secara keseluruhan, terdapat paradoks di mana produk internet paling premium (*Fiber optic*) justru menjadi sumber *churn* terbesar.** Hal ini menandakan adanya masalah fundamental yang mungkin terkait dengan harga, kualitas layanan, atau ekspektasi pelanggan pada layanan Fiber optic."
   ]
  },
  {
   "cell_type": "markdown",
   "id": "442b9af2",
   "metadata": {},
   "source": [
    "#### 2.6.11 Bagaimanakah tingkat churn berbeda antara pelanggan yang menggunakan perlindungan keamanan online, tidak menggunakan, atau tidak memiliki layanan internet?\n"
   ]
  },
  {
   "cell_type": "code",
   "execution_count": null,
   "id": "5d0bb46c",
   "metadata": {},
   "outputs": [],
   "source": [
    "plot_stacked_barh_churn(df, 'OnlineSecurity')"
   ]
  },
  {
   "cell_type": "markdown",
   "id": "b183ca85",
   "metadata": {},
   "source": [
    "##### Business Insights\n",
    "\n",
    "- **Pelanggan internet yang tidak memiliki *Online Security* memiliki tingkat *churn* yang sangat tinggi, yaitu sekitar 42%.** Angka ini menunjukkan bahwa kelompok pelanggan ini adalah salah satu segmen yang paling berisiko.\n",
    "\n",
    "- **Sebaliknya, pelanggan yang memiliki *Online Security* tingkat *churn*-nya sangat rendah, yaitu sekitar 15%.** Hal ini menjadikan *Online Security* sebagai salah satu layanan tambahan yang paling efektif dalam mempertahankan pelanggan.\n",
    "\n",
    "- **Secara keseluruhan, tidak memiliki *Online Security* adalah indikator risiko *churn* yang sangat kuat.** Pelanggan internet tanpa layanan ini hampir tiga kali lebih mungkin untuk berhenti berlangganan dibandingkan yang memilikinya."
   ]
  },
  {
   "cell_type": "markdown",
   "id": "6174897d",
   "metadata": {},
   "source": [
    "#### 2.6.12 Bagaimanakah tingkat churn berbeda antara pelanggan yang menggunakan cadangan data online, tidak menggunakan, atau tidak memiliki layanan internet?\n"
   ]
  },
  {
   "cell_type": "code",
   "execution_count": null,
   "id": "4b8b166a",
   "metadata": {},
   "outputs": [],
   "source": [
    "plot_stacked_barh_churn(df, 'OnlineBackup')"
   ]
  },
  {
   "cell_type": "markdown",
   "id": "ff9f65ae",
   "metadata": {},
   "source": [
    "##### Business Insights\n",
    "\n",
    "- **Pelanggan internet yang tidak memiliki *Online Backup* memiliki tingkat *churn* yang tinggi, yaitu sekitar 40%.** Ini menempatkan mereka dalam kelompok berisiko tinggi, mirip dengan pelanggan tanpa *Online Security*.\n",
    "\n",
    "- **Sebaliknya, pelanggan yang memiliki *Online Backup* tingkat *churn*-nya jauh lebih rendah, yaitu sekitar 22%.** Hal ini menunjukkan bahwa layanan *Online Backup* juga merupakan fitur yang efektif untuk mempertahankan pelanggan.\n",
    "\n",
    "- **Secara keseluruhan, tidak memiliki *Online Backup* adalah indikator risiko *churn* yang kuat.** Pelanggan internet tanpa layanan ini hampir dua kali lebih mungkin untuk berhenti berlangganan dibandingkan yang memilikinya."
   ]
  },
  {
   "cell_type": "markdown",
   "id": "836694f7",
   "metadata": {},
   "source": [
    "#### 2.6.13 Bagaimanakah tingkat churn berbeda antara pelanggan yang menggunakan perlindungan perangkat, tidak menggunakan, atau tidak memiliki layanan internet?\n"
   ]
  },
  {
   "cell_type": "code",
   "execution_count": null,
   "id": "b74b8067",
   "metadata": {},
   "outputs": [],
   "source": [
    "plot_stacked_barh_churn(df, 'DeviceProtection')"
   ]
  },
  {
   "cell_type": "markdown",
   "id": "d749d730",
   "metadata": {},
   "source": [
    "##### Business Insights\n",
    "\n",
    "- **Pelanggan internet yang tidak memiliki *Device Protection* memiliki tingkat *churn* yang tinggi, yaitu sekitar 39%.** Ini kembali menempatkan pelanggan tanpa layanan tambahan proteksi dalam kelompok berisiko tinggi.\n",
    "\n",
    "- **Sebaliknya, pelanggan yang memiliki *Device Protection* tingkat *churn*-nya jauh lebih rendah, yaitu sekitar 23%.** Ini menunjukkan bahwa layanan proteksi perangkat juga efektif dalam menjaga loyalitas pelanggan.\n",
    "\n",
    "- **Secara keseluruhan, tidak memiliki *Device Protection* adalah indikator risiko *churn* yang kuat.** Pola ini konsisten dengan layanan proteksi lainnya seperti *Online Security* dan *Online Backup*."
   ]
  },
  {
   "cell_type": "markdown",
   "id": "644aa058",
   "metadata": {},
   "source": [
    "#### 2.6.14 Bagaimanakah tingkat churn berbeda antara pelanggan yang menggunakan dukungan teknis, tidak menggunakan, atau tidak memiliki layanan internet?\n"
   ]
  },
  {
   "cell_type": "code",
   "execution_count": null,
   "id": "9ef94050",
   "metadata": {},
   "outputs": [],
   "source": [
    "plot_stacked_barh_churn(df, 'TechSupport')"
   ]
  },
  {
   "cell_type": "markdown",
   "id": "88f97129",
   "metadata": {},
   "source": [
    "##### Business Insights\n",
    "\n",
    "- **Pelanggan internet yang tidak memiliki *Tech Support* memiliki tingkat *churn* yang sangat tinggi, yaitu sekitar 42%.** Ini menjadikan mereka sebagai salah satu segmen pelanggan dengan risiko tertinggi untuk berhenti berlangganan.\n",
    "\n",
    "- **Sebaliknya, pelanggan yang memiliki *Tech Support* tingkat *churn*-nya sangat rendah, yaitu sekitar 15%.** Hal ini membuktikan bahwa layanan *Tech Support* adalah fitur yang sangat vital untuk mempertahankan pelanggan.\n",
    "\n",
    "- **Secara keseluruhan, ketiadaan layanan *Tech Support* adalah salah satu prediktor *churn* terkuat.** Pelanggan internet tanpa dukungan teknis ini hampir tiga kali lebih mungkin untuk berhenti berlangganan."
   ]
  },
  {
   "cell_type": "markdown",
   "id": "46016079",
   "metadata": {},
   "source": [
    "#### 2.6.15 Bagaimanakah tingkat churn berbeda antara pelanggan yang menggunakan layanan streaming TV, tidak menggunakan, atau tidak memiliki layanan internet?\n"
   ]
  },
  {
   "cell_type": "code",
   "execution_count": null,
   "id": "34db58b2",
   "metadata": {},
   "outputs": [],
   "source": [
    "plot_stacked_barh_churn(df, 'StreamingTV')"
   ]
  },
  {
   "cell_type": "markdown",
   "id": "6b596747",
   "metadata": {},
   "source": [
    "##### Business Insights\n",
    "\n",
    "- **Pelanggan internet yang memiliki layanan *Streaming TV* maupun yang tidak, sama-sama memiliki tingkat *churn* yang tinggi (masing-masing sekitar 30% dan 33%).** Hal ini menunjukkan bahwa layanan *Streaming TV* bukan merupakan faktor pembeda yang kuat untuk retensi; pelanggan tetap berhenti berlangganan pada tingkat yang tinggi terlepas dari ada atau tidaknya layanan ini."
   ]
  },
  {
   "cell_type": "markdown",
   "id": "e2d212c9",
   "metadata": {},
   "source": [
    "#### 2.6.16 Bagaimanakah tingkat churn berbeda antara pelanggan yang menggunakan layanan streaming film, tidak menggunakan, atau tidak memiliki layanan internet?\n"
   ]
  },
  {
   "cell_type": "code",
   "execution_count": null,
   "id": "95eccf97",
   "metadata": {},
   "outputs": [],
   "source": [
    "plot_stacked_barh_churn(df, 'StreamingMovies')"
   ]
  },
  {
   "cell_type": "markdown",
   "id": "21c27bf6",
   "metadata": {},
   "source": [
    "##### Business Insights\n",
    "\n",
    "- **Pola *churn* untuk *Streaming Movies* hampir identik dengan *Streaming TV*, di mana pelanggan dengan atau tanpa layanan ini sama-sama memiliki tingkat *churn* yang tinggi (masing-masing sekitar 30% dan 34%).** Hal ini semakin mengonfirmasi bahwa layanan hiburan tambahan, tidak seperti layanan proteksi, bukanlah faktor kunci yang membuat pelanggan bertahan."
   ]
  },
  {
   "cell_type": "markdown",
   "id": "dbd7aa29",
   "metadata": {},
   "source": [
    "#### 2.6.17 Bagaimanakah tingkat churn berbeda berdasarkan jenis kontrak langganan yang dipilih pelanggan?\n"
   ]
  },
  {
   "cell_type": "code",
   "execution_count": null,
   "id": "5b1cbdc5",
   "metadata": {},
   "outputs": [],
   "source": [
    "plot_stacked_barh_churn(df, 'Contract')"
   ]
  },
  {
   "cell_type": "markdown",
   "id": "a26a6d9e",
   "metadata": {},
   "source": [
    "##### Business Insights\n",
    "\n",
    "- **Pelanggan dengan kontrak bulanan (`Month-to-month`) memiliki tingkat *churn* yang sangat tinggi, yaitu sekitar 43%.** Ini menjadikan fleksibilitas kontrak sebagai pedang bermata dua: mudah menarik pelanggan, namun juga sangat mudah kehilangan mereka.\n",
    "\n",
    "- **Sebaliknya, pelanggan dengan kontrak `One year` (11%) dan `Two year` (3%) memiliki tingkat *churn* yang sangat rendah.** Hal ini membuktikan bahwa komitmen kontrak jangka panjang adalah alat retensi yang paling ampuh.\n",
    "\n",
    "- **Secara keseluruhan, durasi kontrak adalah salah satu prediktor *churn* yang paling kuat.** Semakin lama komitmen pelanggan, semakin kecil kemungkinan mereka untuk berhenti berlangganan."
   ]
  },
  {
   "cell_type": "markdown",
   "id": "c29fa52e",
   "metadata": {},
   "source": [
    "#### 2.6.18 Bagaimanakah tingkat churn berbeda antara pelanggan yang menggunakan tagihan tanpa kertas dan yang tidak?\n"
   ]
  },
  {
   "cell_type": "code",
   "execution_count": null,
   "id": "7df8dec9",
   "metadata": {},
   "outputs": [],
   "source": [
    "plot_stacked_barh_churn(df, 'PaperlessBilling')"
   ]
  },
  {
   "cell_type": "markdown",
   "id": "d2c24d04",
   "metadata": {},
   "source": [
    "##### Business Insights\n",
    "\n",
    "- **Pelanggan yang menggunakan *Paperless Billing* memiliki tingkat *churn* yang tinggi, yaitu sekitar 34%.** Ini berarti bahwa sekitar satu dari tiga pelanggan yang menggunakan penagihan digital berhenti berlangganan.\n",
    "\n",
    "- **Sebaliknya, pelanggan yang menerima tagihan kertas memiliki tingkat *churn* yang jauh lebih rendah, yaitu sekitar 16%.** Pelanggan dengan metode tagihan tradisional ini lebih dari dua kali lebih setia.\n",
    "\n",
    "- **Secara keseluruhan, penggunaan *Paperless Billing* secara tak terduga menjadi indikator kuat untuk risiko *churn*.** Hal ini mungkin menandakan bahwa pelanggan yang lebih akrab dengan teknologi juga lebih mudah untuk beralih ke layanan kompetitor."
   ]
  },
  {
   "cell_type": "markdown",
   "id": "c0796bb3",
   "metadata": {},
   "source": [
    "#### 2.6.19 Bagaimanakah tingkat churn berbeda berdasarkan metode pembayaran yang digunakan pelanggan?\n"
   ]
  },
  {
   "cell_type": "code",
   "execution_count": null,
   "id": "21e907a1",
   "metadata": {},
   "outputs": [],
   "source": [
    "plot_stacked_barh_churn(df, 'PaymentMethod')"
   ]
  },
  {
   "cell_type": "markdown",
   "id": "df205aee",
   "metadata": {},
   "source": [
    "##### Business Insights\n",
    "\n",
    "- **Pelanggan yang membayar dengan *Electronic check* memiliki tingkat *churn* yang sangat tinggi, yaitu sekitar 45%.** Ini menjadikan metode pembayaran ini sebagai \"lampu merah\" atau indikator risiko *churn* yang paling kuat di antara metode lainnya.\n",
    "\n",
    "- **Sebaliknya, pelanggan dengan metode pembayaran otomatis (*Bank transfer* dan *Credit card*) memiliki tingkat *churn* yang sangat rendah (sekitar 15-17%).** Ini menunjukkan bahwa metode pembayaran \"set-it-and-forget-it\" sangat efektif dalam mempertahankan pelanggan.\n",
    "\n",
    "- **Secara keseluruhan, metode pembayaran manual, khususnya *Electronic check*, menjadi sumber utama *churn*.** Pelanggan yang harus aktif melakukan pembayaran setiap bulan hampir tiga kali lebih mungkin untuk berhenti dibandingkan mereka yang menggunakan pembayaran otomatis."
   ]
  },
  {
   "cell_type": "markdown",
   "id": "d440b064",
   "metadata": {},
   "source": [
    "#### 2.6.20 Bagaimana hubungan antara lama berlangganan, biaya bulanan, total pengeluaran, dan status churn pelanggan?\n"
   ]
  },
  {
   "cell_type": "code",
   "execution_count": null,
   "id": "da447b99",
   "metadata": {},
   "outputs": [],
   "source": [
    "df['EncodedChurn'] = df['Churn'].map({'No': 0, 'Yes':1}).astype('int64')\n",
    "# Hitung korelasi Spearman\n",
    "corr = df.corr(method='spearman', numeric_only=True)\n",
    "\n",
    "# Rename kolom dan index untuk visualisasi saja\n",
    "corr = corr.rename(columns={'EncodedChurn': 'Churn'}, index={'EncodedChurn': 'Churn'})\n",
    "\n",
    "# Buat mask segitiga atas\n",
    "mask = np.triu(np.ones_like(corr, dtype=bool))\n",
    "\n",
    "# Plot heatmap\n",
    "plt.figure(figsize=(10, 8))\n",
    "sns.heatmap(corr, mask=mask, annot=True, cmap='YlGnBu', vmin=-1, vmax=1,\n",
    "            square=True, linewidths=0.5, fmt=\".2f\", annot_kws={\"size\": 10})\n",
    "\n",
    "plt.title(\"Spearman Correlation Heatmap\", fontsize=14)\n",
    "plt.tight_layout()\n",
    "plt.show()\n",
    "df = df.drop(columns=['EncodedChurn'])"
   ]
  },
  {
   "cell_type": "markdown",
   "id": "ae96a9d8",
   "metadata": {},
   "source": [
    "- `tenure` memiliki korelasi negatif terhadap `Churn` sebesar **-0.37** (**kekuatan sedang**), menunjukkan bahwa semakin lama pelanggan berlangganan, semakin kecil kemungkinan mereka untuk churn. Ini menggarisbawahi pentingnya mempertahankan pelanggan pada fase-fase awal untuk membangun loyalitas jangka panjang.\n",
    "\n",
    "- `MonthlyCharges` memiliki korelasi positif terhadap `Churn` sebesar **0.18** (**kekuatan lemah**), menandakan bahwa pelanggan dengan biaya bulanan tinggi sedikit lebih berisiko untuk churn. Hal ini bisa disebabkan oleh persepsi nilai yang rendah, di mana pelanggan merasa biaya yang dikeluarkan tidak sepadan dengan layanan yang diterima.\n",
    "\n",
    "- `TotalCharges` berkorelasi negatif terhadap `Churn` sebesar **-0.23** (**kekuatan lemah hingga sedang**), artinya pelanggan dengan total pengeluaran yang lebih besar cenderung tidak churn. Total pengeluaran yang besar ini merupakan cerminan dari `tenure` yang panjang, sehingga secara tidak langsung menunjukkan pelanggan yang sudah berkomitmen.\n",
    "\n",
    "- Korelasi antara `TotalCharges` dan `tenure` sebesar **0.89** (**sangat kuat**), mencerminkan bahwa semakin lama pelanggan berlangganan, maka total pengeluaran mereka pun semakin besar. Ini adalah hubungan yang wajar dan terprediksi, karena total tagihan secara alami terakumulasi seiring berjalannya waktu.\n",
    "\n",
    "- Korelasi `TotalCharges` dengan `MonthlyCharges` sebesar **0.64** (**kuat**), menunjukkan bahwa biaya bulanan turut berkontribusi besar terhadap total pengeluaran pelanggan. Artinya, pelanggan dengan paket premium tidak hanya menyumbang pendapatan bulanan yang tinggi, tetapi juga secara cepat meningkatkan nilai total mereka bagi perusahaan."
   ]
  },
  {
   "cell_type": "markdown",
   "id": "564aab3d",
   "metadata": {},
   "source": [
    "#### 2.6.21 Bagaimana hubungan antara lama berlangganan dan biaya bulanan pelanggan?\n"
   ]
  },
  {
   "cell_type": "code",
   "execution_count": null,
   "id": "83d41345",
   "metadata": {},
   "outputs": [],
   "source": [
    "plot_scatter_with_reg(df, 'tenure', 'MonthlyCharges')\n",
    "spearman_test(df, 'tenure', 'MonthlyCharges')"
   ]
  },
  {
   "cell_type": "markdown",
   "id": "f2b39892",
   "metadata": {},
   "source": [
    "##### Business Insights\n",
    "\n",
    "- **Terdapat korelasi positif yang lemah antara `tenure` dan `MonthlyCharges` (rho = 0.28).** Ini menandakan bahwa semakin lama pelanggan berlangganan, ada sedikit kecenderungan tagihan bulanan mereka menjadi lebih tinggi.\n",
    "\n",
    "- **Korelasi yang lemah ini menunjukkan bahwa banyak pelanggan lama yang tetap mempertahankan paket dengan harga rendah.** Meskipun ada tren kenaikan, tagihan bulanan tidak secara otomatis meningkat drastis seiring berjalannya waktu untuk semua pelanggan."
   ]
  },
  {
   "cell_type": "markdown",
   "id": "005e3a80",
   "metadata": {},
   "source": [
    "#### 2.6.22 Bagaimana hubungan antara lama berlangganan dan total pengeluaran pelanggan?\n"
   ]
  },
  {
   "cell_type": "code",
   "execution_count": null,
   "id": "fbd86bcc",
   "metadata": {},
   "outputs": [],
   "source": [
    "plot_scatter_with_reg(df, 'tenure', 'TotalCharges')\n",
    "spearman_test(df, 'tenure', 'TotalCharges')"
   ]
  },
  {
   "cell_type": "markdown",
   "id": "301d553d",
   "metadata": {},
   "source": [
    "##### Business Insights\n",
    "\n",
    "- **Terdapat korelasi positif yang sangat kuat antara `tenure` dan `TotalCharges` (rho = 0.89).** Ini adalah hubungan yang wajar, yang menunjukkan bahwa semakin lama seorang pelanggan berlangganan, semakin besar total pendapatan yang mereka hasilkan untuk perusahaan.\n",
    "\n",
    "- **Kekuatan korelasi ini menegaskan bahwa `tenure` adalah pendorong utama dari `TotalCharges`.** Artinya, untuk meningkatkan nilai seumur hidup pelanggan (*Customer Lifetime Value*), fokus utama harus pada upaya memperpanjang masa berlangganan mereka."
   ]
  },
  {
   "cell_type": "markdown",
   "id": "a046ebf9",
   "metadata": {},
   "source": [
    "#### 2.6.23 Bagaimana hubungan antara biaya bulanan dan total pengeluaran pelanggan?\n"
   ]
  },
  {
   "cell_type": "code",
   "execution_count": null,
   "id": "c3471c89",
   "metadata": {},
   "outputs": [],
   "source": [
    "plot_scatter_with_reg(df, 'MonthlyCharges', 'TotalCharges')\n",
    "spearman_test(df, 'MonthlyCharges', 'TotalCharges')"
   ]
  },
  {
   "cell_type": "markdown",
   "id": "d971dd32",
   "metadata": {},
   "source": [
    "##### Business Insights\n",
    "\n",
    "- **Terdapat korelasi positif yang kuat antara `MonthlyCharges` dan `TotalCharges` (rho = 0.64).** Ini menunjukkan bahwa pelanggan dengan tagihan bulanan yang tinggi secara langsung berkontribusi pada total pendapatan yang lebih besar seiring waktu.\n",
    "\n",
    "- **Korelasi ini tidak sekuat hubungan `tenure` dengan `TotalCharges`.** Hal ini menyiratkan bahwa meskipun tagihan bulanan tinggi itu penting, lamanya pelanggan berlangganan (`tenure`) tetap menjadi faktor yang paling dominan dalam menentukan nilai total seorang pelanggan."
   ]
  },
  {
   "cell_type": "markdown",
   "id": "4de23326",
   "metadata": {},
   "source": [
    "#### 2.6.24 Bagaimana perbedaan distribusi lama berlangganan (tenure) antara pelanggan churn dan non-churn untuk setiap jenis kontrak?"
   ]
  },
  {
   "cell_type": "code",
   "execution_count": null,
   "id": "64e45746",
   "metadata": {},
   "outputs": [],
   "source": [
    "# Visualisasi boxplot horizontal\n",
    "plt.figure(figsize=(10, 6))\n",
    "sns.boxplot(data=df, y='Contract', x='tenure', hue='Churn', orient='h')\n",
    "plt.title('Boxplot of Tenure by Contract Type and Churn')\n",
    "plt.xlabel('Tenure')\n",
    "plt.ylabel('Contract Type')\n",
    "plt.legend(title='Churn', loc='lower right')\n",
    "plt.tight_layout()\n",
    "plt.show()\n",
    "\n",
    "# Statistik deskriptif tenure per Contract dan Churn\n",
    "desc_stats = df.groupby(['Contract', 'Churn'])['tenure'].describe().round(2)\n",
    "display(desc_stats)\n",
    "\n",
    "# Buat grup berdasarkan kombinasi Contract dan Churn\n",
    "groups = df.groupby(['Contract', 'Churn'])['tenure'].apply(list)\n",
    "\n",
    "# Jalankan uji Kruskal-Wallis\n",
    "stat, p_value = kruskal(*groups)\n",
    "\n",
    "print(\"Hasil Uji Kruskal-Wallis:\")\n",
    "print(f\"  Statistik uji: {stat:.4f}\")\n",
    "print(f\"  P-value: {p_value:.4f}\")\n",
    "\n",
    "if p_value < 0.05:\n",
    "    print(\"  → Tolak Ho: Terdapat perbedaan signifikan pada distribusi tenure di antara grup.\")\n",
    "else:\n",
    "    print(\"  → Gagal tolak Ho: Tidak terdapat perbedaan signifikan.\")"
   ]
  },
  {
   "cell_type": "markdown",
   "id": "8129f5fd",
   "metadata": {},
   "source": [
    "##### Business Insights\n",
    "\n",
    "- **Pelanggan dengan kontrak bulanan (`Month-to-month`) yang *churn* melakukannya sangat cepat, dengan median masa berlangganan hanya 7 bulan.** Ini menegaskan bahwa segmen kontrak bulanan adalah sumber utama dari *early churn* (pelanggan yang berhenti di awal).\n",
    "\n",
    "- **Anomali terjadi pada kontrak jangka panjang, di mana pelanggan yang *churn* justru memiliki masa berlangganan yang sangat lama (median 48-66 bulan).** Ini bukanlah *early churn*, melainkan *end-of-contract churn*, di mana pelanggan yang sudah setia lama memutuskan untuk tidak memperpanjang kontraknya.\n",
    "\n",
    "- **Secara keseluruhan, ada dua \"wajah\" *churn* yang berbeda tergantung jenis kontrak.** *Churn* pada kontrak bulanan adalah masalah retensi di fase awal, sementara *churn* pada kontrak jangka panjang adalah masalah saat perpanjangan kontrak."
   ]
  },
  {
   "cell_type": "markdown",
   "id": "6b22f863",
   "metadata": {},
   "source": [
    "### 2.7 Ringkasan Hasil Eksplorasi Data (Univariat dan Bivariat)\n",
    "\n",
    "#### 2.7.1 Ringkasan Analisis Univariat\n",
    "\n",
    "1. **Distribusi Lama Berlangganan (Tenure)**  \n",
    "   Menunjukkan pola bimodal, yang mengindikasikan keberadaan dua kelompok pelanggan utama: pelanggan baru (1–9 bulan) dan pelanggan loyal yang bertahan hingga 72 bulan. Temuan ini mengarah pada dua fase kritis dalam perjalanan pelanggan: fase risiko awal dan fase loyalitas jangka panjang.\n",
    "\n",
    "2. **Distribusi Total Pengeluaran (TotalCharges)**  \n",
    "   Memiliki kemiringan kanan (*right-skewed*), di mana sebagian besar pelanggan hanya memiliki pengeluaran total yang rendah. Hal ini mencerminkan tingginya angka churn pada fase awal langganan. Pelanggan churn cenderung memiliki biaya bulanan lebih tinggi namun total pengeluaran lebih rendah—kemungkinan besar karena mereka berhenti berlangganan dalam waktu singkat (tenure rendah).\n",
    "\n",
    "3. **Distribusi Biaya Bulanan (MonthlyCharges)**  \n",
    "   Menunjukkan distribusi bimodal dengan dua konsentrasi utama: paket murah dan mahal. Terdapat kekosongan pada segmen menengah, yang dapat mencerminkan potensi peluang pengembangan produk.\n",
    "\n",
    "4. **Distribusi Status Churn**  \n",
    "   Tidak seimbang; sebanyak 26% pelanggan mengalami churn, sedangkan sisanya masih aktif. Ketidakseimbangan ini penting diperhatikan dalam pemodelan klasifikasi agar tidak menimbulkan bias prediksi. Secara eksploratori, jenis kontrak tampak berkorelasi kuat dengan churn. Pelanggan month-to-month memiliki churn ~43%, jauh di atas kontrak jangka panjang (3–11%). Meski demikian, perlu dikaji apakah contract tetap signifikan secara statistik dalam model prediksi.\n",
    "\n",
    "5. **Variabel Demografis dan Layanan**  \n",
    "   Variabel seperti `gender` dan `PhoneService` tidak menunjukkan pola yang menonjol. Sementara itu, `SeniorCitizen`, `Partner`, dan `Dependents` memiliki perbedaan distribusi yang relevan untuk ditinjau lebih lanjut dalam konteks churn.\n",
    "\n",
    "#### 2.7.2 Ringkasan Analisis Bivariat\n",
    "\n",
    "1. **Tenure dan Churn**  \n",
    "   Pelanggan churn memiliki median lama langganan hanya 10 bulan, sedangkan pelanggan aktif memiliki median 38 bulan. Menunjukkan zona risiko churn tinggi pada awal masa langganan.\n",
    "\n",
    "2. **TotalCharges & MonthlyCharges dan Churn**  \n",
    "   Pelanggan churn cenderung memiliki biaya bulanan lebih tinggi namun total pengeluaran lebih rendah. Hal ini menandakan kelompok pelanggan berisiko: paket mahal, langganan pendek.\n",
    "\n",
    "3. **Jenis Layanan Internet & Add-ons dan Churn**  \n",
    "   Pelanggan *Fiber optic* memiliki tingkat churn tertinggi (~42%). Pelanggan tanpa layanan tambahan seperti *OnlineSecurity*, *TechSupport*, dan *DeviceProtection* juga memperlihatkan risiko churn yang lebih tinggi.\n",
    "\n",
    "4. **Jenis Kontrak dan Churn**  \n",
    "   Pelanggan dengan kontrak *Month-to-month* menunjukkan tingkat churn tertinggi (~43%), sedangkan kontrak jangka panjang memiliki churn jauh lebih rendah (3–11%). Secara visual eksploratori, Contract menunjukkan hubungan kuat dengan churn. Namun, dalam pemodelan, variabel ini perlu divalidasi lebih lanjut untuk memastikan signifikansinya secara prediktif.\n",
    "\n",
    "5. **Metode Pembayaran dan Churn**  \n",
    "   Metode pembayaran manual, terutama *Electronic check*, berkaitan dengan churn tertinggi (~45%). Sebaliknya, metode otomatis seperti *Credit card (automatic)* dan *Bank transfer* lebih banyak digunakan oleh pelanggan yang loyal.\n",
    "\n",
    "### 2.8 Rekomendasi Bisnis\n",
    "\n",
    "1. **Memperkuat Retensi pada Awal Langganan**  \n",
    "   Mengembangkan program onboarding dan insentif untuk pelanggan baru, terutama pada bulan-bulan pertama langganan (<10 bulan), untuk mencegah churn dini.\n",
    "\n",
    "2. **Mendorong Adopsi Layanan Tambahan**  \n",
    "   Menawarkan bundling layanan keamanan dan dukungan teknis kepada pelanggan Fiber optic, mengingat tingginya churn pada segmen ini—meski perlu kajian lebih lanjut apakah penyebab utamanya adalah jenis layanan, biaya, atau ketidakhadiran add-ons.\n",
    "\n",
    "3. **Meninjau Struktur Paket Produk dan Harga**  \n",
    "   Menyempurnakan segmentasi paket layanan, khususnya dengan memperkenalkan opsi menengah antara paket dasar dan premium guna menjembatani kesenjangan preferensi pelanggan.\n",
    "\n",
    "4. **Meningkatkan Penggunaan Kontrak Jangka Panjang**  \n",
    "   Memberikan insentif seperti diskon atau benefit eksklusif untuk mendorong perpindahan dari kontrak bulanan ke kontrak tahunan atau dua tahunan.\n",
    "\n",
    "5. **Mengalihkan Metode Pembayaran ke Sistem Otomatis**  \n",
    "   Menyediakan edukasi dan benefit tambahan untuk mendorong pelanggan agar beralih dari pembayaran manual ke metode otomatis guna menurunkan risiko churn yang terkait.\n",
    "\n",
    "### 2.9 Next Action\n",
    "\n",
    "1. **Melanjutkan ke Pemodelan Prediktif**  \n",
    "   Mengembangkan model klasifikasi churn menggunakan algoritma seperti *Logistic Regression*, *Random Forest*, atau *XGBoost*. Perlu mempertimbangkan ketidakseimbangan data melalui teknik seperti *SMOTE* atau *class weighting*.\n",
    "\n",
    "2. **Membangun Dashboard Pemantauan Churn**  \n",
    "   Mengembangkan visualisasi interaktif menggunakan Tableau untuk mendukung pengambilan keputusan oleh tim bisnis dan manajemen."
   ]
  },
  {
   "cell_type": "markdown",
   "id": "5255cecd",
   "metadata": {},
   "source": [
    "### 2.10 Save Dataset"
   ]
  },
  {
   "cell_type": "code",
   "execution_count": null,
   "id": "7cb74476",
   "metadata": {},
   "outputs": [],
   "source": [
    "df.to_csv('../data/telco_data_eda.csv', index=False)"
   ]
  }
 ],
 "metadata": {
  "kernelspec": {
   "display_name": "myenv",
   "language": "python",
   "name": "python3"
  },
  "language_info": {
   "codemirror_mode": {
    "name": "ipython",
    "version": 3
   },
   "file_extension": ".py",
   "mimetype": "text/x-python",
   "name": "python",
   "nbconvert_exporter": "python",
   "pygments_lexer": "ipython3",
   "version": "3.12.7"
  }
 },
 "nbformat": 4,
 "nbformat_minor": 5
}
